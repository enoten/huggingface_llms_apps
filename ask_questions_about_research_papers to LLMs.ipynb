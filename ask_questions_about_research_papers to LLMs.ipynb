{
 "cells": [
  {
   "cell_type": "markdown",
   "id": "5065cbca-a35b-4028-85f6-923d81f347ca",
   "metadata": {},
   "source": [
    "<img src=\"ask questions to LLMs what.jpg\" width=70%>"
   ]
  },
  {
   "cell_type": "markdown",
   "id": "12ee08b4-1d89-405c-9e6d-8bb25b6e59d1",
   "metadata": {},
   "source": [
    "## How to Ask Questions to LLMs"
   ]
  },
  {
   "cell_type": "markdown",
   "id": "833b2bfd-65c3-4774-b967-2d17ef684ef5",
   "metadata": {},
   "source": [
    "<h3>Code walk through video <a href=\"https://www.youtube.com/111\">How to Ask Questions to LLMs</a></b></h3>"
   ]
  },
  {
   "cell_type": "markdown",
   "id": "4ab13400-3547-490d-bb6e-9822559418e0",
   "metadata": {},
   "source": [
    "<a href=\"https://arxiv.org/pdf/1706.03762\">Attention is all you need</a>"
   ]
  },
  {
   "cell_type": "markdown",
   "id": "2ef18776-e541-4c67-8211-5ae638941a87",
   "metadata": {},
   "source": [
    "<img src=\"attention.jpg\">"
   ]
  },
  {
   "cell_type": "markdown",
   "id": "7ba624af-08c6-4a26-8907-404caba2b7bd",
   "metadata": {},
   "source": [
    "<a href=\"https://arxiv.org/pdf/1810.04805\">BERT: Pre-training of Deep Bidirectional Transformers for Language Understanding</a>"
   ]
  },
  {
   "cell_type": "markdown",
   "id": "e1a6caf3-404a-414f-a090-4d5b309f463b",
   "metadata": {},
   "source": [
    "<img src=\"bert.jpg\">"
   ]
  },
  {
   "cell_type": "markdown",
   "id": "2d0c4a91-3191-4477-b858-aac9213f9fcf",
   "metadata": {},
   "source": [
    "## 1. Read PDF files with research papers using Llama-Index"
   ]
  },
  {
   "cell_type": "code",
   "execution_count": 3,
   "id": "d96e764e-ba80-4ba2-8b4d-5b54463e29b8",
   "metadata": {},
   "outputs": [],
   "source": [
    "from llama_index.embeddings.huggingface import HuggingFaceEmbedding\n",
    "from llama_index.core import Settings, SimpleDirectoryReader, VectorStoreIndex\n",
    "from llama_index.core.retrievers import VectorIndexRetriever\n",
    "from llama_index.core.query_engine import RetrieverQueryEngine\n",
    "from llama_index.core.postprocessor import SimilarityPostprocessor"
   ]
  },
  {
   "cell_type": "code",
   "execution_count": 4,
   "id": "4f578bb7-7f8e-48ab-ac8e-af26a16aaf9f",
   "metadata": {},
   "outputs": [],
   "source": [
    "import os\n",
    "import time\n",
    "import pandas as pd"
   ]
  },
  {
   "cell_type": "markdown",
   "id": "4e1c69ab-b754-4d7d-8c21-bc39ec737fe7",
   "metadata": {},
   "source": [
    "<b>1.1 Setup model for embeddings</b>"
   ]
  },
  {
   "cell_type": "code",
   "execution_count": 5,
   "id": "c478cf42-6550-4cd3-8a3c-c42f24dfc451",
   "metadata": {},
   "outputs": [
    {
     "name": "stdout",
     "output_type": "stream",
     "text": [
      "LLM is explicitly disabled. Using MockLLM.\n"
     ]
    }
   ],
   "source": [
    "Settings.embed_model = HuggingFaceEmbedding(model_name=\"BAAI/bge-small-en-v1.5\")\n",
    "Settings.llm = None\n",
    "Settings.chunk_size = 128\n",
    "Settings.chunk_overlap = 25"
   ]
  },
  {
   "cell_type": "markdown",
   "id": "c8b37a1e-4cbd-49c9-b130-8b9b14d1aa4b",
   "metadata": {},
   "source": [
    "<b>1.2 Read files one by one from the directory</b>"
   ]
  },
  {
   "cell_type": "code",
   "execution_count": 6,
   "id": "a6ba0322-49db-4c51-b1e6-29d80e890958",
   "metadata": {},
   "outputs": [
    {
     "data": {
      "text/plain": [
       "{'fs': <fsspec.implementations.local.LocalFileSystem at 0x10ce2c324f0>,\n",
       " 'errors': 'ignore',\n",
       " 'encoding': 'utf-8',\n",
       " 'exclude': None,\n",
       " 'recursive': True,\n",
       " 'exclude_hidden': True,\n",
       " 'required_exts': None,\n",
       " 'num_files_limit': None,\n",
       " 'raise_on_error': False,\n",
       " 'input_dir': WindowsPath('papers'),\n",
       " 'input_files': [WindowsPath('C:/Users/18623/Desktop/PhiAi/Jupyter/papers/attention is all you need 1706.03762v7.pdf'),\n",
       "  WindowsPath('C:/Users/18623/Desktop/PhiAi/Jupyter/papers/BERT pre_training of deep bidirectional transformers for language understanding 1810.04805v2.pdf')],\n",
       " 'file_extractor': {},\n",
       " 'file_metadata': <llama_index.core.readers.file.base._DefaultFileMetadataFunc at 0x10ce2c37d30>,\n",
       " 'filename_as_id': False}"
      ]
     },
     "execution_count": 6,
     "metadata": {},
     "output_type": "execute_result"
    }
   ],
   "source": [
    "reader = SimpleDirectoryReader(input_dir=\"papers\", recursive=True)\n",
    "reader.__dict__"
   ]
  },
  {
   "cell_type": "code",
   "execution_count": 137,
   "id": "9c536b42-253f-4146-a0f7-d61471a2cd83",
   "metadata": {},
   "outputs": [
    {
     "data": {
      "text/plain": [
       "[WindowsPath('C:/Users/18623/Desktop/PhiAi/Jupyter/papers/attention is all you need 1706.03762v7.pdf'),\n",
       " WindowsPath('C:/Users/18623/Desktop/PhiAi/Jupyter/papers/BERT pre_training of deep bidirectional transformers for language understanding 1810.04805v2.pdf')]"
      ]
     },
     "execution_count": 137,
     "metadata": {},
     "output_type": "execute_result"
    }
   ],
   "source": [
    "reader.__dict__['input_files']"
   ]
  },
  {
   "cell_type": "code",
   "execution_count": 138,
   "id": "90dba2cd-8c95-4e30-8787-50f96944d61e",
   "metadata": {},
   "outputs": [
    {
     "data": {
      "text/plain": [
       "[WindowsPath('C:/Users/18623/Desktop/PhiAi/Jupyter/papers/attention is all you need 1706.03762v7.pdf'),\n",
       " WindowsPath('C:/Users/18623/Desktop/PhiAi/Jupyter/papers/BERT pre_training of deep bidirectional transformers for language understanding 1810.04805v2.pdf')]"
      ]
     },
     "execution_count": 138,
     "metadata": {},
     "output_type": "execute_result"
    }
   ],
   "source": [
    "reader.input_files"
   ]
  },
  {
   "cell_type": "markdown",
   "id": "f7cd910b-9b01-4808-814a-189a964c18d5",
   "metadata": {},
   "source": [
    "<b>1.3 Store Text chunks in a dict to trace chunk-paper mapping</b>"
   ]
  },
  {
   "cell_type": "code",
   "execution_count": 8,
   "id": "f103d12c-8486-428d-bfb6-362c3d1ab93d",
   "metadata": {},
   "outputs": [
    {
     "name": "stdout",
     "output_type": "stream",
     "text": [
      "Extract from file attention is all you need 1706.03762v7.pdf\n",
      "Extract from file BERT pre_training of deep bidirectional transformers for language understanding 1810.04805v2.pdf\n"
     ]
    }
   ],
   "source": [
    "pdf_files = reader.__dict__['input_files']\n",
    "all_docs = []\n",
    "doc_dict = {}\n",
    "for i,docs in enumerate(reader.iter_data()):\n",
    "    pdf_name = os.path.basename(pdf_files[i])\n",
    "    print(f'Extract from file {pdf_name}')\n",
    "    if pdf_name in doc_dict:\n",
    "        doc_dict[pdf_name] += [docs]\n",
    "    else:\n",
    "        doc_dict[pdf_name] = [docs]\n",
    "    all_docs.extend(docs)"
   ]
  },
  {
   "cell_type": "markdown",
   "id": "6c40a926-8a10-4689-9562-1421eb3bf2fd",
   "metadata": {},
   "source": [
    "<b>1.4 Inspect Llama-Index document class</b>"
   ]
  },
  {
   "cell_type": "code",
   "execution_count": 9,
   "id": "e193598e-04e6-4312-94ed-f7ea50956e12",
   "metadata": {},
   "outputs": [
    {
     "data": {
      "text/plain": [
       "dict_keys(['attention is all you need 1706.03762v7.pdf', 'BERT pre_training of deep bidirectional transformers for language understanding 1810.04805v2.pdf'])"
      ]
     },
     "execution_count": 9,
     "metadata": {},
     "output_type": "execute_result"
    }
   ],
   "source": [
    "doc_dict.keys()"
   ]
  },
  {
   "cell_type": "code",
   "execution_count": 10,
   "id": "0fb0fba0-47f3-4bea-b48e-573b0fe53648",
   "metadata": {},
   "outputs": [
    {
     "data": {
      "text/plain": [
       "{'attention is all you need 1706.03762v7.pdf': [[Document(id_='2e700a66-446a-4d2a-9c2b-140fb88968d8', embedding=None, metadata={'page_label': '1', 'file_name': 'attention is all you need 1706.03762v7.pdf', 'file_path': 'C:\\\\Users\\\\18623\\\\Desktop\\\\PhiAi\\\\Jupyter\\\\papers\\\\attention is all you need 1706.03762v7.pdf', 'file_type': 'application/pdf', 'file_size': 2215244, 'creation_date': '2024-12-11', 'last_modified_date': '2024-12-11'}, excluded_embed_metadata_keys=['file_name', 'file_type', 'file_size', 'creation_date', 'last_modified_date', 'last_accessed_date'], excluded_llm_metadata_keys=['file_name', 'file_type', 'file_size', 'creation_date', 'last_modified_date', 'last_accessed_date'], relationships={}, text='Provided proper attribution is provided, Google hereby grants permission to\\nreproduce the tables and figures in this paper solely for use in journalistic or\\nscholarly works.\\nAttention Is All You Need\\nAshish Vaswani∗\\nGoogle Brain\\navaswani@google.com\\nNoam Shazeer∗\\nGoogle Brain\\nnoam@google.com\\nNiki Parmar∗\\nGoogle Research\\nnikip@google.com\\nJakob Uszkoreit∗\\nGoogle Research\\nusz@google.com\\nLlion Jones∗\\nGoogle Research\\nllion@google.com\\nAidan N. Gomez∗ †\\nUniversity of Toronto\\naidan@cs.toronto.edu\\nŁukasz Kaiser∗\\nGoogle Brain\\nlukaszkaiser@google.com\\nIllia Polosukhin∗ ‡\\nillia.polosukhin@gmail.com\\nAbstract\\nThe dominant sequence transduction models are based on complex recurrent or\\nconvolutional neural networks that include an encoder and a decoder. The best\\nperforming models also connect the encoder and decoder through an attention\\nmechanism. We propose a new simple network architecture, the Transformer,\\nbased solely on attention mechanisms, dispensing with recurrence and convolutions\\nentirely. Experiments on two machine translation tasks show these models to\\nbe superior in quality while being more parallelizable and requiring significantly\\nless time to train. Our model achieves 28.4 BLEU on the WMT 2014 English-\\nto-German translation task, improving over the existing best results, including\\nensembles, by over 2 BLEU. On the WMT 2014 English-to-French translation task,\\nour model establishes a new single-model state-of-the-art BLEU score of 41.8 after\\ntraining for 3.5 days on eight GPUs, a small fraction of the training costs of the\\nbest models from the literature. We show that the Transformer generalizes well to\\nother tasks by applying it successfully to English constituency parsing both with\\nlarge and limited training data.\\n∗Equal contribution. Listing order is random. Jakob proposed replacing RNNs with self-attention and started\\nthe effort to evaluate this idea. Ashish, with Illia, designed and implemented the first Transformer models and\\nhas been crucially involved in every aspect of this work. Noam proposed scaled dot-product attention, multi-head\\nattention and the parameter-free position representation and became the other person involved in nearly every\\ndetail. Niki designed, implemented, tuned and evaluated countless model variants in our original codebase and\\ntensor2tensor. Llion also experimented with novel model variants, was responsible for our initial codebase, and\\nefficient inference and visualizations. Lukasz and Aidan spent countless long days designing various parts of and\\nimplementing tensor2tensor, replacing our earlier codebase, greatly improving results and massively accelerating\\nour research.\\n†Work performed while at Google Brain.\\n‡Work performed while at Google Research.\\n31st Conference on Neural Information Processing Systems (NIPS 2017), Long Beach, CA, USA.\\narXiv:1706.03762v7  [cs.CL]  2 Aug 2023', mimetype='text/plain', start_char_idx=None, end_char_idx=None, text_template='{metadata_str}\\n\\n{content}', metadata_template='{key}: {value}', metadata_seperator='\\n'),\n",
       "   Document(id_='0d93cb72-9495-4354-a7f4-e5b49ab00732', embedding=None, metadata={'page_label': '2', 'file_name': 'attention is all you need 1706.03762v7.pdf', 'file_path': 'C:\\\\Users\\\\18623\\\\Desktop\\\\PhiAi\\\\Jupyter\\\\papers\\\\attention is all you need 1706.03762v7.pdf', 'file_type': 'application/pdf', 'file_size': 2215244, 'creation_date': '2024-12-11', 'last_modified_date': '2024-12-11'}, excluded_embed_metadata_keys=['file_name', 'file_type', 'file_size', 'creation_date', 'last_modified_date', 'last_accessed_date'], excluded_llm_metadata_keys=['file_name', 'file_type', 'file_size', 'creation_date', 'last_modified_date', 'last_accessed_date'], relationships={}, text='1 Introduction\\nRecurrent neural networks, long short-term memory [13] and gated recurrent [7] neural networks\\nin particular, have been firmly established as state of the art approaches in sequence modeling and\\ntransduction problems such as language modeling and machine translation [ 35, 2, 5]. Numerous\\nefforts have since continued to push the boundaries of recurrent language models and encoder-decoder\\narchitectures [38, 24, 15].\\nRecurrent models typically factor computation along the symbol positions of the input and output\\nsequences. Aligning the positions to steps in computation time, they generate a sequence of hidden\\nstates ht, as a function of the previous hidden state ht−1 and the input for position t. This inherently\\nsequential nature precludes parallelization within training examples, which becomes critical at longer\\nsequence lengths, as memory constraints limit batching across examples. Recent work has achieved\\nsignificant improvements in computational efficiency through factorization tricks [21] and conditional\\ncomputation [32], while also improving model performance in case of the latter. The fundamental\\nconstraint of sequential computation, however, remains.\\nAttention mechanisms have become an integral part of compelling sequence modeling and transduc-\\ntion models in various tasks, allowing modeling of dependencies without regard to their distance in\\nthe input or output sequences [2, 19]. In all but a few cases [27], however, such attention mechanisms\\nare used in conjunction with a recurrent network.\\nIn this work we propose the Transformer, a model architecture eschewing recurrence and instead\\nrelying entirely on an attention mechanism to draw global dependencies between input and output.\\nThe Transformer allows for significantly more parallelization and can reach a new state of the art in\\ntranslation quality after being trained for as little as twelve hours on eight P100 GPUs.\\n2 Background\\nThe goal of reducing sequential computation also forms the foundation of the Extended Neural GPU\\n[16], ByteNet [18] and ConvS2S [9], all of which use convolutional neural networks as basic building\\nblock, computing hidden representations in parallel for all input and output positions. In these models,\\nthe number of operations required to relate signals from two arbitrary input or output positions grows\\nin the distance between positions, linearly for ConvS2S and logarithmically for ByteNet. This makes\\nit more difficult to learn dependencies between distant positions [ 12]. In the Transformer this is\\nreduced to a constant number of operations, albeit at the cost of reduced effective resolution due\\nto averaging attention-weighted positions, an effect we counteract with Multi-Head Attention as\\ndescribed in section 3.2.\\nSelf-attention, sometimes called intra-attention is an attention mechanism relating different positions\\nof a single sequence in order to compute a representation of the sequence. Self-attention has been\\nused successfully in a variety of tasks including reading comprehension, abstractive summarization,\\ntextual entailment and learning task-independent sentence representations [4, 27, 28, 22].\\nEnd-to-end memory networks are based on a recurrent attention mechanism instead of sequence-\\naligned recurrence and have been shown to perform well on simple-language question answering and\\nlanguage modeling tasks [34].\\nTo the best of our knowledge, however, the Transformer is the first transduction model relying\\nentirely on self-attention to compute representations of its input and output without using sequence-\\naligned RNNs or convolution. In the following sections, we will describe the Transformer, motivate\\nself-attention and discuss its advantages over models such as [17, 18] and [9].\\n3 Model Architecture\\nMost competitive neural sequence transduction models have an encoder-decoder structure [5, 2, 35].\\nHere, the encoder maps an input sequence of symbol representations (x1, ..., xn) to a sequence\\nof continuous representations z = (z1, ..., zn). Given z, the decoder then generates an output\\nsequence (y1, ..., ym) of symbols one element at a time. At each step the model is auto-regressive\\n[10], consuming the previously generated symbols as additional input when generating the next.\\n2', mimetype='text/plain', start_char_idx=None, end_char_idx=None, text_template='{metadata_str}\\n\\n{content}', metadata_template='{key}: {value}', metadata_seperator='\\n'),\n",
       "   Document(id_='726ca325-1dfa-49fb-bec5-fdccf8adce87', embedding=None, metadata={'page_label': '3', 'file_name': 'attention is all you need 1706.03762v7.pdf', 'file_path': 'C:\\\\Users\\\\18623\\\\Desktop\\\\PhiAi\\\\Jupyter\\\\papers\\\\attention is all you need 1706.03762v7.pdf', 'file_type': 'application/pdf', 'file_size': 2215244, 'creation_date': '2024-12-11', 'last_modified_date': '2024-12-11'}, excluded_embed_metadata_keys=['file_name', 'file_type', 'file_size', 'creation_date', 'last_modified_date', 'last_accessed_date'], excluded_llm_metadata_keys=['file_name', 'file_type', 'file_size', 'creation_date', 'last_modified_date', 'last_accessed_date'], relationships={}, text='Figure 1: The Transformer - model architecture.\\nThe Transformer follows this overall architecture using stacked self-attention and point-wise, fully\\nconnected layers for both the encoder and decoder, shown in the left and right halves of Figure 1,\\nrespectively.\\n3.1 Encoder and Decoder Stacks\\nEncoder: The encoder is composed of a stack of N = 6 identical layers. Each layer has two\\nsub-layers. The first is a multi-head self-attention mechanism, and the second is a simple, position-\\nwise fully connected feed-forward network. We employ a residual connection [11] around each of\\nthe two sub-layers, followed by layer normalization [ 1]. That is, the output of each sub-layer is\\nLayerNorm(x + Sublayer(x)), where Sublayer(x) is the function implemented by the sub-layer\\nitself. To facilitate these residual connections, all sub-layers in the model, as well as the embedding\\nlayers, produce outputs of dimension dmodel = 512.\\nDecoder: The decoder is also composed of a stack of N = 6identical layers. In addition to the two\\nsub-layers in each encoder layer, the decoder inserts a third sub-layer, which performs multi-head\\nattention over the output of the encoder stack. Similar to the encoder, we employ residual connections\\naround each of the sub-layers, followed by layer normalization. We also modify the self-attention\\nsub-layer in the decoder stack to prevent positions from attending to subsequent positions. This\\nmasking, combined with fact that the output embeddings are offset by one position, ensures that the\\npredictions for position i can depend only on the known outputs at positions less than i.\\n3.2 Attention\\nAn attention function can be described as mapping a query and a set of key-value pairs to an output,\\nwhere the query, keys, values, and output are all vectors. The output is computed as a weighted sum\\n3', mimetype='text/plain', start_char_idx=None, end_char_idx=None, text_template='{metadata_str}\\n\\n{content}', metadata_template='{key}: {value}', metadata_seperator='\\n'),\n",
       "   Document(id_='62524980-dfbc-41e3-8d04-ce6f988c4133', embedding=None, metadata={'page_label': '4', 'file_name': 'attention is all you need 1706.03762v7.pdf', 'file_path': 'C:\\\\Users\\\\18623\\\\Desktop\\\\PhiAi\\\\Jupyter\\\\papers\\\\attention is all you need 1706.03762v7.pdf', 'file_type': 'application/pdf', 'file_size': 2215244, 'creation_date': '2024-12-11', 'last_modified_date': '2024-12-11'}, excluded_embed_metadata_keys=['file_name', 'file_type', 'file_size', 'creation_date', 'last_modified_date', 'last_accessed_date'], excluded_llm_metadata_keys=['file_name', 'file_type', 'file_size', 'creation_date', 'last_modified_date', 'last_accessed_date'], relationships={}, text='Scaled Dot-Product Attention\\n Multi-Head Attention\\nFigure 2: (left) Scaled Dot-Product Attention. (right) Multi-Head Attention consists of several\\nattention layers running in parallel.\\nof the values, where the weight assigned to each value is computed by a compatibility function of the\\nquery with the corresponding key.\\n3.2.1 Scaled Dot-Product Attention\\nWe call our particular attention \"Scaled Dot-Product Attention\" (Figure 2). The input consists of\\nqueries and keys of dimension dk, and values of dimension dv. We compute the dot products of the\\nquery with all keys, divide each by √dk, and apply a softmax function to obtain the weights on the\\nvalues.\\nIn practice, we compute the attention function on a set of queries simultaneously, packed together\\ninto a matrix Q. The keys and values are also packed together into matrices K and V . We compute\\nthe matrix of outputs as:\\nAttention(Q, K, V) = softmax(QKT\\n√dk\\n)V (1)\\nThe two most commonly used attention functions are additive attention [2], and dot-product (multi-\\nplicative) attention. Dot-product attention is identical to our algorithm, except for the scaling factor\\nof 1√dk\\n. Additive attention computes the compatibility function using a feed-forward network with\\na single hidden layer. While the two are similar in theoretical complexity, dot-product attention is\\nmuch faster and more space-efficient in practice, since it can be implemented using highly optimized\\nmatrix multiplication code.\\nWhile for small values of dk the two mechanisms perform similarly, additive attention outperforms\\ndot product attention without scaling for larger values of dk [3]. We suspect that for large values of\\ndk, the dot products grow large in magnitude, pushing the softmax function into regions where it has\\nextremely small gradients 4. To counteract this effect, we scale the dot products by 1√dk\\n.\\n3.2.2 Multi-Head Attention\\nInstead of performing a single attention function with dmodel-dimensional keys, values and queries,\\nwe found it beneficial to linearly project the queries, keys and values h times with different, learned\\nlinear projections to dk, dk and dv dimensions, respectively. On each of these projected versions of\\nqueries, keys and values we then perform the attention function in parallel, yielding dv-dimensional\\n4To illustrate why the dot products get large, assume that the components of q and k are independent random\\nvariables with mean 0 and variance 1. Then their dot product, q · k = Pdk\\ni=1 qiki, has mean 0 and variance dk.\\n4', mimetype='text/plain', start_char_idx=None, end_char_idx=None, text_template='{metadata_str}\\n\\n{content}', metadata_template='{key}: {value}', metadata_seperator='\\n'),\n",
       "   Document(id_='631d2129-2ddc-4a0e-9c22-8a4536683599', embedding=None, metadata={'page_label': '5', 'file_name': 'attention is all you need 1706.03762v7.pdf', 'file_path': 'C:\\\\Users\\\\18623\\\\Desktop\\\\PhiAi\\\\Jupyter\\\\papers\\\\attention is all you need 1706.03762v7.pdf', 'file_type': 'application/pdf', 'file_size': 2215244, 'creation_date': '2024-12-11', 'last_modified_date': '2024-12-11'}, excluded_embed_metadata_keys=['file_name', 'file_type', 'file_size', 'creation_date', 'last_modified_date', 'last_accessed_date'], excluded_llm_metadata_keys=['file_name', 'file_type', 'file_size', 'creation_date', 'last_modified_date', 'last_accessed_date'], relationships={}, text='output values. These are concatenated and once again projected, resulting in the final values, as\\ndepicted in Figure 2.\\nMulti-head attention allows the model to jointly attend to information from different representation\\nsubspaces at different positions. With a single attention head, averaging inhibits this.\\nMultiHead(Q, K, V) = Concat(head1, ...,headh)WO\\nwhere headi = Attention(QWQ\\ni , KWK\\ni , V WV\\ni )\\nWhere the projections are parameter matricesWQ\\ni ∈ Rdmodel×dk , WK\\ni ∈ Rdmodel×dk , WV\\ni ∈ Rdmodel×dv\\nand WO ∈ Rhdv×dmodel .\\nIn this work we employ h = 8 parallel attention layers, or heads. For each of these we use\\ndk = dv = dmodel/h = 64. Due to the reduced dimension of each head, the total computational cost\\nis similar to that of single-head attention with full dimensionality.\\n3.2.3 Applications of Attention in our Model\\nThe Transformer uses multi-head attention in three different ways:\\n• In \"encoder-decoder attention\" layers, the queries come from the previous decoder layer,\\nand the memory keys and values come from the output of the encoder. This allows every\\nposition in the decoder to attend over all positions in the input sequence. This mimics the\\ntypical encoder-decoder attention mechanisms in sequence-to-sequence models such as\\n[38, 2, 9].\\n• The encoder contains self-attention layers. In a self-attention layer all of the keys, values\\nand queries come from the same place, in this case, the output of the previous layer in the\\nencoder. Each position in the encoder can attend to all positions in the previous layer of the\\nencoder.\\n• Similarly, self-attention layers in the decoder allow each position in the decoder to attend to\\nall positions in the decoder up to and including that position. We need to prevent leftward\\ninformation flow in the decoder to preserve the auto-regressive property. We implement this\\ninside of scaled dot-product attention by masking out (setting to −∞) all values in the input\\nof the softmax which correspond to illegal connections. See Figure 2.\\n3.3 Position-wise Feed-Forward Networks\\nIn addition to attention sub-layers, each of the layers in our encoder and decoder contains a fully\\nconnected feed-forward network, which is applied to each position separately and identically. This\\nconsists of two linear transformations with a ReLU activation in between.\\nFFN(x) = max(0, xW1 + b1)W2 + b2 (2)\\nWhile the linear transformations are the same across different positions, they use different parameters\\nfrom layer to layer. Another way of describing this is as two convolutions with kernel size 1.\\nThe dimensionality of input and output is dmodel = 512, and the inner-layer has dimensionality\\ndff = 2048.\\n3.4 Embeddings and Softmax\\nSimilarly to other sequence transduction models, we use learned embeddings to convert the input\\ntokens and output tokens to vectors of dimension dmodel. We also use the usual learned linear transfor-\\nmation and softmax function to convert the decoder output to predicted next-token probabilities. In\\nour model, we share the same weight matrix between the two embedding layers and the pre-softmax\\nlinear transformation, similar to [30]. In the embedding layers, we multiply those weights by √dmodel.\\n5', mimetype='text/plain', start_char_idx=None, end_char_idx=None, text_template='{metadata_str}\\n\\n{content}', metadata_template='{key}: {value}', metadata_seperator='\\n'),\n",
       "   Document(id_='1420e101-c828-48f5-9bbb-3aa2d97b791a', embedding=None, metadata={'page_label': '6', 'file_name': 'attention is all you need 1706.03762v7.pdf', 'file_path': 'C:\\\\Users\\\\18623\\\\Desktop\\\\PhiAi\\\\Jupyter\\\\papers\\\\attention is all you need 1706.03762v7.pdf', 'file_type': 'application/pdf', 'file_size': 2215244, 'creation_date': '2024-12-11', 'last_modified_date': '2024-12-11'}, excluded_embed_metadata_keys=['file_name', 'file_type', 'file_size', 'creation_date', 'last_modified_date', 'last_accessed_date'], excluded_llm_metadata_keys=['file_name', 'file_type', 'file_size', 'creation_date', 'last_modified_date', 'last_accessed_date'], relationships={}, text='Table 1: Maximum path lengths, per-layer complexity and minimum number of sequential operations\\nfor different layer types. n is the sequence length, d is the representation dimension, k is the kernel\\nsize of convolutions and r the size of the neighborhood in restricted self-attention.\\nLayer Type Complexity per Layer Sequential Maximum Path Length\\nOperations\\nSelf-Attention O(n2 · d) O(1) O(1)\\nRecurrent O(n · d2) O(n) O(n)\\nConvolutional O(k · n · d2) O(1) O(logk(n))\\nSelf-Attention (restricted) O(r · n · d) O(1) O(n/r)\\n3.5 Positional Encoding\\nSince our model contains no recurrence and no convolution, in order for the model to make use of the\\norder of the sequence, we must inject some information about the relative or absolute position of the\\ntokens in the sequence. To this end, we add \"positional encodings\" to the input embeddings at the\\nbottoms of the encoder and decoder stacks. The positional encodings have the same dimension dmodel\\nas the embeddings, so that the two can be summed. There are many choices of positional encodings,\\nlearned and fixed [9].\\nIn this work, we use sine and cosine functions of different frequencies:\\nP E(pos,2i) = sin(pos/100002i/dmodel )\\nP E(pos,2i+1) = cos(pos/100002i/dmodel )\\nwhere pos is the position and i is the dimension. That is, each dimension of the positional encoding\\ncorresponds to a sinusoid. The wavelengths form a geometric progression from 2π to 10000 · 2π. We\\nchose this function because we hypothesized it would allow the model to easily learn to attend by\\nrelative positions, since for any fixed offset k, P Epos+k can be represented as a linear function of\\nP Epos.\\nWe also experimented with using learned positional embeddings [9] instead, and found that the two\\nversions produced nearly identical results (see Table 3 row (E)). We chose the sinusoidal version\\nbecause it may allow the model to extrapolate to sequence lengths longer than the ones encountered\\nduring training.\\n4 Why Self-Attention\\nIn this section we compare various aspects of self-attention layers to the recurrent and convolu-\\ntional layers commonly used for mapping one variable-length sequence of symbol representations\\n(x1, ..., xn) to another sequence of equal length (z1, ..., zn), with xi, zi ∈ Rd, such as a hidden\\nlayer in a typical sequence transduction encoder or decoder. Motivating our use of self-attention we\\nconsider three desiderata.\\nOne is the total computational complexity per layer. Another is the amount of computation that can\\nbe parallelized, as measured by the minimum number of sequential operations required.\\nThe third is the path length between long-range dependencies in the network. Learning long-range\\ndependencies is a key challenge in many sequence transduction tasks. One key factor affecting the\\nability to learn such dependencies is the length of the paths forward and backward signals have to\\ntraverse in the network. The shorter these paths between any combination of positions in the input\\nand output sequences, the easier it is to learn long-range dependencies [12]. Hence we also compare\\nthe maximum path length between any two input and output positions in networks composed of the\\ndifferent layer types.\\nAs noted in Table 1, a self-attention layer connects all positions with a constant number of sequentially\\nexecuted operations, whereas a recurrent layer requires O(n) sequential operations. In terms of\\ncomputational complexity, self-attention layers are faster than recurrent layers when the sequence\\n6', mimetype='text/plain', start_char_idx=None, end_char_idx=None, text_template='{metadata_str}\\n\\n{content}', metadata_template='{key}: {value}', metadata_seperator='\\n'),\n",
       "   Document(id_='bd3fb26c-eb44-4621-a032-2217a0192e8c', embedding=None, metadata={'page_label': '7', 'file_name': 'attention is all you need 1706.03762v7.pdf', 'file_path': 'C:\\\\Users\\\\18623\\\\Desktop\\\\PhiAi\\\\Jupyter\\\\papers\\\\attention is all you need 1706.03762v7.pdf', 'file_type': 'application/pdf', 'file_size': 2215244, 'creation_date': '2024-12-11', 'last_modified_date': '2024-12-11'}, excluded_embed_metadata_keys=['file_name', 'file_type', 'file_size', 'creation_date', 'last_modified_date', 'last_accessed_date'], excluded_llm_metadata_keys=['file_name', 'file_type', 'file_size', 'creation_date', 'last_modified_date', 'last_accessed_date'], relationships={}, text='length n is smaller than the representation dimensionality d, which is most often the case with\\nsentence representations used by state-of-the-art models in machine translations, such as word-piece\\n[38] and byte-pair [31] representations. To improve computational performance for tasks involving\\nvery long sequences, self-attention could be restricted to considering only a neighborhood of size r in\\nthe input sequence centered around the respective output position. This would increase the maximum\\npath length to O(n/r). We plan to investigate this approach further in future work.\\nA single convolutional layer with kernel width k < ndoes not connect all pairs of input and output\\npositions. Doing so requires a stack of O(n/k) convolutional layers in the case of contiguous kernels,\\nor O(logk(n)) in the case of dilated convolutions [ 18], increasing the length of the longest paths\\nbetween any two positions in the network. Convolutional layers are generally more expensive than\\nrecurrent layers, by a factor of k. Separable convolutions [ 6], however, decrease the complexity\\nconsiderably, to O(k · n · d + n · d2). Even with k = n, however, the complexity of a separable\\nconvolution is equal to the combination of a self-attention layer and a point-wise feed-forward layer,\\nthe approach we take in our model.\\nAs side benefit, self-attention could yield more interpretable models. We inspect attention distributions\\nfrom our models and present and discuss examples in the appendix. Not only do individual attention\\nheads clearly learn to perform different tasks, many appear to exhibit behavior related to the syntactic\\nand semantic structure of the sentences.\\n5 Training\\nThis section describes the training regime for our models.\\n5.1 Training Data and Batching\\nWe trained on the standard WMT 2014 English-German dataset consisting of about 4.5 million\\nsentence pairs. Sentences were encoded using byte-pair encoding [ 3], which has a shared source-\\ntarget vocabulary of about 37000 tokens. For English-French, we used the significantly larger WMT\\n2014 English-French dataset consisting of 36M sentences and split tokens into a 32000 word-piece\\nvocabulary [38]. Sentence pairs were batched together by approximate sequence length. Each training\\nbatch contained a set of sentence pairs containing approximately 25000 source tokens and 25000\\ntarget tokens.\\n5.2 Hardware and Schedule\\nWe trained our models on one machine with 8 NVIDIA P100 GPUs. For our base models using\\nthe hyperparameters described throughout the paper, each training step took about 0.4 seconds. We\\ntrained the base models for a total of 100,000 steps or 12 hours. For our big models,(described on the\\nbottom line of table 3), step time was 1.0 seconds. The big models were trained for 300,000 steps\\n(3.5 days).\\n5.3 Optimizer\\nWe used the Adam optimizer [20] with β1 = 0.9, β2 = 0.98 and ϵ = 10−9. We varied the learning\\nrate over the course of training, according to the formula:\\nlrate = d−0.5\\nmodel · min(step_num−0.5, step_num · warmup_steps−1.5) (3)\\nThis corresponds to increasing the learning rate linearly for the first warmup_steps training steps,\\nand decreasing it thereafter proportionally to the inverse square root of the step number. We used\\nwarmup_steps = 4000.\\n5.4 Regularization\\nWe employ three types of regularization during training:\\n7', mimetype='text/plain', start_char_idx=None, end_char_idx=None, text_template='{metadata_str}\\n\\n{content}', metadata_template='{key}: {value}', metadata_seperator='\\n'),\n",
       "   Document(id_='8e7ee4ea-4077-4580-b494-81253d0ab8cb', embedding=None, metadata={'page_label': '8', 'file_name': 'attention is all you need 1706.03762v7.pdf', 'file_path': 'C:\\\\Users\\\\18623\\\\Desktop\\\\PhiAi\\\\Jupyter\\\\papers\\\\attention is all you need 1706.03762v7.pdf', 'file_type': 'application/pdf', 'file_size': 2215244, 'creation_date': '2024-12-11', 'last_modified_date': '2024-12-11'}, excluded_embed_metadata_keys=['file_name', 'file_type', 'file_size', 'creation_date', 'last_modified_date', 'last_accessed_date'], excluded_llm_metadata_keys=['file_name', 'file_type', 'file_size', 'creation_date', 'last_modified_date', 'last_accessed_date'], relationships={}, text='Table 2: The Transformer achieves better BLEU scores than previous state-of-the-art models on the\\nEnglish-to-German and English-to-French newstest2014 tests at a fraction of the training cost.\\nModel\\nBLEU Training Cost (FLOPs)\\nEN-DE EN-FR EN-DE EN-FR\\nByteNet [18] 23.75\\nDeep-Att + PosUnk [39] 39.2 1.0 · 1020\\nGNMT + RL [38] 24.6 39.92 2.3 · 1019 1.4 · 1020\\nConvS2S [9] 25.16 40.46 9.6 · 1018 1.5 · 1020\\nMoE [32] 26.03 40.56 2.0 · 1019 1.2 · 1020\\nDeep-Att + PosUnk Ensemble [39] 40.4 8.0 · 1020\\nGNMT + RL Ensemble [38] 26.30 41.16 1.8 · 1020 1.1 · 1021\\nConvS2S Ensemble [9] 26.36 41.29 7.7 · 1019 1.2 · 1021\\nTransformer (base model) 27.3 38.1 3.3 · 1018\\nTransformer (big) 28.4 41.8 2.3 · 1019\\nResidual Dropout We apply dropout [33] to the output of each sub-layer, before it is added to the\\nsub-layer input and normalized. In addition, we apply dropout to the sums of the embeddings and the\\npositional encodings in both the encoder and decoder stacks. For the base model, we use a rate of\\nPdrop = 0.1.\\nLabel Smoothing During training, we employed label smoothing of value ϵls = 0.1 [36]. This\\nhurts perplexity, as the model learns to be more unsure, but improves accuracy and BLEU score.\\n6 Results\\n6.1 Machine Translation\\nOn the WMT 2014 English-to-German translation task, the big transformer model (Transformer (big)\\nin Table 2) outperforms the best previously reported models (including ensembles) by more than 2.0\\nBLEU, establishing a new state-of-the-art BLEU score of 28.4. The configuration of this model is\\nlisted in the bottom line of Table 3. Training took 3.5 days on 8 P100 GPUs. Even our base model\\nsurpasses all previously published models and ensembles, at a fraction of the training cost of any of\\nthe competitive models.\\nOn the WMT 2014 English-to-French translation task, our big model achieves a BLEU score of 41.0,\\noutperforming all of the previously published single models, at less than 1/4 the training cost of the\\nprevious state-of-the-art model. The Transformer (big) model trained for English-to-French used\\ndropout rate Pdrop = 0.1, instead of 0.3.\\nFor the base models, we used a single model obtained by averaging the last 5 checkpoints, which\\nwere written at 10-minute intervals. For the big models, we averaged the last 20 checkpoints. We\\nused beam search with a beam size of 4 and length penalty α = 0.6 [38]. These hyperparameters\\nwere chosen after experimentation on the development set. We set the maximum output length during\\ninference to input length + 50, but terminate early when possible [38].\\nTable 2 summarizes our results and compares our translation quality and training costs to other model\\narchitectures from the literature. We estimate the number of floating point operations used to train a\\nmodel by multiplying the training time, the number of GPUs used, and an estimate of the sustained\\nsingle-precision floating-point capacity of each GPU 5.\\n6.2 Model Variations\\nTo evaluate the importance of different components of the Transformer, we varied our base model\\nin different ways, measuring the change in performance on English-to-German translation on the\\n5We used values of 2.8, 3.7, 6.0 and 9.5 TFLOPS for K80, K40, M40 and P100, respectively.\\n8', mimetype='text/plain', start_char_idx=None, end_char_idx=None, text_template='{metadata_str}\\n\\n{content}', metadata_template='{key}: {value}', metadata_seperator='\\n'),\n",
       "   Document(id_='b0c90773-9a56-423d-a48c-453905dc7aac', embedding=None, metadata={'page_label': '9', 'file_name': 'attention is all you need 1706.03762v7.pdf', 'file_path': 'C:\\\\Users\\\\18623\\\\Desktop\\\\PhiAi\\\\Jupyter\\\\papers\\\\attention is all you need 1706.03762v7.pdf', 'file_type': 'application/pdf', 'file_size': 2215244, 'creation_date': '2024-12-11', 'last_modified_date': '2024-12-11'}, excluded_embed_metadata_keys=['file_name', 'file_type', 'file_size', 'creation_date', 'last_modified_date', 'last_accessed_date'], excluded_llm_metadata_keys=['file_name', 'file_type', 'file_size', 'creation_date', 'last_modified_date', 'last_accessed_date'], relationships={}, text='Table 3: Variations on the Transformer architecture. Unlisted values are identical to those of the base\\nmodel. All metrics are on the English-to-German translation development set, newstest2013. Listed\\nperplexities are per-wordpiece, according to our byte-pair encoding, and should not be compared to\\nper-word perplexities.\\nN d model dff h d k dv Pdrop ϵls\\ntrain PPL BLEU params\\nsteps (dev) (dev) ×106\\nbase 6 512 2048 8 64 64 0.1 0.1 100K 4.92 25.8 65\\n(A)\\n1 512 512 5.29 24.9\\n4 128 128 5.00 25.5\\n16 32 32 4.91 25.8\\n32 16 16 5.01 25.4\\n(B) 16 5.16 25.1 58\\n32 5.01 25.4 60\\n(C)\\n2 6.11 23.7 36\\n4 5.19 25.3 50\\n8 4.88 25.5 80\\n256 32 32 5.75 24.5 28\\n1024 128 128 4.66 26.0 168\\n1024 5.12 25.4 53\\n4096 4.75 26.2 90\\n(D)\\n0.0 5.77 24.6\\n0.2 4.95 25.5\\n0.0 4.67 25.3\\n0.2 5.47 25.7\\n(E) positional embedding instead of sinusoids 4.92 25.7\\nbig 6 1024 4096 16 0.3 300K 4.33 26.4 213\\ndevelopment set, newstest2013. We used beam search as described in the previous section, but no\\ncheckpoint averaging. We present these results in Table 3.\\nIn Table 3 rows (A), we vary the number of attention heads and the attention key and value dimensions,\\nkeeping the amount of computation constant, as described in Section 3.2.2. While single-head\\nattention is 0.9 BLEU worse than the best setting, quality also drops off with too many heads.\\nIn Table 3 rows (B), we observe that reducing the attention key size dk hurts model quality. This\\nsuggests that determining compatibility is not easy and that a more sophisticated compatibility\\nfunction than dot product may be beneficial. We further observe in rows (C) and (D) that, as expected,\\nbigger models are better, and dropout is very helpful in avoiding over-fitting. In row (E) we replace our\\nsinusoidal positional encoding with learned positional embeddings [9], and observe nearly identical\\nresults to the base model.\\n6.3 English Constituency Parsing\\nTo evaluate if the Transformer can generalize to other tasks we performed experiments on English\\nconstituency parsing. This task presents specific challenges: the output is subject to strong structural\\nconstraints and is significantly longer than the input. Furthermore, RNN sequence-to-sequence\\nmodels have not been able to attain state-of-the-art results in small-data regimes [37].\\nWe trained a 4-layer transformer with dmodel = 1024on the Wall Street Journal (WSJ) portion of the\\nPenn Treebank [25], about 40K training sentences. We also trained it in a semi-supervised setting,\\nusing the larger high-confidence and BerkleyParser corpora from with approximately 17M sentences\\n[37]. We used a vocabulary of 16K tokens for the WSJ only setting and a vocabulary of 32K tokens\\nfor the semi-supervised setting.\\nWe performed only a small number of experiments to select the dropout, both attention and residual\\n(section 5.4), learning rates and beam size on the Section 22 development set, all other parameters\\nremained unchanged from the English-to-German base translation model. During inference, we\\n9', mimetype='text/plain', start_char_idx=None, end_char_idx=None, text_template='{metadata_str}\\n\\n{content}', metadata_template='{key}: {value}', metadata_seperator='\\n'),\n",
       "   Document(id_='9203e819-24a1-465b-afab-9531f0422fd8', embedding=None, metadata={'page_label': '10', 'file_name': 'attention is all you need 1706.03762v7.pdf', 'file_path': 'C:\\\\Users\\\\18623\\\\Desktop\\\\PhiAi\\\\Jupyter\\\\papers\\\\attention is all you need 1706.03762v7.pdf', 'file_type': 'application/pdf', 'file_size': 2215244, 'creation_date': '2024-12-11', 'last_modified_date': '2024-12-11'}, excluded_embed_metadata_keys=['file_name', 'file_type', 'file_size', 'creation_date', 'last_modified_date', 'last_accessed_date'], excluded_llm_metadata_keys=['file_name', 'file_type', 'file_size', 'creation_date', 'last_modified_date', 'last_accessed_date'], relationships={}, text='Table 4: The Transformer generalizes well to English constituency parsing (Results are on Section 23\\nof WSJ)\\nParser Training WSJ 23 F1\\nVinyals & Kaiser el al. (2014) [37] WSJ only, discriminative 88.3\\nPetrov et al. (2006) [29] WSJ only, discriminative 90.4\\nZhu et al. (2013) [40] WSJ only, discriminative 90.4\\nDyer et al. (2016) [8] WSJ only, discriminative 91.7\\nTransformer (4 layers) WSJ only, discriminative 91.3\\nZhu et al. (2013) [40] semi-supervised 91.3\\nHuang & Harper (2009) [14] semi-supervised 91.3\\nMcClosky et al. (2006) [26] semi-supervised 92.1\\nVinyals & Kaiser el al. (2014) [37] semi-supervised 92.1\\nTransformer (4 layers) semi-supervised 92.7\\nLuong et al. (2015) [23] multi-task 93.0\\nDyer et al. (2016) [8] generative 93.3\\nincreased the maximum output length to input length + 300. We used a beam size of 21 and α = 0.3\\nfor both WSJ only and the semi-supervised setting.\\nOur results in Table 4 show that despite the lack of task-specific tuning our model performs sur-\\nprisingly well, yielding better results than all previously reported models with the exception of the\\nRecurrent Neural Network Grammar [8].\\nIn contrast to RNN sequence-to-sequence models [37], the Transformer outperforms the Berkeley-\\nParser [29] even when training only on the WSJ training set of 40K sentences.\\n7 Conclusion\\nIn this work, we presented the Transformer, the first sequence transduction model based entirely on\\nattention, replacing the recurrent layers most commonly used in encoder-decoder architectures with\\nmulti-headed self-attention.\\nFor translation tasks, the Transformer can be trained significantly faster than architectures based\\non recurrent or convolutional layers. On both WMT 2014 English-to-German and WMT 2014\\nEnglish-to-French translation tasks, we achieve a new state of the art. In the former task our best\\nmodel outperforms even all previously reported ensembles.\\nWe are excited about the future of attention-based models and plan to apply them to other tasks. We\\nplan to extend the Transformer to problems involving input and output modalities other than text and\\nto investigate local, restricted attention mechanisms to efficiently handle large inputs and outputs\\nsuch as images, audio and video. Making generation less sequential is another research goals of ours.\\nThe code we used to train and evaluate our models is available at https://github.com/\\ntensorflow/tensor2tensor.\\nAcknowledgements We are grateful to Nal Kalchbrenner and Stephan Gouws for their fruitful\\ncomments, corrections and inspiration.\\nReferences\\n[1] Jimmy Lei Ba, Jamie Ryan Kiros, and Geoffrey E Hinton. Layer normalization. arXiv preprint\\narXiv:1607.06450, 2016.\\n[2] Dzmitry Bahdanau, Kyunghyun Cho, and Yoshua Bengio. Neural machine translation by jointly\\nlearning to align and translate. CoRR, abs/1409.0473, 2014.\\n[3] Denny Britz, Anna Goldie, Minh-Thang Luong, and Quoc V . Le. Massive exploration of neural\\nmachine translation architectures. CoRR, abs/1703.03906, 2017.\\n[4] Jianpeng Cheng, Li Dong, and Mirella Lapata. Long short-term memory-networks for machine\\nreading. arXiv preprint arXiv:1601.06733, 2016.\\n10', mimetype='text/plain', start_char_idx=None, end_char_idx=None, text_template='{metadata_str}\\n\\n{content}', metadata_template='{key}: {value}', metadata_seperator='\\n'),\n",
       "   Document(id_='00544475-2689-404f-a73c-16b61665e725', embedding=None, metadata={'page_label': '11', 'file_name': 'attention is all you need 1706.03762v7.pdf', 'file_path': 'C:\\\\Users\\\\18623\\\\Desktop\\\\PhiAi\\\\Jupyter\\\\papers\\\\attention is all you need 1706.03762v7.pdf', 'file_type': 'application/pdf', 'file_size': 2215244, 'creation_date': '2024-12-11', 'last_modified_date': '2024-12-11'}, excluded_embed_metadata_keys=['file_name', 'file_type', 'file_size', 'creation_date', 'last_modified_date', 'last_accessed_date'], excluded_llm_metadata_keys=['file_name', 'file_type', 'file_size', 'creation_date', 'last_modified_date', 'last_accessed_date'], relationships={}, text='[5] Kyunghyun Cho, Bart van Merrienboer, Caglar Gulcehre, Fethi Bougares, Holger Schwenk,\\nand Yoshua Bengio. Learning phrase representations using rnn encoder-decoder for statistical\\nmachine translation. CoRR, abs/1406.1078, 2014.\\n[6] Francois Chollet. Xception: Deep learning with depthwise separable convolutions. arXiv\\npreprint arXiv:1610.02357, 2016.\\n[7] Junyoung Chung, Çaglar Gülçehre, Kyunghyun Cho, and Yoshua Bengio. Empirical evaluation\\nof gated recurrent neural networks on sequence modeling. CoRR, abs/1412.3555, 2014.\\n[8] Chris Dyer, Adhiguna Kuncoro, Miguel Ballesteros, and Noah A. Smith. Recurrent neural\\nnetwork grammars. In Proc. of NAACL, 2016.\\n[9] Jonas Gehring, Michael Auli, David Grangier, Denis Yarats, and Yann N. Dauphin. Convolu-\\ntional sequence to sequence learning. arXiv preprint arXiv:1705.03122v2, 2017.\\n[10] Alex Graves. Generating sequences with recurrent neural networks. arXiv preprint\\narXiv:1308.0850, 2013.\\n[11] Kaiming He, Xiangyu Zhang, Shaoqing Ren, and Jian Sun. Deep residual learning for im-\\nage recognition. In Proceedings of the IEEE Conference on Computer Vision and Pattern\\nRecognition, pages 770–778, 2016.\\n[12] Sepp Hochreiter, Yoshua Bengio, Paolo Frasconi, and Jürgen Schmidhuber. Gradient flow in\\nrecurrent nets: the difficulty of learning long-term dependencies, 2001.\\n[13] Sepp Hochreiter and Jürgen Schmidhuber. Long short-term memory. Neural computation,\\n9(8):1735–1780, 1997.\\n[14] Zhongqiang Huang and Mary Harper. Self-training PCFG grammars with latent annotations\\nacross languages. In Proceedings of the 2009 Conference on Empirical Methods in Natural\\nLanguage Processing, pages 832–841. ACL, August 2009.\\n[15] Rafal Jozefowicz, Oriol Vinyals, Mike Schuster, Noam Shazeer, and Yonghui Wu. Exploring\\nthe limits of language modeling. arXiv preprint arXiv:1602.02410, 2016.\\n[16] Łukasz Kaiser and Samy Bengio. Can active memory replace attention? In Advances in Neural\\nInformation Processing Systems, (NIPS), 2016.\\n[17] Łukasz Kaiser and Ilya Sutskever. Neural GPUs learn algorithms. In International Conference\\non Learning Representations (ICLR), 2016.\\n[18] Nal Kalchbrenner, Lasse Espeholt, Karen Simonyan, Aaron van den Oord, Alex Graves, and Ko-\\nray Kavukcuoglu. Neural machine translation in linear time.arXiv preprint arXiv:1610.10099v2,\\n2017.\\n[19] Yoon Kim, Carl Denton, Luong Hoang, and Alexander M. Rush. Structured attention networks.\\nIn International Conference on Learning Representations, 2017.\\n[20] Diederik Kingma and Jimmy Ba. Adam: A method for stochastic optimization. In ICLR, 2015.\\n[21] Oleksii Kuchaiev and Boris Ginsburg. Factorization tricks for LSTM networks. arXiv preprint\\narXiv:1703.10722, 2017.\\n[22] Zhouhan Lin, Minwei Feng, Cicero Nogueira dos Santos, Mo Yu, Bing Xiang, Bowen\\nZhou, and Yoshua Bengio. A structured self-attentive sentence embedding. arXiv preprint\\narXiv:1703.03130, 2017.\\n[23] Minh-Thang Luong, Quoc V . Le, Ilya Sutskever, Oriol Vinyals, and Lukasz Kaiser. Multi-task\\nsequence to sequence learning. arXiv preprint arXiv:1511.06114, 2015.\\n[24] Minh-Thang Luong, Hieu Pham, and Christopher D Manning. Effective approaches to attention-\\nbased neural machine translation. arXiv preprint arXiv:1508.04025, 2015.\\n11', mimetype='text/plain', start_char_idx=None, end_char_idx=None, text_template='{metadata_str}\\n\\n{content}', metadata_template='{key}: {value}', metadata_seperator='\\n'),\n",
       "   Document(id_='3740696d-2068-41fc-afae-4d7d04ef4b3c', embedding=None, metadata={'page_label': '12', 'file_name': 'attention is all you need 1706.03762v7.pdf', 'file_path': 'C:\\\\Users\\\\18623\\\\Desktop\\\\PhiAi\\\\Jupyter\\\\papers\\\\attention is all you need 1706.03762v7.pdf', 'file_type': 'application/pdf', 'file_size': 2215244, 'creation_date': '2024-12-11', 'last_modified_date': '2024-12-11'}, excluded_embed_metadata_keys=['file_name', 'file_type', 'file_size', 'creation_date', 'last_modified_date', 'last_accessed_date'], excluded_llm_metadata_keys=['file_name', 'file_type', 'file_size', 'creation_date', 'last_modified_date', 'last_accessed_date'], relationships={}, text='[25] Mitchell P Marcus, Mary Ann Marcinkiewicz, and Beatrice Santorini. Building a large annotated\\ncorpus of english: The penn treebank. Computational linguistics, 19(2):313–330, 1993.\\n[26] David McClosky, Eugene Charniak, and Mark Johnson. Effective self-training for parsing. In\\nProceedings of the Human Language Technology Conference of the NAACL, Main Conference,\\npages 152–159. ACL, June 2006.\\n[27] Ankur Parikh, Oscar Täckström, Dipanjan Das, and Jakob Uszkoreit. A decomposable attention\\nmodel. In Empirical Methods in Natural Language Processing, 2016.\\n[28] Romain Paulus, Caiming Xiong, and Richard Socher. A deep reinforced model for abstractive\\nsummarization. arXiv preprint arXiv:1705.04304, 2017.\\n[29] Slav Petrov, Leon Barrett, Romain Thibaux, and Dan Klein. Learning accurate, compact,\\nand interpretable tree annotation. In Proceedings of the 21st International Conference on\\nComputational Linguistics and 44th Annual Meeting of the ACL, pages 433–440. ACL, July\\n2006.\\n[30] Ofir Press and Lior Wolf. Using the output embedding to improve language models. arXiv\\npreprint arXiv:1608.05859, 2016.\\n[31] Rico Sennrich, Barry Haddow, and Alexandra Birch. Neural machine translation of rare words\\nwith subword units. arXiv preprint arXiv:1508.07909, 2015.\\n[32] Noam Shazeer, Azalia Mirhoseini, Krzysztof Maziarz, Andy Davis, Quoc Le, Geoffrey Hinton,\\nand Jeff Dean. Outrageously large neural networks: The sparsely-gated mixture-of-experts\\nlayer. arXiv preprint arXiv:1701.06538, 2017.\\n[33] Nitish Srivastava, Geoffrey E Hinton, Alex Krizhevsky, Ilya Sutskever, and Ruslan Salakhutdi-\\nnov. Dropout: a simple way to prevent neural networks from overfitting. Journal of Machine\\nLearning Research, 15(1):1929–1958, 2014.\\n[34] Sainbayar Sukhbaatar, Arthur Szlam, Jason Weston, and Rob Fergus. End-to-end memory\\nnetworks. In C. Cortes, N. D. Lawrence, D. D. Lee, M. Sugiyama, and R. Garnett, editors,\\nAdvances in Neural Information Processing Systems 28, pages 2440–2448. Curran Associates,\\nInc., 2015.\\n[35] Ilya Sutskever, Oriol Vinyals, and Quoc VV Le. Sequence to sequence learning with neural\\nnetworks. In Advances in Neural Information Processing Systems, pages 3104–3112, 2014.\\n[36] Christian Szegedy, Vincent Vanhoucke, Sergey Ioffe, Jonathon Shlens, and Zbigniew Wojna.\\nRethinking the inception architecture for computer vision. CoRR, abs/1512.00567, 2015.\\n[37] Vinyals & Kaiser, Koo, Petrov, Sutskever, and Hinton. Grammar as a foreign language. In\\nAdvances in Neural Information Processing Systems, 2015.\\n[38] Yonghui Wu, Mike Schuster, Zhifeng Chen, Quoc V Le, Mohammad Norouzi, Wolfgang\\nMacherey, Maxim Krikun, Yuan Cao, Qin Gao, Klaus Macherey, et al. Google’s neural machine\\ntranslation system: Bridging the gap between human and machine translation. arXiv preprint\\narXiv:1609.08144, 2016.\\n[39] Jie Zhou, Ying Cao, Xuguang Wang, Peng Li, and Wei Xu. Deep recurrent models with\\nfast-forward connections for neural machine translation. CoRR, abs/1606.04199, 2016.\\n[40] Muhua Zhu, Yue Zhang, Wenliang Chen, Min Zhang, and Jingbo Zhu. Fast and accurate\\nshift-reduce constituent parsing. In Proceedings of the 51st Annual Meeting of the ACL (Volume\\n1: Long Papers), pages 434–443. ACL, August 2013.\\n12', mimetype='text/plain', start_char_idx=None, end_char_idx=None, text_template='{metadata_str}\\n\\n{content}', metadata_template='{key}: {value}', metadata_seperator='\\n'),\n",
       "   Document(id_='82925b76-d325-4494-aacc-c610b0463b6b', embedding=None, metadata={'page_label': '13', 'file_name': 'attention is all you need 1706.03762v7.pdf', 'file_path': 'C:\\\\Users\\\\18623\\\\Desktop\\\\PhiAi\\\\Jupyter\\\\papers\\\\attention is all you need 1706.03762v7.pdf', 'file_type': 'application/pdf', 'file_size': 2215244, 'creation_date': '2024-12-11', 'last_modified_date': '2024-12-11'}, excluded_embed_metadata_keys=['file_name', 'file_type', 'file_size', 'creation_date', 'last_modified_date', 'last_accessed_date'], excluded_llm_metadata_keys=['file_name', 'file_type', 'file_size', 'creation_date', 'last_modified_date', 'last_accessed_date'], relationships={}, text='Attention Visualizations\\nInput-Input Layer5\\nIt\\nis\\nin\\nthis\\nspirit\\nthat\\na\\nmajority\\nof\\nAmerican\\ngovernments\\nhave\\npassed\\nnew\\nlaws\\nsince\\n2009\\nmaking\\nthe\\nregistration\\nor\\nvoting\\nprocess\\nmore\\ndifficult\\n.\\n<EOS>\\n<pad>\\n<pad>\\n<pad>\\n<pad>\\n<pad>\\n<pad>\\nIt\\nis\\nin\\nthis\\nspirit\\nthat\\na\\nmajority\\nof\\nAmerican\\ngovernments\\nhave\\npassed\\nnew\\nlaws\\nsince\\n2009\\nmaking\\nthe\\nregistration\\nor\\nvoting\\nprocess\\nmore\\ndifficult\\n.\\n<EOS>\\n<pad>\\n<pad>\\n<pad>\\n<pad>\\n<pad>\\n<pad>\\nFigure 3: An example of the attention mechanism following long-distance dependencies in the\\nencoder self-attention in layer 5 of 6. Many of the attention heads attend to a distant dependency of\\nthe verb ‘making’, completing the phrase ‘making...more difficult’. Attentions here shown only for\\nthe word ‘making’. Different colors represent different heads. Best viewed in color.\\n13', mimetype='text/plain', start_char_idx=None, end_char_idx=None, text_template='{metadata_str}\\n\\n{content}', metadata_template='{key}: {value}', metadata_seperator='\\n'),\n",
       "   Document(id_='e077877b-6328-484d-8614-549ff362ae8e', embedding=None, metadata={'page_label': '14', 'file_name': 'attention is all you need 1706.03762v7.pdf', 'file_path': 'C:\\\\Users\\\\18623\\\\Desktop\\\\PhiAi\\\\Jupyter\\\\papers\\\\attention is all you need 1706.03762v7.pdf', 'file_type': 'application/pdf', 'file_size': 2215244, 'creation_date': '2024-12-11', 'last_modified_date': '2024-12-11'}, excluded_embed_metadata_keys=['file_name', 'file_type', 'file_size', 'creation_date', 'last_modified_date', 'last_accessed_date'], excluded_llm_metadata_keys=['file_name', 'file_type', 'file_size', 'creation_date', 'last_modified_date', 'last_accessed_date'], relationships={}, text='Input-Input Layer5\\nThe\\nLaw\\nwill\\nnever\\nbe\\nperfect\\n,\\nbut\\nits\\napplication\\nshould\\nbe\\njust\\n-\\nthis\\nis\\nwhat\\nwe\\nare\\nmissing\\n,\\nin\\nmy\\nopinion\\n.\\n<EOS>\\n<pad>\\nThe\\nLaw\\nwill\\nnever\\nbe\\nperfect\\n,\\nbut\\nits\\napplication\\nshould\\nbe\\njust\\n-\\nthis\\nis\\nwhat\\nwe\\nare\\nmissing\\n,\\nin\\nmy\\nopinion\\n.\\n<EOS>\\n<pad>\\nInput-Input Layer5\\nThe\\nLaw\\nwill\\nnever\\nbe\\nperfect\\n,\\nbut\\nits\\napplication\\nshould\\nbe\\njust\\n-\\nthis\\nis\\nwhat\\nwe\\nare\\nmissing\\n,\\nin\\nmy\\nopinion\\n.\\n<EOS>\\n<pad>\\nThe\\nLaw\\nwill\\nnever\\nbe\\nperfect\\n,\\nbut\\nits\\napplication\\nshould\\nbe\\njust\\n-\\nthis\\nis\\nwhat\\nwe\\nare\\nmissing\\n,\\nin\\nmy\\nopinion\\n.\\n<EOS>\\n<pad>\\nFigure 4: Two attention heads, also in layer 5 of 6, apparently involved in anaphora resolution. Top:\\nFull attentions for head 5. Bottom: Isolated attentions from just the word ‘its’ for attention heads 5\\nand 6. Note that the attentions are very sharp for this word.\\n14', mimetype='text/plain', start_char_idx=None, end_char_idx=None, text_template='{metadata_str}\\n\\n{content}', metadata_template='{key}: {value}', metadata_seperator='\\n'),\n",
       "   Document(id_='f7849b4b-28ea-4b63-bc32-ff65db4fb53c', embedding=None, metadata={'page_label': '15', 'file_name': 'attention is all you need 1706.03762v7.pdf', 'file_path': 'C:\\\\Users\\\\18623\\\\Desktop\\\\PhiAi\\\\Jupyter\\\\papers\\\\attention is all you need 1706.03762v7.pdf', 'file_type': 'application/pdf', 'file_size': 2215244, 'creation_date': '2024-12-11', 'last_modified_date': '2024-12-11'}, excluded_embed_metadata_keys=['file_name', 'file_type', 'file_size', 'creation_date', 'last_modified_date', 'last_accessed_date'], excluded_llm_metadata_keys=['file_name', 'file_type', 'file_size', 'creation_date', 'last_modified_date', 'last_accessed_date'], relationships={}, text='Input-Input Layer5\\nThe\\nLaw\\nwill\\nnever\\nbe\\nperfect\\n,\\nbut\\nits\\napplication\\nshould\\nbe\\njust\\n-\\nthis\\nis\\nwhat\\nwe\\nare\\nmissing\\n,\\nin\\nmy\\nopinion\\n.\\n<EOS>\\n<pad>\\nThe\\nLaw\\nwill\\nnever\\nbe\\nperfect\\n,\\nbut\\nits\\napplication\\nshould\\nbe\\njust\\n-\\nthis\\nis\\nwhat\\nwe\\nare\\nmissing\\n,\\nin\\nmy\\nopinion\\n.\\n<EOS>\\n<pad>\\nInput-Input Layer5\\nThe\\nLaw\\nwill\\nnever\\nbe\\nperfect\\n,\\nbut\\nits\\napplication\\nshould\\nbe\\njust\\n-\\nthis\\nis\\nwhat\\nwe\\nare\\nmissing\\n,\\nin\\nmy\\nopinion\\n.\\n<EOS>\\n<pad>\\nThe\\nLaw\\nwill\\nnever\\nbe\\nperfect\\n,\\nbut\\nits\\napplication\\nshould\\nbe\\njust\\n-\\nthis\\nis\\nwhat\\nwe\\nare\\nmissing\\n,\\nin\\nmy\\nopinion\\n.\\n<EOS>\\n<pad>\\nFigure 5: Many of the attention heads exhibit behaviour that seems related to the structure of the\\nsentence. We give two such examples above, from two different heads from the encoder self-attention\\nat layer 5 of 6. The heads clearly learned to perform different tasks.\\n15', mimetype='text/plain', start_char_idx=None, end_char_idx=None, text_template='{metadata_str}\\n\\n{content}', metadata_template='{key}: {value}', metadata_seperator='\\n')]],\n",
       " 'BERT pre_training of deep bidirectional transformers for language understanding 1810.04805v2.pdf': [[Document(id_='4766a11e-df66-406c-b07e-589e44700817', embedding=None, metadata={'page_label': '1', 'file_name': 'BERT pre_training of deep bidirectional transformers for language understanding 1810.04805v2.pdf', 'file_path': 'C:\\\\Users\\\\18623\\\\Desktop\\\\PhiAi\\\\Jupyter\\\\papers\\\\BERT pre_training of deep bidirectional transformers for language understanding 1810.04805v2.pdf', 'file_type': 'application/pdf', 'file_size': 775166, 'creation_date': '2024-12-12', 'last_modified_date': '2024-12-12'}, excluded_embed_metadata_keys=['file_name', 'file_type', 'file_size', 'creation_date', 'last_modified_date', 'last_accessed_date'], excluded_llm_metadata_keys=['file_name', 'file_type', 'file_size', 'creation_date', 'last_modified_date', 'last_accessed_date'], relationships={}, text='BERT: Pre-training of Deep Bidirectional Transformers for\\nLanguage Understanding\\nJacob Devlin Ming-Wei Chang Kenton Lee Kristina Toutanova\\nGoogle AI Language\\n{jacobdevlin,mingweichang,kentonl,kristout}@google.com\\nAbstract\\nWe introduce a new language representa-\\ntion model called BERT, which stands for\\nBidirectional Encoder Representations from\\nTransformers. Unlike recent language repre-\\nsentation models (Peters et al., 2018a; Rad-\\nford et al., 2018), BERT is designed to pre-\\ntrain deep bidirectional representations from\\nunlabeled text by jointly conditioning on both\\nleft and right context in all layers. As a re-\\nsult, the pre-trained BERT model can be ﬁne-\\ntuned with just one additional output layer\\nto create state-of-the-art models for a wide\\nrange of tasks, such as question answering and\\nlanguage inference, without substantial task-\\nspeciﬁc architecture modiﬁcations.\\nBERT is conceptually simple and empirically\\npowerful. It obtains new state-of-the-art re-\\nsults on eleven natural language processing\\ntasks, including pushing the GLUE score to\\n80.5% (7.7% point absolute improvement),\\nMultiNLI accuracy to 86.7% (4.6% absolute\\nimprovement), SQuAD v1.1 question answer-\\ning Test F1 to 93.2 (1.5 point absolute im-\\nprovement) and SQuAD v2.0 Test F1 to 83.1\\n(5.1 point absolute improvement).\\n1 Introduction\\nLanguage model pre-training has been shown to\\nbe effective for improving many natural language\\nprocessing tasks (Dai and Le, 2015; Peters et al.,\\n2018a; Radford et al., 2018; Howard and Ruder,\\n2018). These include sentence-level tasks such as\\nnatural language inference (Bowman et al., 2015;\\nWilliams et al., 2018) and paraphrasing (Dolan\\nand Brockett, 2005), which aim to predict the re-\\nlationships between sentences by analyzing them\\nholistically, as well as token-level tasks such as\\nnamed entity recognition and question answering,\\nwhere models are required to produce ﬁne-grained\\noutput at the token level (Tjong Kim Sang and\\nDe Meulder, 2003; Rajpurkar et al., 2016).\\nThere are two existing strategies for apply-\\ning pre-trained language representations to down-\\nstream tasks: feature-based and ﬁne-tuning. The\\nfeature-based approach, such as ELMo (Peters\\net al., 2018a), uses task-speciﬁc architectures that\\ninclude the pre-trained representations as addi-\\ntional features. The ﬁne-tuning approach, such as\\nthe Generative Pre-trained Transformer (OpenAI\\nGPT) (Radford et al., 2018), introduces minimal\\ntask-speciﬁc parameters, and is trained on the\\ndownstream tasks by simply ﬁne-tuning all pre-\\ntrained parameters. The two approaches share the\\nsame objective function during pre-training, where\\nthey use unidirectional language models to learn\\ngeneral language representations.\\nWe argue that current techniques restrict the\\npower of the pre-trained representations, espe-\\ncially for the ﬁne-tuning approaches. The ma-\\njor limitation is that standard language models are\\nunidirectional, and this limits the choice of archi-\\ntectures that can be used during pre-training. For\\nexample, in OpenAI GPT, the authors use a left-to-\\nright architecture, where every token can only at-\\ntend to previous tokens in the self-attention layers\\nof the Transformer (Vaswani et al., 2017). Such re-\\nstrictions are sub-optimal for sentence-level tasks,\\nand could be very harmful when applying ﬁne-\\ntuning based approaches to token-level tasks such\\nas question answering, where it is crucial to incor-\\nporate context from both directions.\\nIn this paper, we improve the ﬁne-tuning based\\napproaches by proposing BERT: Bidirectional\\nEncoder Representations from Transformers.\\nBERT alleviates the previously mentioned unidi-\\nrectionality constraint by using a “masked lan-\\nguage model” (MLM) pre-training objective, in-\\nspired by the Cloze task (Taylor, 1953). The\\nmasked language model randomly masks some of\\nthe tokens from the input, and the objective is to\\npredict the original vocabulary id of the masked\\narXiv:1810.04805v2  [cs.CL]  24 May 2019', mimetype='text/plain', start_char_idx=None, end_char_idx=None, text_template='{metadata_str}\\n\\n{content}', metadata_template='{key}: {value}', metadata_seperator='\\n'),\n",
       "   Document(id_='835a58bc-01dd-4b78-826e-0c690d484b48', embedding=None, metadata={'page_label': '2', 'file_name': 'BERT pre_training of deep bidirectional transformers for language understanding 1810.04805v2.pdf', 'file_path': 'C:\\\\Users\\\\18623\\\\Desktop\\\\PhiAi\\\\Jupyter\\\\papers\\\\BERT pre_training of deep bidirectional transformers for language understanding 1810.04805v2.pdf', 'file_type': 'application/pdf', 'file_size': 775166, 'creation_date': '2024-12-12', 'last_modified_date': '2024-12-12'}, excluded_embed_metadata_keys=['file_name', 'file_type', 'file_size', 'creation_date', 'last_modified_date', 'last_accessed_date'], excluded_llm_metadata_keys=['file_name', 'file_type', 'file_size', 'creation_date', 'last_modified_date', 'last_accessed_date'], relationships={}, text='word based only on its context. Unlike left-to-\\nright language model pre-training, the MLM ob-\\njective enables the representation to fuse the left\\nand the right context, which allows us to pre-\\ntrain a deep bidirectional Transformer. In addi-\\ntion to the masked language model, we also use\\na “next sentence prediction” task that jointly pre-\\ntrains text-pair representations. The contributions\\nof our paper are as follows:\\n• We demonstrate the importance of bidirectional\\npre-training for language representations. Un-\\nlike Radford et al. (2018), which uses unidirec-\\ntional language models for pre-training, BERT\\nuses masked language models to enable pre-\\ntrained deep bidirectional representations. This\\nis also in contrast to Peters et al. (2018a), which\\nuses a shallow concatenation of independently\\ntrained left-to-right and right-to-left LMs.\\n• We show that pre-trained representations reduce\\nthe need for many heavily-engineered task-\\nspeciﬁc architectures. BERT is the ﬁrst ﬁne-\\ntuning based representation model that achieves\\nstate-of-the-art performance on a large suite\\nof sentence-level and token-level tasks, outper-\\nforming many task-speciﬁc architectures.\\n• BERT advances the state of the art for eleven\\nNLP tasks. The code and pre-trained mod-\\nels are available at https://github.com/\\ngoogle-research/bert.\\n2 Related Work\\nThere is a long history of pre-training general lan-\\nguage representations, and we brieﬂy review the\\nmost widely-used approaches in this section.\\n2.1 Unsupervised Feature-based Approaches\\nLearning widely applicable representations of\\nwords has been an active area of research for\\ndecades, including non-neural (Brown et al., 1992;\\nAndo and Zhang, 2005; Blitzer et al., 2006) and\\nneural (Mikolov et al., 2013; Pennington et al.,\\n2014) methods. Pre-trained word embeddings\\nare an integral part of modern NLP systems, of-\\nfering signiﬁcant improvements over embeddings\\nlearned from scratch (Turian et al., 2010). To pre-\\ntrain word embedding vectors, left-to-right lan-\\nguage modeling objectives have been used (Mnih\\nand Hinton, 2009), as well as objectives to dis-\\ncriminate correct from incorrect words in left and\\nright context (Mikolov et al., 2013).\\nThese approaches have been generalized to\\ncoarser granularities, such as sentence embed-\\ndings (Kiros et al., 2015; Logeswaran and Lee,\\n2018) or paragraph embeddings (Le and Mikolov,\\n2014). To train sentence representations, prior\\nwork has used objectives to rank candidate next\\nsentences (Jernite et al., 2017; Logeswaran and\\nLee, 2018), left-to-right generation of next sen-\\ntence words given a representation of the previous\\nsentence (Kiros et al., 2015), or denoising auto-\\nencoder derived objectives (Hill et al., 2016).\\nELMo and its predecessor (Peters et al., 2017,\\n2018a) generalize traditional word embedding re-\\nsearch along a different dimension. They extract\\ncontext-sensitive features from a left-to-right and a\\nright-to-left language model. The contextual rep-\\nresentation of each token is the concatenation of\\nthe left-to-right and right-to-left representations.\\nWhen integrating contextual word embeddings\\nwith existing task-speciﬁc architectures, ELMo\\nadvances the state of the art for several major NLP\\nbenchmarks (Peters et al., 2018a) including ques-\\ntion answering (Rajpurkar et al., 2016), sentiment\\nanalysis (Socher et al., 2013), and named entity\\nrecognition (Tjong Kim Sang and De Meulder,\\n2003). Melamud et al. (2016) proposed learning\\ncontextual representations through a task to pre-\\ndict a single word from both left and right context\\nusing LSTMs. Similar to ELMo, their model is\\nfeature-based and not deeply bidirectional. Fedus\\net al. (2018) shows that the cloze task can be used\\nto improve the robustness of text generation mod-\\nels.\\n2.2 Unsupervised Fine-tuning Approaches\\nAs with the feature-based approaches, the ﬁrst\\nworks in this direction only pre-trained word em-\\nbedding parameters from unlabeled text (Col-\\nlobert and Weston, 2008).\\nMore recently, sentence or document encoders\\nwhich produce contextual token representations\\nhave been pre-trained from unlabeled text and\\nﬁne-tuned for a supervised downstream task (Dai\\nand Le, 2015; Howard and Ruder, 2018; Radford\\net al., 2018). The advantage of these approaches\\nis that few parameters need to be learned from\\nscratch. At least partly due to this advantage,\\nOpenAI GPT (Radford et al., 2018) achieved pre-\\nviously state-of-the-art results on many sentence-\\nlevel tasks from the GLUE benchmark (Wang\\net al., 2018a). Left-to-right language model-', mimetype='text/plain', start_char_idx=None, end_char_idx=None, text_template='{metadata_str}\\n\\n{content}', metadata_template='{key}: {value}', metadata_seperator='\\n'),\n",
       "   Document(id_='0f5b1164-7ccc-46d5-a002-edd1427ed859', embedding=None, metadata={'page_label': '3', 'file_name': 'BERT pre_training of deep bidirectional transformers for language understanding 1810.04805v2.pdf', 'file_path': 'C:\\\\Users\\\\18623\\\\Desktop\\\\PhiAi\\\\Jupyter\\\\papers\\\\BERT pre_training of deep bidirectional transformers for language understanding 1810.04805v2.pdf', 'file_type': 'application/pdf', 'file_size': 775166, 'creation_date': '2024-12-12', 'last_modified_date': '2024-12-12'}, excluded_embed_metadata_keys=['file_name', 'file_type', 'file_size', 'creation_date', 'last_modified_date', 'last_accessed_date'], excluded_llm_metadata_keys=['file_name', 'file_type', 'file_size', 'creation_date', 'last_modified_date', 'last_accessed_date'], relationships={}, text='BERT BERT\\nE[CLS] E1  E[SEP]... EN E1’ ... EM’\\nC\\n T1\\n T[SEP]...\\n TN\\n T1’ ...\\n TM’\\n[CLS] Tok 1  [SEP]... Tok N Tok 1 ... TokM\\nQuestion Paragraph\\nStart/End Span\\nBERT\\nE[CLS] E1  E[SEP]... EN E1’ ... EM’\\nC\\n T1\\n T[SEP]...\\n TN\\n T1’ ...\\n TM’\\n[CLS] Tok 1  [SEP]... Tok N Tok 1 ... TokM\\nMasked Sentence A Masked Sentence B\\nPre-training Fine-Tuning\\nNSP Mask LM Mask LM\\nUnlabeled Sentence A and B Pair \\nSQuAD\\nQuestion Answer Pair\\nNERMNLI\\nFigure 1: Overall pre-training and ﬁne-tuning procedures for BERT. Apart from output layers, the same architec-\\ntures are used in both pre-training and ﬁne-tuning. The same pre-trained model parameters are used to initialize\\nmodels for different down-stream tasks. During ﬁne-tuning, all parameters are ﬁne-tuned. [CLS] is a special\\nsymbol added in front of every input example, and [SEP] is a special separator token (e.g. separating ques-\\ntions/answers).\\ning and auto-encoder objectives have been used\\nfor pre-training such models (Howard and Ruder,\\n2018; Radford et al., 2018; Dai and Le, 2015).\\n2.3 Transfer Learning from Supervised Data\\nThere has also been work showing effective trans-\\nfer from supervised tasks with large datasets, such\\nas natural language inference (Conneau et al.,\\n2017) and machine translation (McCann et al.,\\n2017). Computer vision research has also demon-\\nstrated the importance of transfer learning from\\nlarge pre-trained models, where an effective recipe\\nis to ﬁne-tune models pre-trained with Ima-\\ngeNet (Deng et al., 2009; Yosinski et al., 2014).\\n3 BERT\\nWe introduce BERT and its detailed implementa-\\ntion in this section. There are two steps in our\\nframework: pre-training and ﬁne-tuning. Dur-\\ning pre-training, the model is trained on unlabeled\\ndata over different pre-training tasks. For ﬁne-\\ntuning, the BERT model is ﬁrst initialized with\\nthe pre-trained parameters, and all of the param-\\neters are ﬁne-tuned using labeled data from the\\ndownstream tasks. Each downstream task has sep-\\narate ﬁne-tuned models, even though they are ini-\\ntialized with the same pre-trained parameters. The\\nquestion-answering example in Figure 1 will serve\\nas a running example for this section.\\nA distinctive feature of BERT is its uniﬁed ar-\\nchitecture across different tasks. There is mini-\\nmal difference between the pre-trained architec-\\nture and the ﬁnal downstream architecture.\\nModel Architecture BERT’s model architec-\\nture is a multi-layer bidirectional Transformer en-\\ncoder based on the original implementation de-\\nscribed in Vaswani et al. (2017) and released in\\nthe tensor2tensor library.1 Because the use\\nof Transformers has become common and our im-\\nplementation is almost identical to the original,\\nwe will omit an exhaustive background descrip-\\ntion of the model architecture and refer readers to\\nVaswani et al. (2017) as well as excellent guides\\nsuch as “The Annotated Transformer.”2\\nIn this work, we denote the number of layers\\n(i.e., Transformer blocks) as L, the hidden size as\\nH, and the number of self-attention heads as A.3\\nWe primarily report results on two model sizes:\\nBERTBASE (L=12, H=768, A=12, Total Param-\\neters=110M) and BERTLARGE (L=24, H=1024,\\nA=16, Total Parameters=340M).\\nBERTBASE was chosen to have the same model\\nsize as OpenAI GPT for comparison purposes.\\nCritically, however, the BERT Transformer uses\\nbidirectional self-attention, while the GPT Trans-\\nformer uses constrained self-attention where every\\ntoken can only attend to context to its left.4\\n1https://github.com/tensorﬂow/tensor2tensor\\n2http://nlp.seas.harvard.edu/2018/04/03/attention.html\\n3In all cases we set the feed-forward/ﬁlter size to be 4H,\\ni.e., 3072 for the H = 768and 4096 for the H = 1024.\\n4We note that in the literature the bidirectional Trans-', mimetype='text/plain', start_char_idx=None, end_char_idx=None, text_template='{metadata_str}\\n\\n{content}', metadata_template='{key}: {value}', metadata_seperator='\\n'),\n",
       "   Document(id_='e80ca865-cb0b-4bcf-b834-41a9342a84e4', embedding=None, metadata={'page_label': '4', 'file_name': 'BERT pre_training of deep bidirectional transformers for language understanding 1810.04805v2.pdf', 'file_path': 'C:\\\\Users\\\\18623\\\\Desktop\\\\PhiAi\\\\Jupyter\\\\papers\\\\BERT pre_training of deep bidirectional transformers for language understanding 1810.04805v2.pdf', 'file_type': 'application/pdf', 'file_size': 775166, 'creation_date': '2024-12-12', 'last_modified_date': '2024-12-12'}, excluded_embed_metadata_keys=['file_name', 'file_type', 'file_size', 'creation_date', 'last_modified_date', 'last_accessed_date'], excluded_llm_metadata_keys=['file_name', 'file_type', 'file_size', 'creation_date', 'last_modified_date', 'last_accessed_date'], relationships={}, text='Input/Output Representations To make BERT\\nhandle a variety of down-stream tasks, our input\\nrepresentation is able to unambiguously represent\\nboth a single sentence and a pair of sentences\\n(e.g., ⟨Question, Answer ⟩) in one token sequence.\\nThroughout this work, a “sentence” can be an arbi-\\ntrary span of contiguous text, rather than an actual\\nlinguistic sentence. A “sequence” refers to the in-\\nput token sequence to BERT, which may be a sin-\\ngle sentence or two sentences packed together.\\nWe use WordPiece embeddings (Wu et al.,\\n2016) with a 30,000 token vocabulary. The ﬁrst\\ntoken of every sequence is always a special clas-\\nsiﬁcation token ( [CLS]). The ﬁnal hidden state\\ncorresponding to this token is used as the ag-\\ngregate sequence representation for classiﬁcation\\ntasks. Sentence pairs are packed together into a\\nsingle sequence. We differentiate the sentences in\\ntwo ways. First, we separate them with a special\\ntoken ([SEP]). Second, we add a learned embed-\\nding to every token indicating whether it belongs\\nto sentence A or sentence B. As shown in Figure 1,\\nwe denote input embedding as E, the ﬁnal hidden\\nvector of the special [CLS] token as C ∈RH,\\nand the ﬁnal hidden vector for the ith input token\\nas Ti ∈RH.\\nFor a given token, its input representation is\\nconstructed by summing the corresponding token,\\nsegment, and position embeddings. A visualiza-\\ntion of this construction can be seen in Figure 2.\\n3.1 Pre-training BERT\\nUnlike Peters et al. (2018a) and Radford et al.\\n(2018), we do not use traditional left-to-right or\\nright-to-left language models to pre-train BERT.\\nInstead, we pre-train BERT using two unsuper-\\nvised tasks, described in this section. This step\\nis presented in the left part of Figure 1.\\nTask #1: Masked LM Intuitively, it is reason-\\nable to believe that a deep bidirectional model is\\nstrictly more powerful than either a left-to-right\\nmodel or the shallow concatenation of a left-to-\\nright and a right-to-left model. Unfortunately,\\nstandard conditional language models can only be\\ntrained left-to-right or right-to-left, since bidirec-\\ntional conditioning would allow each word to in-\\ndirectly “see itself”, and the model could trivially\\npredict the target word in a multi-layered context.\\nformer is often referred to as a “Transformer encoder” while\\nthe left-context-only version is referred to as a “Transformer\\ndecoder” since it can be used for text generation.\\nIn order to train a deep bidirectional representa-\\ntion, we simply mask some percentage of the input\\ntokens at random, and then predict those masked\\ntokens. We refer to this procedure as a “masked\\nLM” (MLM), although it is often referred to as a\\nCloze task in the literature (Taylor, 1953). In this\\ncase, the ﬁnal hidden vectors corresponding to the\\nmask tokens are fed into an output softmax over\\nthe vocabulary, as in a standard LM. In all of our\\nexperiments, we mask 15% of all WordPiece to-\\nkens in each sequence at random. In contrast to\\ndenoising auto-encoders (Vincent et al., 2008), we\\nonly predict the masked words rather than recon-\\nstructing the entire input.\\nAlthough this allows us to obtain a bidirec-\\ntional pre-trained model, a downside is that we\\nare creating a mismatch between pre-training and\\nﬁne-tuning, since the [MASK] token does not ap-\\npear during ﬁne-tuning. To mitigate this, we do\\nnot always replace “masked” words with the ac-\\ntual [MASK] token. The training data generator\\nchooses 15% of the token positions at random for\\nprediction. If the i-th token is chosen, we replace\\nthe i-th token with (1) the [MASK] token 80% of\\nthe time (2) a random token 10% of the time (3)\\nthe unchanged i-th token 10% of the time. Then,\\nTi will be used to predict the original token with\\ncross entropy loss. We compare variations of this\\nprocedure in Appendix C.2.\\nTask #2: Next Sentence Prediction (NSP)\\nMany important downstream tasks such as Ques-\\ntion Answering (QA) and Natural Language Infer-\\nence (NLI) are based on understanding the rela-\\ntionship between two sentences, which is not di-\\nrectly captured by language modeling. In order\\nto train a model that understands sentence rela-\\ntionships, we pre-train for a binarized next sen-\\ntence prediction task that can be trivially gener-\\nated from any monolingual corpus. Speciﬁcally,\\nwhen choosing the sentencesA and B for each pre-\\ntraining example, 50% of the time B is the actual\\nnext sentence that follows A (labeled as IsNext),\\nand 50% of the time it is a random sentence from\\nthe corpus (labeled as NotNext). As we show\\nin Figure 1, C is used for next sentence predic-\\ntion (NSP). 5 Despite its simplicity, we demon-\\nstrate in Section 5.1 that pre-training towards this\\ntask is very beneﬁcial to both QA and NLI. 6\\n5The ﬁnal model achieves 97%-98% accuracy on NSP.\\n6The vector C is not a meaningful sentence representation\\nwithout ﬁne-tuning, since it was trained with NSP.', mimetype='text/plain', start_char_idx=None, end_char_idx=None, text_template='{metadata_str}\\n\\n{content}', metadata_template='{key}: {value}', metadata_seperator='\\n'),\n",
       "   Document(id_='2ee56e4f-9c20-42f3-8108-d8e4cd4c4227', embedding=None, metadata={'page_label': '5', 'file_name': 'BERT pre_training of deep bidirectional transformers for language understanding 1810.04805v2.pdf', 'file_path': 'C:\\\\Users\\\\18623\\\\Desktop\\\\PhiAi\\\\Jupyter\\\\papers\\\\BERT pre_training of deep bidirectional transformers for language understanding 1810.04805v2.pdf', 'file_type': 'application/pdf', 'file_size': 775166, 'creation_date': '2024-12-12', 'last_modified_date': '2024-12-12'}, excluded_embed_metadata_keys=['file_name', 'file_type', 'file_size', 'creation_date', 'last_modified_date', 'last_accessed_date'], excluded_llm_metadata_keys=['file_name', 'file_type', 'file_size', 'creation_date', 'last_modified_date', 'last_accessed_date'], relationships={}, text='[CLS] he likes play ##ing [SEP]my dog is cute [SEP]Input\\nE[CLS] Ehe Elikes Eplay E##ing E[SEP]Emy Edog Eis Ecute E[SEP]\\nToken\\nEmbeddings\\nEA EB EB EB EB EBEA EA EA EA EASegment\\nEmbeddings\\nE0 E6 E7 E8 E9 E10E1 E2 E3 E4 E5Position\\nEmbeddings\\nFigure 2: BERT input representation. The input embeddings are the sum of the token embeddings, the segmenta-\\ntion embeddings and the position embeddings.\\nThe NSP task is closely related to representation-\\nlearning objectives used in Jernite et al. (2017) and\\nLogeswaran and Lee (2018). However, in prior\\nwork, only sentence embeddings are transferred to\\ndown-stream tasks, where BERT transfers all pa-\\nrameters to initialize end-task model parameters.\\nPre-training data The pre-training procedure\\nlargely follows the existing literature on language\\nmodel pre-training. For the pre-training corpus we\\nuse the BooksCorpus (800M words) (Zhu et al.,\\n2015) and English Wikipedia (2,500M words).\\nFor Wikipedia we extract only the text passages\\nand ignore lists, tables, and headers. It is criti-\\ncal to use a document-level corpus rather than a\\nshufﬂed sentence-level corpus such as the Billion\\nWord Benchmark (Chelba et al., 2013) in order to\\nextract long contiguous sequences.\\n3.2 Fine-tuning BERT\\nFine-tuning is straightforward since the self-\\nattention mechanism in the Transformer al-\\nlows BERT to model many downstream tasks—\\nwhether they involve single text or text pairs—by\\nswapping out the appropriate inputs and outputs.\\nFor applications involving text pairs, a common\\npattern is to independently encode text pairs be-\\nfore applying bidirectional cross attention, such\\nas Parikh et al. (2016); Seo et al. (2017). BERT\\ninstead uses the self-attention mechanism to unify\\nthese two stages, as encoding a concatenated text\\npair with self-attention effectively includes bidi-\\nrectional cross attention between two sentences.\\nFor each task, we simply plug in the task-\\nspeciﬁc inputs and outputs into BERT and ﬁne-\\ntune all the parameters end-to-end. At the in-\\nput, sentence A and sentence B from pre-training\\nare analogous to (1) sentence pairs in paraphras-\\ning, (2) hypothesis-premise pairs in entailment, (3)\\nquestion-passage pairs in question answering, and\\n(4) a degenerate text- ∅ pair in text classiﬁcation\\nor sequence tagging. At the output, the token rep-\\nresentations are fed into an output layer for token-\\nlevel tasks, such as sequence tagging or question\\nanswering, and the [CLS] representation is fed\\ninto an output layer for classiﬁcation, such as en-\\ntailment or sentiment analysis.\\nCompared to pre-training, ﬁne-tuning is rela-\\ntively inexpensive. All of the results in the pa-\\nper can be replicated in at most 1 hour on a sin-\\ngle Cloud TPU, or a few hours on a GPU, starting\\nfrom the exact same pre-trained model. 7 We de-\\nscribe the task-speciﬁc details in the correspond-\\ning subsections of Section 4. More details can be\\nfound in Appendix A.5.\\n4 Experiments\\nIn this section, we present BERT ﬁne-tuning re-\\nsults on 11 NLP tasks.\\n4.1 GLUE\\nThe General Language Understanding Evaluation\\n(GLUE) benchmark (Wang et al., 2018a) is a col-\\nlection of diverse natural language understanding\\ntasks. Detailed descriptions of GLUE datasets are\\nincluded in Appendix B.1.\\nTo ﬁne-tune on GLUE, we represent the input\\nsequence (for single sentence or sentence pairs)\\nas described in Section 3, and use the ﬁnal hid-\\nden vector C ∈ RH corresponding to the ﬁrst\\ninput token ([CLS]) as the aggregate representa-\\ntion. The only new parameters introduced during\\nﬁne-tuning are classiﬁcation layer weights W ∈\\nRK×H, where Kis the number of labels. We com-\\npute a standard classiﬁcation loss with C and W,\\ni.e., log(softmax(CWT )).\\n7For example, the BERT SQuAD model can be trained in\\naround 30 minutes on a single Cloud TPU to achieve a Dev\\nF1 score of 91.0%.\\n8See (10) in https://gluebenchmark.com/faq.', mimetype='text/plain', start_char_idx=None, end_char_idx=None, text_template='{metadata_str}\\n\\n{content}', metadata_template='{key}: {value}', metadata_seperator='\\n'),\n",
       "   Document(id_='500f52ba-19de-47ad-879e-ce668f266b06', embedding=None, metadata={'page_label': '6', 'file_name': 'BERT pre_training of deep bidirectional transformers for language understanding 1810.04805v2.pdf', 'file_path': 'C:\\\\Users\\\\18623\\\\Desktop\\\\PhiAi\\\\Jupyter\\\\papers\\\\BERT pre_training of deep bidirectional transformers for language understanding 1810.04805v2.pdf', 'file_type': 'application/pdf', 'file_size': 775166, 'creation_date': '2024-12-12', 'last_modified_date': '2024-12-12'}, excluded_embed_metadata_keys=['file_name', 'file_type', 'file_size', 'creation_date', 'last_modified_date', 'last_accessed_date'], excluded_llm_metadata_keys=['file_name', 'file_type', 'file_size', 'creation_date', 'last_modified_date', 'last_accessed_date'], relationships={}, text='System MNLI-(m/mm) QQP QNLI SST-2 CoLA STS-B MRPC RTE Average\\n392k 363k 108k 67k 8.5k 5.7k 3.5k 2.5k -\\nPre-OpenAI SOTA 80.6/80.1 66.1 82.3 93.2 35.0 81.0 86.0 61.7 74.0\\nBiLSTM+ELMo+Attn 76.4/76.1 64.8 79.8 90.4 36.0 73.3 84.9 56.8 71.0\\nOpenAI GPT 82.1/81.4 70.3 87.4 91.3 45.4 80.0 82.3 56.0 75.1\\nBERTBASE 84.6/83.4 71.2 90.5 93.5 52.1 85.8 88.9 66.4 79.6\\nBERTLARGE 86.7/85.9 72.1 92.7 94.9 60.5 86.5 89.3 70.1 82.1\\nTable 1: GLUE Test results, scored by the evaluation server ( https://gluebenchmark.com/leaderboard).\\nThe number below each task denotes the number of training examples. The “Average” column is slightly different\\nthan the ofﬁcial GLUE score, since we exclude the problematic WNLI set. 8 BERT and OpenAI GPT are single-\\nmodel, single task. F1 scores are reported for QQP and MRPC, Spearman correlations are reported for STS-B, and\\naccuracy scores are reported for the other tasks. We exclude entries that use BERT as one of their components.\\nWe use a batch size of 32 and ﬁne-tune for 3\\nepochs over the data for all GLUE tasks. For each\\ntask, we selected the best ﬁne-tuning learning rate\\n(among 5e-5, 4e-5, 3e-5, and 2e-5) on the Dev set.\\nAdditionally, for BERTLARGE we found that ﬁne-\\ntuning was sometimes unstable on small datasets,\\nso we ran several random restarts and selected the\\nbest model on the Dev set. With random restarts,\\nwe use the same pre-trained checkpoint but per-\\nform different ﬁne-tuning data shufﬂing and clas-\\nsiﬁer layer initialization.9\\nResults are presented in Table 1. Both\\nBERTBASE and BERTLARGE outperform all sys-\\ntems on all tasks by a substantial margin, obtaining\\n4.5% and 7.0% respective average accuracy im-\\nprovement over the prior state of the art. Note that\\nBERTBASE and OpenAI GPT are nearly identical\\nin terms of model architecture apart from the at-\\ntention masking. For the largest and most widely\\nreported GLUE task, MNLI, BERT obtains a 4.6%\\nabsolute accuracy improvement. On the ofﬁcial\\nGLUE leaderboard10, BERTLARGE obtains a score\\nof 80.5, compared to OpenAI GPT, which obtains\\n72.8 as of the date of writing.\\nWe ﬁnd that BERT LARGE signiﬁcantly outper-\\nforms BERTBASE across all tasks, especially those\\nwith very little training data. The effect of model\\nsize is explored more thoroughly in Section 5.2.\\n4.2 SQuAD v1.1\\nThe Stanford Question Answering Dataset\\n(SQuAD v1.1) is a collection of 100k crowd-\\nsourced question/answer pairs (Rajpurkar et al.,\\n2016). Given a question and a passage from\\n9The GLUE data set distribution does not include the Test\\nlabels, and we only made a single GLUE evaluation server\\nsubmission for each of BERTBASE and BERTLARGE .\\n10https://gluebenchmark.com/leaderboard\\nWikipedia containing the answer, the task is to\\npredict the answer text span in the passage.\\nAs shown in Figure 1, in the question answer-\\ning task, we represent the input question and pas-\\nsage as a single packed sequence, with the ques-\\ntion using the A embedding and the passage using\\nthe B embedding. We only introduce a start vec-\\ntor S ∈RH and an end vector E ∈RH during\\nﬁne-tuning. The probability of word i being the\\nstart of the answer span is computed as a dot prod-\\nuct between Ti and S followed by a softmax over\\nall of the words in the paragraph: Pi = eS·Ti\\n∑\\nj eS·Tj .\\nThe analogous formula is used for the end of the\\nanswer span. The score of a candidate span from\\nposition ito position jis deﬁned as S·Ti + E·Tj,\\nand the maximum scoring span where j ≥ i is\\nused as a prediction. The training objective is the\\nsum of the log-likelihoods of the correct start and\\nend positions. We ﬁne-tune for 3 epochs with a\\nlearning rate of 5e-5 and a batch size of 32.\\nTable 2 shows top leaderboard entries as well\\nas results from top published systems (Seo et al.,\\n2017; Clark and Gardner, 2018; Peters et al.,\\n2018a; Hu et al., 2018). The top results from the\\nSQuAD leaderboard do not have up-to-date public\\nsystem descriptions available,11 and are allowed to\\nuse any public data when training their systems.\\nWe therefore use modest data augmentation in\\nour system by ﬁrst ﬁne-tuning on TriviaQA (Joshi\\net al., 2017) befor ﬁne-tuning on SQuAD.\\nOur best performing system outperforms the top\\nleaderboard system by +1.5 F1 in ensembling and\\n+1.3 F1 as a single system. In fact, our single\\nBERT model outperforms the top ensemble sys-\\ntem in terms of F1 score. Without TriviaQA ﬁne-\\n11QANet is described in Yu et al. (2018), but the system\\nhas improved substantially after publication.', mimetype='text/plain', start_char_idx=None, end_char_idx=None, text_template='{metadata_str}\\n\\n{content}', metadata_template='{key}: {value}', metadata_seperator='\\n'),\n",
       "   Document(id_='2c9dbad8-ae25-4977-868e-8a69f5bb75e5', embedding=None, metadata={'page_label': '7', 'file_name': 'BERT pre_training of deep bidirectional transformers for language understanding 1810.04805v2.pdf', 'file_path': 'C:\\\\Users\\\\18623\\\\Desktop\\\\PhiAi\\\\Jupyter\\\\papers\\\\BERT pre_training of deep bidirectional transformers for language understanding 1810.04805v2.pdf', 'file_type': 'application/pdf', 'file_size': 775166, 'creation_date': '2024-12-12', 'last_modified_date': '2024-12-12'}, excluded_embed_metadata_keys=['file_name', 'file_type', 'file_size', 'creation_date', 'last_modified_date', 'last_accessed_date'], excluded_llm_metadata_keys=['file_name', 'file_type', 'file_size', 'creation_date', 'last_modified_date', 'last_accessed_date'], relationships={}, text='System Dev Test\\nEM F1 EM F1\\nTop Leaderboard Systems (Dec 10th, 2018)\\nHuman - - 82.3 91.2\\n#1 Ensemble - nlnet - - 86.0 91.7\\n#2 Ensemble - QANet - - 84.5 90.5\\nPublished\\nBiDAF+ELMo (Single) - 85.6 - 85.8\\nR.M. Reader (Ensemble) 81.2 87.9 82.3 88.5\\nOurs\\nBERTBASE (Single) 80.8 88.5 - -\\nBERTLARGE (Single) 84.1 90.9 - -\\nBERTLARGE (Ensemble) 85.8 91.8 - -\\nBERTLARGE (Sgl.+TriviaQA) 84.2 91.1 85.1 91.8\\nBERTLARGE (Ens.+TriviaQA) 86.2 92.2 87.4 93.2\\nTable 2: SQuAD 1.1 results. The BERT ensemble\\nis 7x systems which use different pre-training check-\\npoints and ﬁne-tuning seeds.\\nSystem Dev Test\\nEM F1 EM F1\\nTop Leaderboard Systems (Dec 10th, 2018)\\nHuman 86.3 89.0 86.9 89.5\\n#1 Single - MIR-MRC (F-Net) - - 74.8 78.0\\n#2 Single - nlnet - - 74.2 77.1\\nPublished\\nunet (Ensemble) - - 71.4 74.9\\nSLQA+ (Single) - 71.4 74.4\\nOurs\\nBERTLARGE (Single) 78.7 81.9 80.0 83.1\\nTable 3: SQuAD 2.0 results. We exclude entries that\\nuse BERT as one of their components.\\ntuning data, we only lose 0.1-0.4 F1, still outper-\\nforming all existing systems by a wide margin.12\\n4.3 SQuAD v2.0\\nThe SQuAD 2.0 task extends the SQuAD 1.1\\nproblem deﬁnition by allowing for the possibility\\nthat no short answer exists in the provided para-\\ngraph, making the problem more realistic.\\nWe use a simple approach to extend the SQuAD\\nv1.1 BERT model for this task. We treat ques-\\ntions that do not have an answer as having an an-\\nswer span with start and end at the [CLS] to-\\nken. The probability space for the start and end\\nanswer span positions is extended to include the\\nposition of the [CLS] token. For prediction, we\\ncompare the score of the no-answer span: snull =\\nS·C+ E·C to the score of the best non-null span\\n12The TriviaQA data we used consists of paragraphs from\\nTriviaQA-Wiki formed of the ﬁrst 400 tokens in documents,\\nthat contain at least one of the provided possible answers.\\nSystem Dev Test\\nESIM+GloVe 51.9 52.7\\nESIM+ELMo 59.1 59.2\\nOpenAI GPT - 78.0\\nBERTBASE 81.6 -\\nBERTLARGE 86.6 86.3\\nHuman (expert)† - 85.0\\nHuman (5 annotations)† - 88.0\\nTable 4: SW AG Dev and Test accuracies.†Human per-\\nformance is measured with 100 samples, as reported in\\nthe SW AG paper.\\nˆsi,j = maxj≥iS·Ti + E·Tj. We predict a non-null\\nanswer when ˆsi,j > snull + τ, where the thresh-\\nold τ is selected on the dev set to maximize F1.\\nWe did not use TriviaQA data for this model. We\\nﬁne-tuned for 2 epochs with a learning rate of 5e-5\\nand a batch size of 48.\\nThe results compared to prior leaderboard en-\\ntries and top published work (Sun et al., 2018;\\nWang et al., 2018b) are shown in Table 3, exclud-\\ning systems that use BERT as one of their com-\\nponents. We observe a +5.1 F1 improvement over\\nthe previous best system.\\n4.4 SWAG\\nThe Situations With Adversarial Generations\\n(SW AG) dataset contains 113k sentence-pair com-\\npletion examples that evaluate grounded common-\\nsense inference (Zellers et al., 2018). Given a sen-\\ntence, the task is to choose the most plausible con-\\ntinuation among four choices.\\nWhen ﬁne-tuning on the SW AG dataset, we\\nconstruct four input sequences, each containing\\nthe concatenation of the given sentence (sentence\\nA) and a possible continuation (sentence B). The\\nonly task-speciﬁc parameters introduced is a vec-\\ntor whose dot product with the [CLS] token rep-\\nresentation C denotes a score for each choice\\nwhich is normalized with a softmax layer.\\nWe ﬁne-tune the model for 3 epochs with a\\nlearning rate of 2e-5 and a batch size of 16. Re-\\nsults are presented in Table 4. BERT LARGE out-\\nperforms the authors’ baseline ESIM+ELMo sys-\\ntem by +27.1% and OpenAI GPT by 8.3%.\\n5 Ablation Studies\\nIn this section, we perform ablation experiments\\nover a number of facets of BERT in order to better\\nunderstand their relative importance. Additional', mimetype='text/plain', start_char_idx=None, end_char_idx=None, text_template='{metadata_str}\\n\\n{content}', metadata_template='{key}: {value}', metadata_seperator='\\n'),\n",
       "   Document(id_='7ffd32ed-1fdc-4891-ab0a-43aa3c6c3bfc', embedding=None, metadata={'page_label': '8', 'file_name': 'BERT pre_training of deep bidirectional transformers for language understanding 1810.04805v2.pdf', 'file_path': 'C:\\\\Users\\\\18623\\\\Desktop\\\\PhiAi\\\\Jupyter\\\\papers\\\\BERT pre_training of deep bidirectional transformers for language understanding 1810.04805v2.pdf', 'file_type': 'application/pdf', 'file_size': 775166, 'creation_date': '2024-12-12', 'last_modified_date': '2024-12-12'}, excluded_embed_metadata_keys=['file_name', 'file_type', 'file_size', 'creation_date', 'last_modified_date', 'last_accessed_date'], excluded_llm_metadata_keys=['file_name', 'file_type', 'file_size', 'creation_date', 'last_modified_date', 'last_accessed_date'], relationships={}, text='Dev Set\\nTasks MNLI-m QNLI MRPC SST-2 SQuAD\\n(Acc) (Acc) (Acc) (Acc) (F1)\\nBERTBASE 84.4 88.4 86.7 92.7 88.5\\nNo NSP 83.9 84.9 86.5 92.6 87.9\\nLTR & No NSP 82.1 84.3 77.5 92.1 77.8\\n+ BiLSTM 82.1 84.1 75.7 91.6 84.9\\nTable 5: Ablation over the pre-training tasks using the\\nBERTBASE architecture. “No NSP” is trained without\\nthe next sentence prediction task. “LTR & No NSP” is\\ntrained as a left-to-right LM without the next sentence\\nprediction, like OpenAI GPT. “+ BiLSTM” adds a ran-\\ndomly initialized BiLSTM on top of the “LTR + No\\nNSP” model during ﬁne-tuning.\\nablation studies can be found in Appendix C.\\n5.1 Effect of Pre-training Tasks\\nWe demonstrate the importance of the deep bidi-\\nrectionality of BERT by evaluating two pre-\\ntraining objectives using exactly the same pre-\\ntraining data, ﬁne-tuning scheme, and hyperpa-\\nrameters as BERTBASE :\\nNo NSP: A bidirectional model which is trained\\nusing the “masked LM” (MLM) but without the\\n“next sentence prediction” (NSP) task.\\nLTR & No NSP: A left-context-only model which\\nis trained using a standard Left-to-Right (LTR)\\nLM, rather than an MLM. The left-only constraint\\nwas also applied at ﬁne-tuning, because removing\\nit introduced a pre-train/ﬁne-tune mismatch that\\ndegraded downstream performance. Additionally,\\nthis model was pre-trained without the NSP task.\\nThis is directly comparable to OpenAI GPT, but\\nusing our larger training dataset, our input repre-\\nsentation, and our ﬁne-tuning scheme.\\nWe ﬁrst examine the impact brought by the NSP\\ntask. In Table 5, we show that removing NSP\\nhurts performance signiﬁcantly on QNLI, MNLI,\\nand SQuAD 1.1. Next, we evaluate the impact\\nof training bidirectional representations by com-\\nparing “No NSP” to “LTR & No NSP”. The LTR\\nmodel performs worse than the MLM model on all\\ntasks, with large drops on MRPC and SQuAD.\\nFor SQuAD it is intuitively clear that a LTR\\nmodel will perform poorly at token predictions,\\nsince the token-level hidden states have no right-\\nside context. In order to make a good faith at-\\ntempt at strengthening the LTR system, we added\\na randomly initialized BiLSTM on top. This does\\nsigniﬁcantly improve results on SQuAD, but the\\nresults are still far worse than those of the pre-\\ntrained bidirectional models. The BiLSTM hurts\\nperformance on the GLUE tasks.\\nWe recognize that it would also be possible to\\ntrain separate LTR and RTL models and represent\\neach token as the concatenation of the two mod-\\nels, as ELMo does. However: (a) this is twice as\\nexpensive as a single bidirectional model; (b) this\\nis non-intuitive for tasks like QA, since the RTL\\nmodel would not be able to condition the answer\\non the question; (c) this it is strictly less powerful\\nthan a deep bidirectional model, since it can use\\nboth left and right context at every layer.\\n5.2 Effect of Model Size\\nIn this section, we explore the effect of model size\\non ﬁne-tuning task accuracy. We trained a number\\nof BERT models with a differing number of layers,\\nhidden units, and attention heads, while otherwise\\nusing the same hyperparameters and training pro-\\ncedure as described previously.\\nResults on selected GLUE tasks are shown in\\nTable 6. In this table, we report the average Dev\\nSet accuracy from 5 random restarts of ﬁne-tuning.\\nWe can see that larger models lead to a strict ac-\\ncuracy improvement across all four datasets, even\\nfor MRPC which only has 3,600 labeled train-\\ning examples, and is substantially different from\\nthe pre-training tasks. It is also perhaps surpris-\\ning that we are able to achieve such signiﬁcant\\nimprovements on top of models which are al-\\nready quite large relative to the existing literature.\\nFor example, the largest Transformer explored in\\nVaswani et al. (2017) is (L=6, H=1024, A=16)\\nwith 100M parameters for the encoder, and the\\nlargest Transformer we have found in the literature\\nis (L=64, H=512, A=2) with 235M parameters\\n(Al-Rfou et al., 2018). By contrast, BERT BASE\\ncontains 110M parameters and BERT LARGE con-\\ntains 340M parameters.\\nIt has long been known that increasing the\\nmodel size will lead to continual improvements\\non large-scale tasks such as machine translation\\nand language modeling, which is demonstrated\\nby the LM perplexity of held-out training data\\nshown in Table 6. However, we believe that\\nthis is the ﬁrst work to demonstrate convinc-\\ningly that scaling to extreme model sizes also\\nleads to large improvements on very small scale\\ntasks, provided that the model has been sufﬁ-\\nciently pre-trained. Peters et al. (2018b) presented', mimetype='text/plain', start_char_idx=None, end_char_idx=None, text_template='{metadata_str}\\n\\n{content}', metadata_template='{key}: {value}', metadata_seperator='\\n'),\n",
       "   Document(id_='b7106603-2da3-450b-b42a-47571e058902', embedding=None, metadata={'page_label': '9', 'file_name': 'BERT pre_training of deep bidirectional transformers for language understanding 1810.04805v2.pdf', 'file_path': 'C:\\\\Users\\\\18623\\\\Desktop\\\\PhiAi\\\\Jupyter\\\\papers\\\\BERT pre_training of deep bidirectional transformers for language understanding 1810.04805v2.pdf', 'file_type': 'application/pdf', 'file_size': 775166, 'creation_date': '2024-12-12', 'last_modified_date': '2024-12-12'}, excluded_embed_metadata_keys=['file_name', 'file_type', 'file_size', 'creation_date', 'last_modified_date', 'last_accessed_date'], excluded_llm_metadata_keys=['file_name', 'file_type', 'file_size', 'creation_date', 'last_modified_date', 'last_accessed_date'], relationships={}, text='mixed results on the downstream task impact of\\nincreasing the pre-trained bi-LM size from two\\nto four layers and Melamud et al. (2016) men-\\ntioned in passing that increasing hidden dimen-\\nsion size from 200 to 600 helped, but increasing\\nfurther to 1,000 did not bring further improve-\\nments. Both of these prior works used a feature-\\nbased approach — we hypothesize that when the\\nmodel is ﬁne-tuned directly on the downstream\\ntasks and uses only a very small number of ran-\\ndomly initialized additional parameters, the task-\\nspeciﬁc models can beneﬁt from the larger, more\\nexpressive pre-trained representations even when\\ndownstream task data is very small.\\n5.3 Feature-based Approach with BERT\\nAll of the BERT results presented so far have used\\nthe ﬁne-tuning approach, where a simple classiﬁ-\\ncation layer is added to the pre-trained model, and\\nall parameters are jointly ﬁne-tuned on a down-\\nstream task. However, the feature-based approach,\\nwhere ﬁxed features are extracted from the pre-\\ntrained model, has certain advantages. First, not\\nall tasks can be easily represented by a Trans-\\nformer encoder architecture, and therefore require\\na task-speciﬁc model architecture to be added.\\nSecond, there are major computational beneﬁts\\nto pre-compute an expensive representation of the\\ntraining data once and then run many experiments\\nwith cheaper models on top of this representation.\\nIn this section, we compare the two approaches\\nby applying BERT to the CoNLL-2003 Named\\nEntity Recognition (NER) task (Tjong Kim Sang\\nand De Meulder, 2003). In the input to BERT, we\\nuse a case-preserving WordPiece model, and we\\ninclude the maximal document context provided\\nby the data. Following standard practice, we for-\\nmulate this as a tagging task but do not use a CRF\\nHyperparams Dev Set Accuracy\\n#L #H #A LM (ppl) MNLI-m MRPC SST-2\\n3 768 12 5.84 77.9 79.8 88.4\\n6 768 3 5.24 80.6 82.2 90.7\\n6 768 12 4.68 81.9 84.8 91.3\\n12 768 12 3.99 84.4 86.7 92.9\\n12 1024 16 3.54 85.7 86.9 93.3\\n24 1024 16 3.23 86.6 87.8 93.7\\nTable 6: Ablation over BERT model size. #L = the\\nnumber of layers; #H = hidden size; #A = number of at-\\ntention heads. “LM (ppl)” is the masked LM perplexity\\nof held-out training data.\\nSystem Dev F1 Test F1\\nELMo (Peters et al., 2018a) 95.7 92.2\\nCVT (Clark et al., 2018) - 92.6\\nCSE (Akbik et al., 2018) - 93.1\\nFine-tuning approach\\nBERTLARGE 96.6 92.8\\nBERTBASE 96.4 92.4\\nFeature-based approach (BERTBASE )\\nEmbeddings 91.0 -\\nSecond-to-Last Hidden 95.6 -\\nLast Hidden 94.9 -\\nWeighted Sum Last Four Hidden 95.9 -\\nConcat Last Four Hidden 96.1 -\\nWeighted Sum All 12 Layers 95.5 -\\nTable 7: CoNLL-2003 Named Entity Recognition re-\\nsults. Hyperparameters were selected using the Dev\\nset. The reported Dev and Test scores are averaged over\\n5 random restarts using those hyperparameters.\\nlayer in the output. We use the representation of\\nthe ﬁrst sub-token as the input to the token-level\\nclassiﬁer over the NER label set.\\nTo ablate the ﬁne-tuning approach, we apply the\\nfeature-based approach by extracting the activa-\\ntions from one or more layers without ﬁne-tuning\\nany parameters of BERT. These contextual em-\\nbeddings are used as input to a randomly initial-\\nized two-layer 768-dimensional BiLSTM before\\nthe classiﬁcation layer.\\nResults are presented in Table 7. BERT LARGE\\nperforms competitively with state-of-the-art meth-\\nods. The best performing method concatenates the\\ntoken representations from the top four hidden lay-\\ners of the pre-trained Transformer, which is only\\n0.3 F1 behind ﬁne-tuning the entire model. This\\ndemonstrates that BERT is effective for both ﬁne-\\ntuning and feature-based approaches.\\n6 Conclusion\\nRecent empirical improvements due to transfer\\nlearning with language models have demonstrated\\nthat rich, unsupervised pre-training is an integral\\npart of many language understanding systems. In\\nparticular, these results enable even low-resource\\ntasks to beneﬁt from deep unidirectional architec-\\ntures. Our major contribution is further general-\\nizing these ﬁndings to deep bidirectional architec-\\ntures, allowing the same pre-trained model to suc-\\ncessfully tackle a broad set of NLP tasks.', mimetype='text/plain', start_char_idx=None, end_char_idx=None, text_template='{metadata_str}\\n\\n{content}', metadata_template='{key}: {value}', metadata_seperator='\\n'),\n",
       "   Document(id_='17e3f93e-0058-45d3-89a2-6b5069c6b086', embedding=None, metadata={'page_label': '10', 'file_name': 'BERT pre_training of deep bidirectional transformers for language understanding 1810.04805v2.pdf', 'file_path': 'C:\\\\Users\\\\18623\\\\Desktop\\\\PhiAi\\\\Jupyter\\\\papers\\\\BERT pre_training of deep bidirectional transformers for language understanding 1810.04805v2.pdf', 'file_type': 'application/pdf', 'file_size': 775166, 'creation_date': '2024-12-12', 'last_modified_date': '2024-12-12'}, excluded_embed_metadata_keys=['file_name', 'file_type', 'file_size', 'creation_date', 'last_modified_date', 'last_accessed_date'], excluded_llm_metadata_keys=['file_name', 'file_type', 'file_size', 'creation_date', 'last_modified_date', 'last_accessed_date'], relationships={}, text='References\\nAlan Akbik, Duncan Blythe, and Roland V ollgraf.\\n2018. Contextual string embeddings for sequence\\nlabeling. In Proceedings of the 27th International\\nConference on Computational Linguistics , pages\\n1638–1649.\\nRami Al-Rfou, Dokook Choe, Noah Constant, Mandy\\nGuo, and Llion Jones. 2018. Character-level lan-\\nguage modeling with deeper self-attention. arXiv\\npreprint arXiv:1808.04444.\\nRie Kubota Ando and Tong Zhang. 2005. A framework\\nfor learning predictive structures from multiple tasks\\nand unlabeled data. Journal of Machine Learning\\nResearch, 6(Nov):1817–1853.\\nLuisa Bentivogli, Bernardo Magnini, Ido Dagan,\\nHoa Trang Dang, and Danilo Giampiccolo. 2009.\\nThe ﬁfth PASCAL recognizing textual entailment\\nchallenge. In TAC. NIST.\\nJohn Blitzer, Ryan McDonald, and Fernando Pereira.\\n2006. Domain adaptation with structural correspon-\\ndence learning. In Proceedings of the 2006 confer-\\nence on empirical methods in natural language pro-\\ncessing, pages 120–128. Association for Computa-\\ntional Linguistics.\\nSamuel R. Bowman, Gabor Angeli, Christopher Potts,\\nand Christopher D. Manning. 2015. A large anno-\\ntated corpus for learning natural language inference.\\nIn EMNLP. Association for Computational Linguis-\\ntics.\\nPeter F Brown, Peter V Desouza, Robert L Mercer,\\nVincent J Della Pietra, and Jenifer C Lai. 1992.\\nClass-based n-gram models of natural language.\\nComputational linguistics, 18(4):467–479.\\nDaniel Cer, Mona Diab, Eneko Agirre, Inigo Lopez-\\nGazpio, and Lucia Specia. 2017. Semeval-2017\\ntask 1: Semantic textual similarity multilingual and\\ncrosslingual focused evaluation. In Proceedings\\nof the 11th International Workshop on Semantic\\nEvaluation (SemEval-2017) , pages 1–14, Vancou-\\nver, Canada. Association for Computational Lin-\\nguistics.\\nCiprian Chelba, Tomas Mikolov, Mike Schuster, Qi Ge,\\nThorsten Brants, Phillipp Koehn, and Tony Robin-\\nson. 2013. One billion word benchmark for measur-\\ning progress in statistical language modeling. arXiv\\npreprint arXiv:1312.3005.\\nZ. Chen, H. Zhang, X. Zhang, and L. Zhao. 2018.\\nQuora question pairs.\\nChristopher Clark and Matt Gardner. 2018. Simple\\nand effective multi-paragraph reading comprehen-\\nsion. In ACL.\\nKevin Clark, Minh-Thang Luong, Christopher D Man-\\nning, and Quoc Le. 2018. Semi-supervised se-\\nquence modeling with cross-view training. In Pro-\\nceedings of the 2018 Conference on Empirical Meth-\\nods in Natural Language Processing , pages 1914–\\n1925.\\nRonan Collobert and Jason Weston. 2008. A uniﬁed\\narchitecture for natural language processing: Deep\\nneural networks with multitask learning. In Pro-\\nceedings of the 25th international conference on\\nMachine learning, pages 160–167. ACM.\\nAlexis Conneau, Douwe Kiela, Holger Schwenk, Lo ¨ıc\\nBarrault, and Antoine Bordes. 2017. Supervised\\nlearning of universal sentence representations from\\nnatural language inference data. In Proceedings of\\nthe 2017 Conference on Empirical Methods in Nat-\\nural Language Processing, pages 670–680, Copen-\\nhagen, Denmark. Association for Computational\\nLinguistics.\\nAndrew M Dai and Quoc V Le. 2015. Semi-supervised\\nsequence learning. In Advances in neural informa-\\ntion processing systems, pages 3079–3087.\\nJ. Deng, W. Dong, R. Socher, L.-J. Li, K. Li, and L. Fei-\\nFei. 2009. ImageNet: A Large-Scale Hierarchical\\nImage Database. In CVPR09.\\nWilliam B Dolan and Chris Brockett. 2005. Automati-\\ncally constructing a corpus of sentential paraphrases.\\nIn Proceedings of the Third International Workshop\\non Paraphrasing (IWP2005).\\nWilliam Fedus, Ian Goodfellow, and Andrew M Dai.\\n2018. Maskgan: Better text generation via ﬁlling in\\nthe . arXiv preprint arXiv:1801.07736.\\nDan Hendrycks and Kevin Gimpel. 2016. Bridging\\nnonlinearities and stochastic regularizers with gaus-\\nsian error linear units. CoRR, abs/1606.08415.\\nFelix Hill, Kyunghyun Cho, and Anna Korhonen. 2016.\\nLearning distributed representations of sentences\\nfrom unlabelled data. In Proceedings of the 2016\\nConference of the North American Chapter of the\\nAssociation for Computational Linguistics: Human\\nLanguage Technologies. Association for Computa-\\ntional Linguistics.\\nJeremy Howard and Sebastian Ruder. 2018. Universal\\nlanguage model ﬁne-tuning for text classiﬁcation. In\\nACL. Association for Computational Linguistics.\\nMinghao Hu, Yuxing Peng, Zhen Huang, Xipeng Qiu,\\nFuru Wei, and Ming Zhou. 2018. Reinforced\\nmnemonic reader for machine reading comprehen-\\nsion. In IJCAI.\\nYacine Jernite, Samuel R. Bowman, and David Son-\\ntag. 2017. Discourse-based objectives for fast un-\\nsupervised sentence representation learning. CoRR,\\nabs/1705.00557.', mimetype='text/plain', start_char_idx=None, end_char_idx=None, text_template='{metadata_str}\\n\\n{content}', metadata_template='{key}: {value}', metadata_seperator='\\n'),\n",
       "   Document(id_='8b666ff9-6054-4669-8b53-d30fab906a4b', embedding=None, metadata={'page_label': '11', 'file_name': 'BERT pre_training of deep bidirectional transformers for language understanding 1810.04805v2.pdf', 'file_path': 'C:\\\\Users\\\\18623\\\\Desktop\\\\PhiAi\\\\Jupyter\\\\papers\\\\BERT pre_training of deep bidirectional transformers for language understanding 1810.04805v2.pdf', 'file_type': 'application/pdf', 'file_size': 775166, 'creation_date': '2024-12-12', 'last_modified_date': '2024-12-12'}, excluded_embed_metadata_keys=['file_name', 'file_type', 'file_size', 'creation_date', 'last_modified_date', 'last_accessed_date'], excluded_llm_metadata_keys=['file_name', 'file_type', 'file_size', 'creation_date', 'last_modified_date', 'last_accessed_date'], relationships={}, text='Mandar Joshi, Eunsol Choi, Daniel S Weld, and Luke\\nZettlemoyer. 2017. Triviaqa: A large scale distantly\\nsupervised challenge dataset for reading comprehen-\\nsion. In ACL.\\nRyan Kiros, Yukun Zhu, Ruslan R Salakhutdinov,\\nRichard Zemel, Raquel Urtasun, Antonio Torralba,\\nand Sanja Fidler. 2015. Skip-thought vectors. In\\nAdvances in neural information processing systems,\\npages 3294–3302.\\nQuoc Le and Tomas Mikolov. 2014. Distributed rep-\\nresentations of sentences and documents. In Inter-\\nnational Conference on Machine Learning , pages\\n1188–1196.\\nHector J Levesque, Ernest Davis, and Leora Morgen-\\nstern. 2011. The winograd schema challenge. In\\nAaai spring symposium: Logical formalizations of\\ncommonsense reasoning, volume 46, page 47.\\nLajanugen Logeswaran and Honglak Lee. 2018. An\\nefﬁcient framework for learning sentence represen-\\ntations. In International Conference on Learning\\nRepresentations.\\nBryan McCann, James Bradbury, Caiming Xiong, and\\nRichard Socher. 2017. Learned in translation: Con-\\ntextualized word vectors. In NIPS.\\nOren Melamud, Jacob Goldberger, and Ido Dagan.\\n2016. context2vec: Learning generic context em-\\nbedding with bidirectional LSTM. In CoNLL.\\nTomas Mikolov, Ilya Sutskever, Kai Chen, Greg S Cor-\\nrado, and Jeff Dean. 2013. Distributed representa-\\ntions of words and phrases and their compositional-\\nity. In Advances in Neural Information Processing\\nSystems 26 , pages 3111–3119. Curran Associates,\\nInc.\\nAndriy Mnih and Geoffrey E Hinton. 2009. A scal-\\nable hierarchical distributed language model. In\\nD. Koller, D. Schuurmans, Y . Bengio, and L. Bot-\\ntou, editors, Advances in Neural Information Pro-\\ncessing Systems 21 , pages 1081–1088. Curran As-\\nsociates, Inc.\\nAnkur P Parikh, Oscar T ¨ackstr¨om, Dipanjan Das, and\\nJakob Uszkoreit. 2016. A decomposable attention\\nmodel for natural language inference. In EMNLP.\\nJeffrey Pennington, Richard Socher, and Christo-\\npher D. Manning. 2014. Glove: Global vectors for\\nword representation. In Empirical Methods in Nat-\\nural Language Processing (EMNLP) , pages 1532–\\n1543.\\nMatthew Peters, Waleed Ammar, Chandra Bhagavat-\\nula, and Russell Power. 2017. Semi-supervised se-\\nquence tagging with bidirectional language models.\\nIn ACL.\\nMatthew Peters, Mark Neumann, Mohit Iyyer, Matt\\nGardner, Christopher Clark, Kenton Lee, and Luke\\nZettlemoyer. 2018a. Deep contextualized word rep-\\nresentations. In NAACL.\\nMatthew Peters, Mark Neumann, Luke Zettlemoyer,\\nand Wen-tau Yih. 2018b. Dissecting contextual\\nword embeddings: Architecture and representation.\\nIn Proceedings of the 2018 Conference on Empiri-\\ncal Methods in Natural Language Processing, pages\\n1499–1509.\\nAlec Radford, Karthik Narasimhan, Tim Salimans, and\\nIlya Sutskever. 2018. Improving language under-\\nstanding with unsupervised learning. Technical re-\\nport, OpenAI.\\nPranav Rajpurkar, Jian Zhang, Konstantin Lopyrev, and\\nPercy Liang. 2016. Squad: 100,000+ questions for\\nmachine comprehension of text. In Proceedings of\\nthe 2016 Conference on Empirical Methods in Nat-\\nural Language Processing, pages 2383–2392.\\nMinjoon Seo, Aniruddha Kembhavi, Ali Farhadi, and\\nHannaneh Hajishirzi. 2017. Bidirectional attention\\nﬂow for machine comprehension. In ICLR.\\nRichard Socher, Alex Perelygin, Jean Wu, Jason\\nChuang, Christopher D Manning, Andrew Ng, and\\nChristopher Potts. 2013. Recursive deep models\\nfor semantic compositionality over a sentiment tree-\\nbank. In Proceedings of the 2013 conference on\\nempirical methods in natural language processing ,\\npages 1631–1642.\\nFu Sun, Linyang Li, Xipeng Qiu, and Yang Liu.\\n2018. U-net: Machine reading comprehension\\nwith unanswerable questions. arXiv preprint\\narXiv:1810.06638.\\nWilson L Taylor. 1953. Cloze procedure: A new\\ntool for measuring readability. Journalism Bulletin,\\n30(4):415–433.\\nErik F Tjong Kim Sang and Fien De Meulder.\\n2003. Introduction to the conll-2003 shared task:\\nLanguage-independent named entity recognition. In\\nCoNLL.\\nJoseph Turian, Lev Ratinov, and Yoshua Bengio. 2010.\\nWord representations: A simple and general method\\nfor semi-supervised learning. In Proceedings of the\\n48th Annual Meeting of the Association for Compu-\\ntational Linguistics, ACL ’10, pages 384–394.\\nAshish Vaswani, Noam Shazeer, Niki Parmar, Jakob\\nUszkoreit, Llion Jones, Aidan N Gomez, Lukasz\\nKaiser, and Illia Polosukhin. 2017. Attention is all\\nyou need. In Advances in Neural Information Pro-\\ncessing Systems, pages 6000–6010.\\nPascal Vincent, Hugo Larochelle, Yoshua Bengio, and\\nPierre-Antoine Manzagol. 2008. Extracting and\\ncomposing robust features with denoising autoen-\\ncoders. In Proceedings of the 25th international\\nconference on Machine learning, pages 1096–1103.\\nACM.\\nAlex Wang, Amanpreet Singh, Julian Michael, Fe-\\nlix Hill, Omer Levy, and Samuel Bowman. 2018a.\\nGlue: A multi-task benchmark and analysis platform', mimetype='text/plain', start_char_idx=None, end_char_idx=None, text_template='{metadata_str}\\n\\n{content}', metadata_template='{key}: {value}', metadata_seperator='\\n'),\n",
       "   Document(id_='d14808bf-fcdc-4bbb-b8b4-f09917421dfe', embedding=None, metadata={'page_label': '1', 'file_name': 'BERT pre_training of deep bidirectional transformers for language understanding 1810.04805v2.pdf', 'file_path': 'C:\\\\Users\\\\18623\\\\Desktop\\\\PhiAi\\\\Jupyter\\\\papers\\\\BERT pre_training of deep bidirectional transformers for language understanding 1810.04805v2.pdf', 'file_type': 'application/pdf', 'file_size': 775166, 'creation_date': '2024-12-12', 'last_modified_date': '2024-12-12'}, excluded_embed_metadata_keys=['file_name', 'file_type', 'file_size', 'creation_date', 'last_modified_date', 'last_accessed_date'], excluded_llm_metadata_keys=['file_name', 'file_type', 'file_size', 'creation_date', 'last_modified_date', 'last_accessed_date'], relationships={}, text='for natural language understanding. In Proceedings\\nof the 2018 EMNLP Workshop BlackboxNLP: An-\\nalyzing and Interpreting Neural Networks for NLP ,\\npages 353–355.\\nWei Wang, Ming Yan, and Chen Wu. 2018b. Multi-\\ngranularity hierarchical attention fusion networks\\nfor reading comprehension and question answering.\\nIn Proceedings of the 56th Annual Meeting of the As-\\nsociation for Computational Linguistics (Volume 1:\\nLong Papers). Association for Computational Lin-\\nguistics.\\nAlex Warstadt, Amanpreet Singh, and Samuel R Bow-\\nman. 2018. Neural network acceptability judg-\\nments. arXiv preprint arXiv:1805.12471.\\nAdina Williams, Nikita Nangia, and Samuel R Bow-\\nman. 2018. A broad-coverage challenge corpus\\nfor sentence understanding through inference. In\\nNAACL.\\nYonghui Wu, Mike Schuster, Zhifeng Chen, Quoc V\\nLe, Mohammad Norouzi, Wolfgang Macherey,\\nMaxim Krikun, Yuan Cao, Qin Gao, Klaus\\nMacherey, et al. 2016. Google’s neural ma-\\nchine translation system: Bridging the gap between\\nhuman and machine translation. arXiv preprint\\narXiv:1609.08144.\\nJason Yosinski, Jeff Clune, Yoshua Bengio, and Hod\\nLipson. 2014. How transferable are features in deep\\nneural networks? In Advances in neural information\\nprocessing systems, pages 3320–3328.\\nAdams Wei Yu, David Dohan, Minh-Thang Luong, Rui\\nZhao, Kai Chen, Mohammad Norouzi, and Quoc V\\nLe. 2018. QANet: Combining local convolution\\nwith global self-attention for reading comprehen-\\nsion. In ICLR.\\nRowan Zellers, Yonatan Bisk, Roy Schwartz, and Yejin\\nChoi. 2018. Swag: A large-scale adversarial dataset\\nfor grounded commonsense inference. In Proceed-\\nings of the 2018 Conference on Empirical Methods\\nin Natural Language Processing (EMNLP).\\nYukun Zhu, Ryan Kiros, Rich Zemel, Ruslan Salakhut-\\ndinov, Raquel Urtasun, Antonio Torralba, and Sanja\\nFidler. 2015. Aligning books and movies: Towards\\nstory-like visual explanations by watching movies\\nand reading books. In Proceedings of the IEEE\\ninternational conference on computer vision , pages\\n19–27.\\nAppendix for “BERT: Pre-training of\\nDeep Bidirectional Transformers for\\nLanguage Understanding”\\nWe organize the appendix into three sections:\\n• Additional implementation details for BERT\\nare presented in Appendix A;\\n• Additional details for our experiments are\\npresented in Appendix B; and\\n• Additional ablation studies are presented in\\nAppendix C.\\nWe present additional ablation studies for\\nBERT including:\\n– Effect of Number of Training Steps; and\\n– Ablation for Different Masking Proce-\\ndures.\\nA Additional Details for BERT\\nA.1 Illustration of the Pre-training Tasks\\nWe provide examples of the pre-training tasks in\\nthe following.\\nMasked LM and the Masking ProcedureAs-\\nsuming the unlabeled sentence is my dog is\\nhairy, and during the random masking procedure\\nwe chose the 4-th token (which corresponding to\\nhairy), our masking procedure can be further il-\\nlustrated by\\n• 80% of the time: Replace the word with the\\n[MASK] token, e.g., my dog is hairy →\\nmy dog is [MASK]\\n• 10% of the time: Replace the word with a\\nrandom word, e.g., my dog is hairy → my\\ndog is apple\\n• 10% of the time: Keep the word un-\\nchanged, e.g., my dog is hairy → my dog\\nis hairy. The purpose of this is to bias the\\nrepresentation towards the actual observed\\nword.\\nThe advantage of this procedure is that the\\nTransformer encoder does not know which words\\nit will be asked to predict or which have been re-\\nplaced by random words, so it is forced to keep\\na distributional contextual representation of ev-\\nery input token. Additionally, because random\\nreplacement only occurs for 1.5% of all tokens\\n(i.e., 10% of 15%), this does not seem to harm\\nthe model’s language understanding capability. In\\nSection C.2, we evaluate the impact this proce-\\ndure.\\nCompared to standard langauge model training,\\nthe masked LM only make predictions on 15% of\\ntokens in each batch, which suggests that more\\npre-training steps may be required for the model', mimetype='text/plain', start_char_idx=None, end_char_idx=None, text_template='{metadata_str}\\n\\n{content}', metadata_template='{key}: {value}', metadata_seperator='\\n'),\n",
       "   Document(id_='dfe5fdbc-213c-47b4-8520-187cbc340530', embedding=None, metadata={'page_label': '2', 'file_name': 'BERT pre_training of deep bidirectional transformers for language understanding 1810.04805v2.pdf', 'file_path': 'C:\\\\Users\\\\18623\\\\Desktop\\\\PhiAi\\\\Jupyter\\\\papers\\\\BERT pre_training of deep bidirectional transformers for language understanding 1810.04805v2.pdf', 'file_type': 'application/pdf', 'file_size': 775166, 'creation_date': '2024-12-12', 'last_modified_date': '2024-12-12'}, excluded_embed_metadata_keys=['file_name', 'file_type', 'file_size', 'creation_date', 'last_modified_date', 'last_accessed_date'], excluded_llm_metadata_keys=['file_name', 'file_type', 'file_size', 'creation_date', 'last_modified_date', 'last_accessed_date'], relationships={}, text='BERT (Ours)\\nTrm Trm Trm\\nTrm Trm Trm\\n...\\n...\\nTrm Trm Trm\\nTrm Trm Trm\\n...\\n...\\nOpenAI GPT\\nLstm\\nELMo\\nLstm Lstm\\nLstm Lstm Lstm\\nLstm Lstm Lstm\\nLstm Lstm Lstm\\n T1 T2  TN...\\n...\\n...\\n...\\n...\\n E1 E2  EN...\\n T1 T2 TN...\\n E1 E2  EN...\\n T1 T2  TN...\\n E1 E2  EN...\\nFigure 3: Differences in pre-training model architectures. BERT uses a bidirectional Transformer. OpenAI GPT\\nuses a left-to-right Transformer. ELMo uses the concatenation of independently trained left-to-right and right-to-\\nleft LSTMs to generate features for downstream tasks. Among the three, only BERT representations are jointly\\nconditioned on both left and right context in all layers. In addition to the architecture differences, BERT and\\nOpenAI GPT are ﬁne-tuning approaches, while ELMo is a feature-based approach.\\nto converge. In Section C.1 we demonstrate that\\nMLM does converge marginally slower than a left-\\nto-right model (which predicts every token), but\\nthe empirical improvements of the MLM model\\nfar outweigh the increased training cost.\\nNext Sentence Prediction The next sentence\\nprediction task can be illustrated in the following\\nexamples.\\nInput = [CLS] the man went to [MASK] store [SEP]\\nhe bought a gallon [MASK] milk [SEP]\\nLabel = IsNext\\nInput = [CLS] the man [MASK] to the store [SEP]\\npenguin [MASK] are flight ##less birds [SEP]\\nLabel = NotNext\\nA.2 Pre-training Procedure\\nTo generate each training input sequence, we sam-\\nple two spans of text from the corpus, which we\\nrefer to as “sentences” even though they are typ-\\nically much longer than single sentences (but can\\nbe shorter also). The ﬁrst sentence receives the A\\nembedding and the second receives the B embed-\\nding. 50% of the time B is the actual next sentence\\nthat follows A and 50% of the time it is a random\\nsentence, which is done for the “next sentence pre-\\ndiction” task. They are sampled such that the com-\\nbined length is ≤512 tokens. The LM masking is\\napplied after WordPiece tokenization with a uni-\\nform masking rate of 15%, and no special consid-\\neration given to partial word pieces.\\nWe train with batch size of 256 sequences (256\\nsequences * 512 tokens = 128,000 tokens/batch)\\nfor 1,000,000 steps, which is approximately 40\\nepochs over the 3.3 billion word corpus. We\\nuse Adam with learning rate of 1e-4, β1 = 0.9,\\nβ2 = 0.999, L2 weight decay of 0.01, learning\\nrate warmup over the ﬁrst 10,000 steps, and linear\\ndecay of the learning rate. We use a dropout prob-\\nability of 0.1 on all layers. We use a gelu acti-\\nvation (Hendrycks and Gimpel, 2016) rather than\\nthe standard relu, following OpenAI GPT. The\\ntraining loss is the sum of the mean masked LM\\nlikelihood and the mean next sentence prediction\\nlikelihood.\\nTraining of BERT BASE was performed on 4\\nCloud TPUs in Pod conﬁguration (16 TPU chips\\ntotal).13 Training of BERTLARGE was performed\\non 16 Cloud TPUs (64 TPU chips total). Each pre-\\ntraining took 4 days to complete.\\nLonger sequences are disproportionately expen-\\nsive because attention is quadratic to the sequence\\nlength. To speed up pretraing in our experiments,\\nwe pre-train the model with sequence length of\\n128 for 90% of the steps. Then, we train the rest\\n10% of the steps of sequence of 512 to learn the\\npositional embeddings.\\nA.3 Fine-tuning Procedure\\nFor ﬁne-tuning, most model hyperparameters are\\nthe same as in pre-training, with the exception of\\nthe batch size, learning rate, and number of train-\\ning epochs. The dropout probability was always\\nkept at 0.1. The optimal hyperparameter values\\nare task-speciﬁc, but we found the following range\\nof possible values to work well across all tasks:\\n• Batch size: 16, 32\\n13https://cloudplatform.googleblog.com/2018/06/Cloud-\\nTPU-now-offers-preemptible-pricing-and-global-\\navailability.html', mimetype='text/plain', start_char_idx=None, end_char_idx=None, text_template='{metadata_str}\\n\\n{content}', metadata_template='{key}: {value}', metadata_seperator='\\n'),\n",
       "   Document(id_='89592f2d-e7cd-4f6a-8298-d7f01c2b1edb', embedding=None, metadata={'page_label': '3', 'file_name': 'BERT pre_training of deep bidirectional transformers for language understanding 1810.04805v2.pdf', 'file_path': 'C:\\\\Users\\\\18623\\\\Desktop\\\\PhiAi\\\\Jupyter\\\\papers\\\\BERT pre_training of deep bidirectional transformers for language understanding 1810.04805v2.pdf', 'file_type': 'application/pdf', 'file_size': 775166, 'creation_date': '2024-12-12', 'last_modified_date': '2024-12-12'}, excluded_embed_metadata_keys=['file_name', 'file_type', 'file_size', 'creation_date', 'last_modified_date', 'last_accessed_date'], excluded_llm_metadata_keys=['file_name', 'file_type', 'file_size', 'creation_date', 'last_modified_date', 'last_accessed_date'], relationships={}, text='• Learning rate (Adam): 5e-5, 3e-5, 2e-5\\n• Number of epochs: 2, 3, 4\\nWe also observed that large data sets (e.g.,\\n100k+ labeled training examples) were far less\\nsensitive to hyperparameter choice than small data\\nsets. Fine-tuning is typically very fast, so it is rea-\\nsonable to simply run an exhaustive search over\\nthe above parameters and choose the model that\\nperforms best on the development set.\\nA.4 Comparison of BERT, ELMo ,and\\nOpenAI GPT\\nHere we studies the differences in recent popular\\nrepresentation learning models including ELMo,\\nOpenAI GPT and BERT. The comparisons be-\\ntween the model architectures are shown visually\\nin Figure 3. Note that in addition to the architec-\\nture differences, BERT and OpenAI GPT are ﬁne-\\ntuning approaches, while ELMo is a feature-based\\napproach.\\nThe most comparable existing pre-training\\nmethod to BERT is OpenAI GPT, which trains a\\nleft-to-right Transformer LM on a large text cor-\\npus. In fact, many of the design decisions in BERT\\nwere intentionally made to make it as close to\\nGPT as possible so that the two methods could be\\nminimally compared. The core argument of this\\nwork is that the bi-directionality and the two pre-\\ntraining tasks presented in Section 3.1 account for\\nthe majority of the empirical improvements, but\\nwe do note that there are several other differences\\nbetween how BERT and GPT were trained:\\n• GPT is trained on the BooksCorpus (800M\\nwords); BERT is trained on the BooksCor-\\npus (800M words) and Wikipedia (2,500M\\nwords).\\n• GPT uses a sentence separator ( [SEP]) and\\nclassiﬁer token ( [CLS]) which are only in-\\ntroduced at ﬁne-tuning time; BERT learns\\n[SEP], [CLS] and sentence A/B embed-\\ndings during pre-training.\\n• GPT was trained for 1M steps with a batch\\nsize of 32,000 words; BERT was trained for\\n1M steps with a batch size of 128,000 words.\\n• GPT used the same learning rate of 5e-5 for\\nall ﬁne-tuning experiments; BERT chooses a\\ntask-speciﬁc ﬁne-tuning learning rate which\\nperforms the best on the development set.\\nTo isolate the effect of these differences, we per-\\nform ablation experiments in Section 5.1 which\\ndemonstrate that the majority of the improvements\\nare in fact coming from the two pre-training tasks\\nand the bidirectionality they enable.\\nA.5 Illustrations of Fine-tuning on Different\\nTasks\\nThe illustration of ﬁne-tuning BERT on different\\ntasks can be seen in Figure 4. Our task-speciﬁc\\nmodels are formed by incorporating BERT with\\none additional output layer, so a minimal num-\\nber of parameters need to be learned from scratch.\\nAmong the tasks, (a) and (b) are sequence-level\\ntasks while (c) and (d) are token-level tasks. In\\nthe ﬁgure, E represents the input embedding, Ti\\nrepresents the contextual representation of tokeni,\\n[CLS] is the special symbol for classiﬁcation out-\\nput, and [SEP] is the special symbol to separate\\nnon-consecutive token sequences.\\nB Detailed Experimental Setup\\nB.1 Detailed Descriptions for the GLUE\\nBenchmark Experiments.\\nOur GLUE results in Table1 are obtained\\nfrom https://gluebenchmark.com/\\nleaderboard and https://blog.\\nopenai.com/language-unsupervised.\\nThe GLUE benchmark includes the following\\ndatasets, the descriptions of which were originally\\nsummarized in Wang et al. (2018a):\\nMNLI Multi-Genre Natural Language Inference\\nis a large-scale, crowdsourced entailment classiﬁ-\\ncation task (Williams et al., 2018). Given a pair of\\nsentences, the goal is to predict whether the sec-\\nond sentence is an entailment, contradiction, or\\nneutral with respect to the ﬁrst one.\\nQQP Quora Question Pairs is a binary classiﬁ-\\ncation task where the goal is to determine if two\\nquestions asked on Quora are semantically equiv-\\nalent (Chen et al., 2018).\\nQNLI Question Natural Language Inference is\\na version of the Stanford Question Answering\\nDataset (Rajpurkar et al., 2016) which has been\\nconverted to a binary classiﬁcation task (Wang\\net al., 2018a). The positive examples are (ques-\\ntion, sentence) pairs which do contain the correct\\nanswer, and the negative examples are (question,\\nsentence) from the same paragraph which do not\\ncontain the answer.', mimetype='text/plain', start_char_idx=None, end_char_idx=None, text_template='{metadata_str}\\n\\n{content}', metadata_template='{key}: {value}', metadata_seperator='\\n'),\n",
       "   Document(id_='8dbb2edc-cfbb-4d4a-af42-ddd4c9c648d6', embedding=None, metadata={'page_label': '4', 'file_name': 'BERT pre_training of deep bidirectional transformers for language understanding 1810.04805v2.pdf', 'file_path': 'C:\\\\Users\\\\18623\\\\Desktop\\\\PhiAi\\\\Jupyter\\\\papers\\\\BERT pre_training of deep bidirectional transformers for language understanding 1810.04805v2.pdf', 'file_type': 'application/pdf', 'file_size': 775166, 'creation_date': '2024-12-12', 'last_modified_date': '2024-12-12'}, excluded_embed_metadata_keys=['file_name', 'file_type', 'file_size', 'creation_date', 'last_modified_date', 'last_accessed_date'], excluded_llm_metadata_keys=['file_name', 'file_type', 'file_size', 'creation_date', 'last_modified_date', 'last_accessed_date'], relationships={}, text='BERT\\nE[CLS] E1  E[SEP]... EN E1’ ... EM’\\nC\\n T1\\n T[SEP]...\\n TN\\n T1’ ...\\n TM’\\n[CLS] Tok \\n1\\n [SEP]... Tok \\nN\\nTok \\n1 ... Tok\\nM\\nQuestion Paragraph\\nBERT\\nE[CLS] E1  E2  EN\\nC\\n T1\\n  T2\\n  TN\\nSingle Sentence \\n...\\n...\\nBERT\\nTok 1  Tok 2  Tok N...[CLS]\\nE[CLS] E1  E2  EN\\nC\\n T1\\n  T2\\n  TN\\nSingle Sentence \\nB-PERO O\\n...\\n...E[CLS] E1  E[SEP]\\nClass \\nLabel\\n... EN E1’ ... EM’\\nC\\n T1\\n T[SEP]...\\n TN\\n T1’ ...\\n TM’\\nStart/End Span\\nClass \\nLabel\\nBERT\\nTok 1  Tok 2  Tok N...[CLS] Tok 1[CLS][CLS] Tok \\n1\\n [SEP]... Tok \\nN\\nTok \\n1 ... Tok\\nM\\nSentence 1\\n...\\nSentence 2\\nFigure 4: Illustrations of Fine-tuning BERT on Different Tasks.\\nSST-2 The Stanford Sentiment Treebank is a\\nbinary single-sentence classiﬁcation task consist-\\ning of sentences extracted from movie reviews\\nwith human annotations of their sentiment (Socher\\net al., 2013).\\nCoLA The Corpus of Linguistic Acceptability is\\na binary single-sentence classiﬁcation task, where\\nthe goal is to predict whether an English sentence\\nis linguistically “acceptable” or not (Warstadt\\net al., 2018).\\nSTS-B The Semantic Textual Similarity Bench-\\nmark is a collection of sentence pairs drawn from\\nnews headlines and other sources (Cer et al.,\\n2017). They were annotated with a score from 1\\nto 5 denoting how similar the two sentences are in\\nterms of semantic meaning.\\nMRPC Microsoft Research Paraphrase Corpus\\nconsists of sentence pairs automatically extracted\\nfrom online news sources, with human annotations\\nfor whether the sentences in the pair are semanti-\\ncally equivalent (Dolan and Brockett, 2005).\\nRTE Recognizing Textual Entailment is a bi-\\nnary entailment task similar to MNLI, but with\\nmuch less training data (Bentivogli et al., 2009).14\\nWNLI Winograd NLI is a small natural lan-\\nguage inference dataset (Levesque et al., 2011).\\nThe GLUE webpage notes that there are issues\\nwith the construction of this dataset, 15 and every\\ntrained system that’s been submitted to GLUE has\\nperformed worse than the 65.1 baseline accuracy\\nof predicting the majority class. We therefore ex-\\nclude this set to be fair to OpenAI GPT. For our\\nGLUE submission, we always predicted the ma-\\n14Note that we only report single-task ﬁne-tuning results\\nin this paper. A multitask ﬁne-tuning approach could poten-\\ntially push the performance even further. For example, we\\ndid observe substantial improvements on RTE from multi-\\ntask training with MNLI.\\n15https://gluebenchmark.com/faq', mimetype='text/plain', start_char_idx=None, end_char_idx=None, text_template='{metadata_str}\\n\\n{content}', metadata_template='{key}: {value}', metadata_seperator='\\n'),\n",
       "   Document(id_='c4f2d7fe-2cbf-4e74-9d55-36fb5e0f2f56', embedding=None, metadata={'page_label': '5', 'file_name': 'BERT pre_training of deep bidirectional transformers for language understanding 1810.04805v2.pdf', 'file_path': 'C:\\\\Users\\\\18623\\\\Desktop\\\\PhiAi\\\\Jupyter\\\\papers\\\\BERT pre_training of deep bidirectional transformers for language understanding 1810.04805v2.pdf', 'file_type': 'application/pdf', 'file_size': 775166, 'creation_date': '2024-12-12', 'last_modified_date': '2024-12-12'}, excluded_embed_metadata_keys=['file_name', 'file_type', 'file_size', 'creation_date', 'last_modified_date', 'last_accessed_date'], excluded_llm_metadata_keys=['file_name', 'file_type', 'file_size', 'creation_date', 'last_modified_date', 'last_accessed_date'], relationships={}, text='jority class.\\nC Additional Ablation Studies\\nC.1 Effect of Number of Training Steps\\nFigure 5 presents MNLI Dev accuracy after ﬁne-\\ntuning from a checkpoint that has been pre-trained\\nfor ksteps. This allows us to answer the following\\nquestions:\\n1. Question: Does BERT really need such\\na large amount of pre-training (128,000\\nwords/batch * 1,000,000 steps) to achieve\\nhigh ﬁne-tuning accuracy?\\nAnswer: Yes, BERT BASE achieves almost\\n1.0% additional accuracy on MNLI when\\ntrained on 1M steps compared to 500k steps.\\n2. Question: Does MLM pre-training converge\\nslower than LTR pre-training, since only 15%\\nof words are predicted in each batch rather\\nthan every word?\\nAnswer: The MLM model does converge\\nslightly slower than the LTR model. How-\\never, in terms of absolute accuracy the MLM\\nmodel begins to outperform the LTR model\\nalmost immediately.\\nC.2 Ablation for Different Masking\\nProcedures\\nIn Section 3.1, we mention that BERT uses a\\nmixed strategy for masking the target tokens when\\npre-training with the masked language model\\n(MLM) objective. The following is an ablation\\nstudy to evaluate the effect of different masking\\nstrategies.\\n200 400 600 800 1,000\\n76\\n78\\n80\\n82\\n84\\nPre-training Steps (Thousands)\\nMNLI Dev Accuracy\\nBERTBASE (Masked LM)\\nBERTBASE (Left-to-Right)\\nFigure 5: Ablation over number of training steps. This\\nshows the MNLI accuracy after ﬁne-tuning, starting\\nfrom model parameters that have been pre-trained for\\nksteps. The x-axis is the value of k.\\nNote that the purpose of the masking strategies\\nis to reduce the mismatch between pre-training\\nand ﬁne-tuning, as the [MASK] symbol never ap-\\npears during the ﬁne-tuning stage. We report the\\nDev results for both MNLI and NER. For NER,\\nwe report both ﬁne-tuning and feature-based ap-\\nproaches, as we expect the mismatch will be am-\\npliﬁed for the feature-based approach as the model\\nwill not have the chance to adjust the representa-\\ntions.\\nMasking Rates Dev Set Results\\nMASK SAME RND MNLI NER\\nFine-tune Fine-tune Feature-based\\n80% 10% 10% 84.2 95.4 94.9\\n100% 0% 0% 84.3 94.9 94.0\\n80% 0% 20% 84.1 95.2 94.6\\n80% 20% 0% 84.4 95.2 94.7\\n0% 20% 80% 83.7 94.8 94.6\\n0% 0% 100% 83.6 94.9 94.6\\nTable 8: Ablation over different masking strategies.\\nThe results are presented in Table 8. In the table,\\nMASK means that we replace the target token with\\nthe [MASK] symbol for MLM; SAME means that\\nwe keep the target token as is; R ND means that\\nwe replace the target token with another random\\ntoken.\\nThe numbers in the left part of the table repre-\\nsent the probabilities of the speciﬁc strategies used\\nduring MLM pre-training (BERT uses 80%, 10%,\\n10%). The right part of the paper represents the\\nDev set results. For the feature-based approach,\\nwe concatenate the last 4 layers of BERT as the\\nfeatures, which was shown to be the best approach\\nin Section 5.3.\\nFrom the table it can be seen that ﬁne-tuning is\\nsurprisingly robust to different masking strategies.\\nHowever, as expected, using only the MASK strat-\\negy was problematic when applying the feature-\\nbased approach to NER. Interestingly, using only\\nthe R ND strategy performs much worse than our\\nstrategy as well.', mimetype='text/plain', start_char_idx=None, end_char_idx=None, text_template='{metadata_str}\\n\\n{content}', metadata_template='{key}: {value}', metadata_seperator='\\n')]]}"
      ]
     },
     "execution_count": 10,
     "metadata": {},
     "output_type": "execute_result"
    }
   ],
   "source": [
    "doc_dict"
   ]
  },
  {
   "cell_type": "code",
   "execution_count": 148,
   "id": "7b3de327-5a1e-4eb4-baea-99f2ef2c4bb9",
   "metadata": {},
   "outputs": [
    {
     "data": {
      "text/plain": [
       "15"
      ]
     },
     "execution_count": 148,
     "metadata": {},
     "output_type": "execute_result"
    }
   ],
   "source": [
    "len(doc_dict['attention is all you need 1706.03762v7.pdf'])"
   ]
  },
  {
   "cell_type": "code",
   "execution_count": 149,
   "id": "95ffcf45-5313-484f-a3b7-f6e45ac56e1c",
   "metadata": {},
   "outputs": [
    {
     "data": {
      "text/plain": [
       "16"
      ]
     },
     "execution_count": 149,
     "metadata": {},
     "output_type": "execute_result"
    }
   ],
   "source": [
    "len(doc_dict['BERT pre_training of deep bidirectional transformers for language understanding 1810.04805v2.pdf'])"
   ]
  },
  {
   "cell_type": "code",
   "execution_count": 17,
   "id": "ab3b9d45-7013-4144-89f6-0555afb9fac9",
   "metadata": {},
   "outputs": [],
   "source": [
    "doc = doc_dict['attention is all you need 1706.03762v7.pdf'][0]"
   ]
  },
  {
   "cell_type": "code",
   "execution_count": 18,
   "id": "54909f3f-6419-474a-a5b6-2de317684b00",
   "metadata": {},
   "outputs": [
    {
     "data": {
      "text/plain": [
       "{'id_': '2e700a66-446a-4d2a-9c2b-140fb88968d8',\n",
       " 'embedding': None,\n",
       " 'metadata': {'page_label': '1',\n",
       "  'file_name': 'attention is all you need 1706.03762v7.pdf',\n",
       "  'file_path': 'C:\\\\Users\\\\18623\\\\Desktop\\\\PhiAi\\\\Jupyter\\\\papers\\\\attention is all you need 1706.03762v7.pdf',\n",
       "  'file_type': 'application/pdf',\n",
       "  'file_size': 2215244,\n",
       "  'creation_date': '2024-12-11',\n",
       "  'last_modified_date': '2024-12-11'},\n",
       " 'excluded_embed_metadata_keys': ['file_name',\n",
       "  'file_type',\n",
       "  'file_size',\n",
       "  'creation_date',\n",
       "  'last_modified_date',\n",
       "  'last_accessed_date'],\n",
       " 'excluded_llm_metadata_keys': ['file_name',\n",
       "  'file_type',\n",
       "  'file_size',\n",
       "  'creation_date',\n",
       "  'last_modified_date',\n",
       "  'last_accessed_date'],\n",
       " 'relationships': {},\n",
       " 'text': 'Provided proper attribution is provided, Google hereby grants permission to\\nreproduce the tables and figures in this paper solely for use in journalistic or\\nscholarly works.\\nAttention Is All You Need\\nAshish Vaswani∗\\nGoogle Brain\\navaswani@google.com\\nNoam Shazeer∗\\nGoogle Brain\\nnoam@google.com\\nNiki Parmar∗\\nGoogle Research\\nnikip@google.com\\nJakob Uszkoreit∗\\nGoogle Research\\nusz@google.com\\nLlion Jones∗\\nGoogle Research\\nllion@google.com\\nAidan N. Gomez∗ †\\nUniversity of Toronto\\naidan@cs.toronto.edu\\nŁukasz Kaiser∗\\nGoogle Brain\\nlukaszkaiser@google.com\\nIllia Polosukhin∗ ‡\\nillia.polosukhin@gmail.com\\nAbstract\\nThe dominant sequence transduction models are based on complex recurrent or\\nconvolutional neural networks that include an encoder and a decoder. The best\\nperforming models also connect the encoder and decoder through an attention\\nmechanism. We propose a new simple network architecture, the Transformer,\\nbased solely on attention mechanisms, dispensing with recurrence and convolutions\\nentirely. Experiments on two machine translation tasks show these models to\\nbe superior in quality while being more parallelizable and requiring significantly\\nless time to train. Our model achieves 28.4 BLEU on the WMT 2014 English-\\nto-German translation task, improving over the existing best results, including\\nensembles, by over 2 BLEU. On the WMT 2014 English-to-French translation task,\\nour model establishes a new single-model state-of-the-art BLEU score of 41.8 after\\ntraining for 3.5 days on eight GPUs, a small fraction of the training costs of the\\nbest models from the literature. We show that the Transformer generalizes well to\\nother tasks by applying it successfully to English constituency parsing both with\\nlarge and limited training data.\\n∗Equal contribution. Listing order is random. Jakob proposed replacing RNNs with self-attention and started\\nthe effort to evaluate this idea. Ashish, with Illia, designed and implemented the first Transformer models and\\nhas been crucially involved in every aspect of this work. Noam proposed scaled dot-product attention, multi-head\\nattention and the parameter-free position representation and became the other person involved in nearly every\\ndetail. Niki designed, implemented, tuned and evaluated countless model variants in our original codebase and\\ntensor2tensor. Llion also experimented with novel model variants, was responsible for our initial codebase, and\\nefficient inference and visualizations. Lukasz and Aidan spent countless long days designing various parts of and\\nimplementing tensor2tensor, replacing our earlier codebase, greatly improving results and massively accelerating\\nour research.\\n†Work performed while at Google Brain.\\n‡Work performed while at Google Research.\\n31st Conference on Neural Information Processing Systems (NIPS 2017), Long Beach, CA, USA.\\narXiv:1706.03762v7  [cs.CL]  2 Aug 2023',\n",
       " 'mimetype': 'text/plain',\n",
       " 'start_char_idx': None,\n",
       " 'end_char_idx': None,\n",
       " 'text_template': '{metadata_str}\\n\\n{content}',\n",
       " 'metadata_template': '{key}: {value}',\n",
       " 'metadata_seperator': '\\n'}"
      ]
     },
     "execution_count": 18,
     "metadata": {},
     "output_type": "execute_result"
    }
   ],
   "source": [
    "doc.__dict__"
   ]
  },
  {
   "cell_type": "code",
   "execution_count": 19,
   "id": "856043cd-879f-494e-bb18-0110eb53a819",
   "metadata": {},
   "outputs": [
    {
     "data": {
      "text/plain": [
       "'2e700a66-446a-4d2a-9c2b-140fb88968d8'"
      ]
     },
     "execution_count": 19,
     "metadata": {},
     "output_type": "execute_result"
    }
   ],
   "source": [
    "doc.__dict__['id_']"
   ]
  },
  {
   "cell_type": "code",
   "execution_count": 20,
   "id": "3ab1da91-fb67-411b-88a7-5eaad6a4899a",
   "metadata": {},
   "outputs": [
    {
     "data": {
      "text/plain": [
       "'2e700a66-446a-4d2a-9c2b-140fb88968d8'"
      ]
     },
     "execution_count": 20,
     "metadata": {},
     "output_type": "execute_result"
    }
   ],
   "source": [
    "doc.id_"
   ]
  },
  {
   "cell_type": "markdown",
   "id": "326b8a18-91a4-4a32-9739-93ba1a963d23",
   "metadata": {},
   "source": [
    "<b>1.5 Get total number of collected chunks</b>"
   ]
  },
  {
   "cell_type": "code",
   "execution_count": 21,
   "id": "366114ae-55ab-4232-b16b-dcf6ea1c7054",
   "metadata": {},
   "outputs": [
    {
     "data": {
      "text/plain": [
       "31"
      ]
     },
     "execution_count": 21,
     "metadata": {},
     "output_type": "execute_result"
    }
   ],
   "source": [
    "len(all_docs)"
   ]
  },
  {
   "cell_type": "markdown",
   "id": "6ca8b6ea-ae32-498f-8e75-1a683d2135c3",
   "metadata": {},
   "source": [
    "<b>1.6 Get chuck distribution accross papers</b>"
   ]
  },
  {
   "cell_type": "code",
   "execution_count": 22,
   "id": "dde5e148-5fce-4f61-8dc4-cf1296e93b5a",
   "metadata": {},
   "outputs": [
    {
     "name": "stdout",
     "output_type": "stream",
     "text": [
      "attention is all you need 1706.03762v7.pdf >>> 15 chunks\n",
      "BERT pre_training of deep bidirectional transformers for language understanding 1810.04805v2.pdf >>> 16 chunks\n"
     ]
    }
   ],
   "source": [
    "for key in doc_dict:\n",
    "    num_chunks = len(doc_dict[key])\n",
    "    print(f'{key} >>> {num_chunks} chunks')"
   ]
  },
  {
   "cell_type": "markdown",
   "id": "61a672c9-3502-43c9-b213-30bb1cad9c6e",
   "metadata": {},
   "source": [
    "<b>1.7 Collect all chunks for each paper in one text</b>"
   ]
  },
  {
   "cell_type": "code",
   "execution_count": 23,
   "id": "297e44ba-86fe-4058-ba90-e2c1bd33d35d",
   "metadata": {},
   "outputs": [],
   "source": [
    "articles = list(doc_dict.keys())\n",
    "papers = {} \n",
    "\n",
    "for paper_name in articles:\n",
    "    papers[paper_name] = ''\n",
    "    for doc in doc_dict[paper_name]:\n",
    "        papers[paper_name] += ' ' + doc.text"
   ]
  },
  {
   "cell_type": "code",
   "execution_count": 24,
   "id": "433a58a7-8658-414d-8c53-55fa7b0fcf11",
   "metadata": {},
   "outputs": [],
   "source": [
    "for paper_name in articles:\n",
    "    papers[paper_name] = papers[paper_name].replace('.\\n','. ')\n",
    "    papers[paper_name] = papers[paper_name].replace('\\n',' ')    "
   ]
  },
  {
   "cell_type": "code",
   "execution_count": 150,
   "id": "f2c88f24-36d3-4fc2-8f3c-81f2f490dbd3",
   "metadata": {},
   "outputs": [
    {
     "data": {
      "text/plain": [
       "' Provided proper attribution is provided, Google hereby grants permission to reproduce the tables and figures in this paper solely for use in journalistic or scholarly works. Attention Is All You Need Ashish Vaswani∗ Google Brain avaswani@google.com Noam Shazeer∗ Google Brain noam@google.com Niki Parmar∗ Google Research nikip@google.com Jakob Uszkoreit∗ Google Research usz@google.com Llion Jones∗ Google Research llion@google.com Aidan N. Gomez∗ † University of Toronto aidan@cs.toronto.edu Łukasz Kaiser∗ Google Brain lukaszkaiser@google.com Illia Polosukhin∗ ‡ illia.polosukhin@gmail.com Abstract The dominant sequence transduction models are based on complex recurrent or convolutional neural networks that include an encoder and a decoder. The best performing models also connect the encoder and decoder through an attention mechanism. We propose a new simple network architecture, the Transformer, based solely on attention mechanisms, dispensing with recurrence and convolutions entirely. Experiments on two machine translation tasks show these models to be superior in quality while being more parallelizable and requiring significantly less time to train. Our model achieves 28.4 BLEU on the WMT 2014 English- to-German translation task, improving over the existing best results, including ensembles, by over 2 BLEU. On the WMT 2014 English-to-French translation task, our model establishes a new single-model state-of-the-art BLEU score of 41.8 after training for 3.5 days on eight GPUs, a small fraction of the training costs of the best models from the literature. We show that the Transformer generalizes well to other tasks by applying it successfully to English constituency parsing both with large and limited training data. ∗Equal contribution. Listing order is random. Jakob proposed replacing RNNs with self-attention and started the effort to evaluate this idea. Ashish, with Illia, designed and implemented the first Transformer models and has been crucially involved in every aspect of this work. Noam proposed scaled dot-product attention, multi-head attention and the parameter-free position representation and became the other person involved in nearly every detail. Niki designed, implemented, tuned and evaluated countless model variants in our original codebase and tensor2tensor. Llion also experimented with novel model variants, was responsible for our initial codebase, and efficient inference and visualizations. Lukasz and Aidan spent countless long days designing various parts of and implementing tensor2tensor, replacing our earlier codebase, greatly improving results and massively accelerating our research. †Work performed while at Google Brain. ‡Work performed while at Google Research. 31st Conference on Neural Information Processing Systems (NIPS 2017), Long Beach, CA, USA. arXiv:1706.03762v7  [cs.CL]  2 Aug 2023 1 Introduction Recurrent neural networks, long short-term memory [13] and gated recurrent [7] neural networks in particular, have been firmly established as state of the art approaches in sequence modeling and transduction problems such as language modeling and machine translation [ 35, 2, 5]. Numerous efforts have since continued to push the boundaries of recurrent language models and encoder-decoder architectures [38, 24, 15]. Recurrent models typically factor computation along the symbol positions of the input and output sequences. Aligning the positions to steps in computation time, they generate a sequence of hidden states ht, as a function of the previous hidden state ht−1 and the input for position t. This inherently sequential nature precludes parallelization within training examples, which becomes critical at longer sequence lengths, as memory constraints limit batching across examples. Recent work has achieved significant improvements in computational efficiency through factorization tricks [21] and conditional computation [32], while also improving model performance in case of the latter. The fundamental constraint of sequential computation, however, remains. Attention mechanisms have become an integral part of compelling sequence modeling and transduc- tion models in various tasks, allowing modeling of dependencies without regard to their distance in the input or output sequences [2, 19]. In all but a few cases [27], however, such attention mechanisms are used in conjunction with a recurrent network. In this work we propose the Transformer, a model architecture eschewing recurrence and instead relying entirely on an attention mechanism to draw global dependencies between input and output. The Transformer allows for significantly more parallelization and can reach a new state of the art in translation quality after being trained for as little as twelve hours on eight P100 GPUs. 2 Background The goal of reducing sequential computation also forms the foundation of the Extended Neural GPU [16], ByteNet [18] and ConvS2S [9], all of which use convolutional neural networks as basic building block, computing hidden representations in parallel for all input and output positions. In these models, the number of operations required to relate signals from two arbitrary input or output positions grows in the distance between positions, linearly for ConvS2S and logarithmically for ByteNet. This makes it more difficult to learn dependencies between distant positions [ 12]. In the Transformer this is reduced to a constant number of operations, albeit at the cost of reduced effective resolution due to averaging attention-weighted positions, an effect we counteract with Multi-Head Attention as described in section 3.2. Self-attention, sometimes called intra-attention is an attention mechanism relating different positions of a single sequence in order to compute a representation of the sequence. Self-attention has been used successfully in a variety of tasks including reading comprehension, abstractive summarization, textual entailment and learning task-independent sentence representations [4, 27, 28, 22]. End-to-end memory networks are based on a recurrent attention mechanism instead of sequence- aligned recurrence and have been shown to perform well on simple-language question answering and language modeling tasks [34]. To the best of our knowledge, however, the Transformer is the first transduction model relying entirely on self-attention to compute representations of its input and output without using sequence- aligned RNNs or convolution. In the following sections, we will describe the Transformer, motivate self-attention and discuss its advantages over models such as [17, 18] and [9]. 3 Model Architecture Most competitive neural sequence transduction models have an encoder-decoder structure [5, 2, 35]. Here, the encoder maps an input sequence of symbol representations (x1, ..., xn) to a sequence of continuous representations z = (z1, ..., zn). Given z, the decoder then generates an output sequence (y1, ..., ym) of symbols one element at a time. At each step the model is auto-regressive [10], consuming the previously generated symbols as additional input when generating the next. 2 Figure 1: The Transformer - model architecture. The Transformer follows this overall architecture using stacked self-attention and point-wise, fully connected layers for both the encoder and decoder, shown in the left and right halves of Figure 1, respectively. 3.1 Encoder and Decoder Stacks Encoder: The encoder is composed of a stack of N = 6 identical layers. Each layer has two sub-layers. The first is a multi-head self-attention mechanism, and the second is a simple, position- wise fully connected feed-forward network. We employ a residual connection [11] around each of the two sub-layers, followed by layer normalization [ 1]. That is, the output of each sub-layer is LayerNorm(x + Sublayer(x)), where Sublayer(x) is the function implemented by the sub-layer itself. To facilitate these residual connections, all sub-layers in the model, as well as the embedding layers, produce outputs of dimension dmodel = 512. Decoder: The decoder is also composed of a stack of N = 6identical layers. In addition to the two sub-layers in each encoder layer, the decoder inserts a third sub-layer, which performs multi-head attention over the output of the encoder stack. Similar to the encoder, we employ residual connections around each of the sub-layers, followed by layer normalization. We also modify the self-attention sub-layer in the decoder stack to prevent positions from attending to subsequent positions. This masking, combined with fact that the output embeddings are offset by one position, ensures that the predictions for position i can depend only on the known outputs at positions less than i. 3.2 Attention An attention function can be described as mapping a query and a set of key-value pairs to an output, where the query, keys, values, and output are all vectors. The output is computed as a weighted sum 3 Scaled Dot-Product Attention  Multi-Head Attention Figure 2: (left) Scaled Dot-Product Attention. (right) Multi-Head Attention consists of several attention layers running in parallel. of the values, where the weight assigned to each value is computed by a compatibility function of the query with the corresponding key. 3.2.1 Scaled Dot-Product Attention We call our particular attention \"Scaled Dot-Product Attention\" (Figure 2). The input consists of queries and keys of dimension dk, and values of dimension dv. We compute the dot products of the query with all keys, divide each by √dk, and apply a softmax function to obtain the weights on the values. In practice, we compute the attention function on a set of queries simultaneously, packed together into a matrix Q. The keys and values are also packed together into matrices K and V . We compute the matrix of outputs as: Attention(Q, K, V) = softmax(QKT √dk )V (1) The two most commonly used attention functions are additive attention [2], and dot-product (multi- plicative) attention. Dot-product attention is identical to our algorithm, except for the scaling factor of 1√dk . Additive attention computes the compatibility function using a feed-forward network with a single hidden layer. While the two are similar in theoretical complexity, dot-product attention is much faster and more space-efficient in practice, since it can be implemented using highly optimized matrix multiplication code. While for small values of dk the two mechanisms perform similarly, additive attention outperforms dot product attention without scaling for larger values of dk [3]. We suspect that for large values of dk, the dot products grow large in magnitude, pushing the softmax function into regions where it has extremely small gradients 4. To counteract this effect, we scale the dot products by 1√dk . 3.2.2 Multi-Head Attention Instead of performing a single attention function with dmodel-dimensional keys, values and queries, we found it beneficial to linearly project the queries, keys and values h times with different, learned linear projections to dk, dk and dv dimensions, respectively. On each of these projected versions of queries, keys and values we then perform the attention function in parallel, yielding dv-dimensional 4To illustrate why the dot products get large, assume that the components of q and k are independent random variables with mean 0 and variance 1. Then their dot product, q · k = Pdk i=1 qiki, has mean 0 and variance dk. 4 output values. These are concatenated and once again projected, resulting in the final values, as depicted in Figure 2. Multi-head attention allows the model to jointly attend to information from different representation subspaces at different positions. With a single attention head, averaging inhibits this. MultiHead(Q, K, V) = Concat(head1, ...,headh)WO where headi = Attention(QWQ i , KWK i , V WV i ) Where the projections are parameter matricesWQ i ∈ Rdmodel×dk , WK i ∈ Rdmodel×dk , WV i ∈ Rdmodel×dv and WO ∈ Rhdv×dmodel . In this work we employ h = 8 parallel attention layers, or heads. For each of these we use dk = dv = dmodel/h = 64. Due to the reduced dimension of each head, the total computational cost is similar to that of single-head attention with full dimensionality. 3.2.3 Applications of Attention in our Model The Transformer uses multi-head attention in three different ways: • In \"encoder-decoder attention\" layers, the queries come from the previous decoder layer, and the memory keys and values come from the output of the encoder. This allows every position in the decoder to attend over all positions in the input sequence. This mimics the typical encoder-decoder attention mechanisms in sequence-to-sequence models such as [38, 2, 9]. • The encoder contains self-attention layers. In a self-attention layer all of the keys, values and queries come from the same place, in this case, the output of the previous layer in the encoder. Each position in the encoder can attend to all positions in the previous layer of the encoder. • Similarly, self-attention layers in the decoder allow each position in the decoder to attend to all positions in the decoder up to and including that position. We need to prevent leftward information flow in the decoder to preserve the auto-regressive property. We implement this inside of scaled dot-product attention by masking out (setting to −∞) all values in the input of the softmax which correspond to illegal connections. See Figure 2. 3.3 Position-wise Feed-Forward Networks In addition to attention sub-layers, each of the layers in our encoder and decoder contains a fully connected feed-forward network, which is applied to each position separately and identically. This consists of two linear transformations with a ReLU activation in between. FFN(x) = max(0, xW1 + b1)W2 + b2 (2) While the linear transformations are the same across different positions, they use different parameters from layer to layer. Another way of describing this is as two convolutions with kernel size 1. The dimensionality of input and output is dmodel = 512, and the inner-layer has dimensionality dff = 2048. 3.4 Embeddings and Softmax Similarly to other sequence transduction models, we use learned embeddings to convert the input tokens and output tokens to vectors of dimension dmodel. We also use the usual learned linear transfor- mation and softmax function to convert the decoder output to predicted next-token probabilities. In our model, we share the same weight matrix between the two embedding layers and the pre-softmax linear transformation, similar to [30]. In the embedding layers, we multiply those weights by √dmodel. 5 Table 1: Maximum path lengths, per-layer complexity and minimum number of sequential operations for different layer types. n is the sequence length, d is the representation dimension, k is the kernel size of convolutions and r the size of the neighborhood in restricted self-attention. Layer Type Complexity per Layer Sequential Maximum Path Length Operations Self-Attention O(n2 · d) O(1) O(1) Recurrent O(n · d2) O(n) O(n) Convolutional O(k · n · d2) O(1) O(logk(n)) Self-Attention (restricted) O(r · n · d) O(1) O(n/r) 3.5 Positional Encoding Since our model contains no recurrence and no convolution, in order for the model to make use of the order of the sequence, we must inject some information about the relative or absolute position of the tokens in the sequence. To this end, we add \"positional encodings\" to the input embeddings at the bottoms of the encoder and decoder stacks. The positional encodings have the same dimension dmodel as the embeddings, so that the two can be summed. There are many choices of positional encodings, learned and fixed [9]. In this work, we use sine and cosine functions of different frequencies: P E(pos,2i) = sin(pos/100002i/dmodel ) P E(pos,2i+1) = cos(pos/100002i/dmodel ) where pos is the position and i is the dimension. That is, each dimension of the positional encoding corresponds to a sinusoid. The wavelengths form a geometric progression from 2π to 10000 · 2π. We chose this function because we hypothesized it would allow the model to easily learn to attend by relative positions, since for any fixed offset k, P Epos+k can be represented as a linear function of P Epos. We also experimented with using learned positional embeddings [9] instead, and found that the two versions produced nearly identical results (see Table 3 row (E)). We chose the sinusoidal version because it may allow the model to extrapolate to sequence lengths longer than the ones encountered during training. 4 Why Self-Attention In this section we compare various aspects of self-attention layers to the recurrent and convolu- tional layers commonly used for mapping one variable-length sequence of symbol representations (x1, ..., xn) to another sequence of equal length (z1, ..., zn), with xi, zi ∈ Rd, such as a hidden layer in a typical sequence transduction encoder or decoder. Motivating our use of self-attention we consider three desiderata. One is the total computational complexity per layer. Another is the amount of computation that can be parallelized, as measured by the minimum number of sequential operations required. The third is the path length between long-range dependencies in the network. Learning long-range dependencies is a key challenge in many sequence transduction tasks. One key factor affecting the ability to learn such dependencies is the length of the paths forward and backward signals have to traverse in the network. The shorter these paths between any combination of positions in the input and output sequences, the easier it is to learn long-range dependencies [12]. Hence we also compare the maximum path length between any two input and output positions in networks composed of the different layer types. As noted in Table 1, a self-attention layer connects all positions with a constant number of sequentially executed operations, whereas a recurrent layer requires O(n) sequential operations. In terms of computational complexity, self-attention layers are faster than recurrent layers when the sequence 6 length n is smaller than the representation dimensionality d, which is most often the case with sentence representations used by state-of-the-art models in machine translations, such as word-piece [38] and byte-pair [31] representations. To improve computational performance for tasks involving very long sequences, self-attention could be restricted to considering only a neighborhood of size r in the input sequence centered around the respective output position. This would increase the maximum path length to O(n/r). We plan to investigate this approach further in future work. A single convolutional layer with kernel width k < ndoes not connect all pairs of input and output positions. Doing so requires a stack of O(n/k) convolutional layers in the case of contiguous kernels, or O(logk(n)) in the case of dilated convolutions [ 18], increasing the length of the longest paths between any two positions in the network. Convolutional layers are generally more expensive than recurrent layers, by a factor of k. Separable convolutions [ 6], however, decrease the complexity considerably, to O(k · n · d + n · d2). Even with k = n, however, the complexity of a separable convolution is equal to the combination of a self-attention layer and a point-wise feed-forward layer, the approach we take in our model. As side benefit, self-attention could yield more interpretable models. We inspect attention distributions from our models and present and discuss examples in the appendix. Not only do individual attention heads clearly learn to perform different tasks, many appear to exhibit behavior related to the syntactic and semantic structure of the sentences. 5 Training This section describes the training regime for our models. 5.1 Training Data and Batching We trained on the standard WMT 2014 English-German dataset consisting of about 4.5 million sentence pairs. Sentences were encoded using byte-pair encoding [ 3], which has a shared source- target vocabulary of about 37000 tokens. For English-French, we used the significantly larger WMT 2014 English-French dataset consisting of 36M sentences and split tokens into a 32000 word-piece vocabulary [38]. Sentence pairs were batched together by approximate sequence length. Each training batch contained a set of sentence pairs containing approximately 25000 source tokens and 25000 target tokens. 5.2 Hardware and Schedule We trained our models on one machine with 8 NVIDIA P100 GPUs. For our base models using the hyperparameters described throughout the paper, each training step took about 0.4 seconds. We trained the base models for a total of 100,000 steps or 12 hours. For our big models,(described on the bottom line of table 3), step time was 1.0 seconds. The big models were trained for 300,000 steps (3.5 days). 5.3 Optimizer We used the Adam optimizer [20] with β1 = 0.9, β2 = 0.98 and ϵ = 10−9. We varied the learning rate over the course of training, according to the formula: lrate = d−0.5 model · min(step_num−0.5, step_num · warmup_steps−1.5) (3) This corresponds to increasing the learning rate linearly for the first warmup_steps training steps, and decreasing it thereafter proportionally to the inverse square root of the step number. We used warmup_steps = 4000. 5.4 Regularization We employ three types of regularization during training: 7 Table 2: The Transformer achieves better BLEU scores than previous state-of-the-art models on the English-to-German and English-to-French newstest2014 tests at a fraction of the training cost. Model BLEU Training Cost (FLOPs) EN-DE EN-FR EN-DE EN-FR ByteNet [18] 23.75 Deep-Att + PosUnk [39] 39.2 1.0 · 1020 GNMT + RL [38] 24.6 39.92 2.3 · 1019 1.4 · 1020 ConvS2S [9] 25.16 40.46 9.6 · 1018 1.5 · 1020 MoE [32] 26.03 40.56 2.0 · 1019 1.2 · 1020 Deep-Att + PosUnk Ensemble [39] 40.4 8.0 · 1020 GNMT + RL Ensemble [38] 26.30 41.16 1.8 · 1020 1.1 · 1021 ConvS2S Ensemble [9] 26.36 41.29 7.7 · 1019 1.2 · 1021 Transformer (base model) 27.3 38.1 3.3 · 1018 Transformer (big) 28.4 41.8 2.3 · 1019 Residual Dropout We apply dropout [33] to the output of each sub-layer, before it is added to the sub-layer input and normalized. In addition, we apply dropout to the sums of the embeddings and the positional encodings in both the encoder and decoder stacks. For the base model, we use a rate of Pdrop = 0.1. Label Smoothing During training, we employed label smoothing of value ϵls = 0.1 [36]. This hurts perplexity, as the model learns to be more unsure, but improves accuracy and BLEU score. 6 Results 6.1 Machine Translation On the WMT 2014 English-to-German translation task, the big transformer model (Transformer (big) in Table 2) outperforms the best previously reported models (including ensembles) by more than 2.0 BLEU, establishing a new state-of-the-art BLEU score of 28.4. The configuration of this model is listed in the bottom line of Table 3. Training took 3.5 days on 8 P100 GPUs. Even our base model surpasses all previously published models and ensembles, at a fraction of the training cost of any of the competitive models. On the WMT 2014 English-to-French translation task, our big model achieves a BLEU score of 41.0, outperforming all of the previously published single models, at less than 1/4 the training cost of the previous state-of-the-art model. The Transformer (big) model trained for English-to-French used dropout rate Pdrop = 0.1, instead of 0.3. For the base models, we used a single model obtained by averaging the last 5 checkpoints, which were written at 10-minute intervals. For the big models, we averaged the last 20 checkpoints. We used beam search with a beam size of 4 and length penalty α = 0.6 [38]. These hyperparameters were chosen after experimentation on the development set. We set the maximum output length during inference to input length + 50, but terminate early when possible [38]. Table 2 summarizes our results and compares our translation quality and training costs to other model architectures from the literature. We estimate the number of floating point operations used to train a model by multiplying the training time, the number of GPUs used, and an estimate of the sustained single-precision floating-point capacity of each GPU 5. 6.2 Model Variations To evaluate the importance of different components of the Transformer, we varied our base model in different ways, measuring the change in performance on English-to-German translation on the 5We used values of 2.8, 3.7, 6.0 and 9.5 TFLOPS for K80, K40, M40 and P100, respectively. 8 Table 3: Variations on the Transformer architecture. Unlisted values are identical to those of the base model. All metrics are on the English-to-German translation development set, newstest2013. Listed perplexities are per-wordpiece, according to our byte-pair encoding, and should not be compared to per-word perplexities. N d model dff h d k dv Pdrop ϵls train PPL BLEU params steps (dev) (dev) ×106 base 6 512 2048 8 64 64 0.1 0.1 100K 4.92 25.8 65 (A) 1 512 512 5.29 24.9 4 128 128 5.00 25.5 16 32 32 4.91 25.8 32 16 16 5.01 25.4 (B) 16 5.16 25.1 58 32 5.01 25.4 60 (C) 2 6.11 23.7 36 4 5.19 25.3 50 8 4.88 25.5 80 256 32 32 5.75 24.5 28 1024 128 128 4.66 26.0 168 1024 5.12 25.4 53 4096 4.75 26.2 90 (D) 0.0 5.77 24.6 0.2 4.95 25.5 0.0 4.67 25.3 0.2 5.47 25.7 (E) positional embedding instead of sinusoids 4.92 25.7 big 6 1024 4096 16 0.3 300K 4.33 26.4 213 development set, newstest2013. We used beam search as described in the previous section, but no checkpoint averaging. We present these results in Table 3. In Table 3 rows (A), we vary the number of attention heads and the attention key and value dimensions, keeping the amount of computation constant, as described in Section 3.2.2. While single-head attention is 0.9 BLEU worse than the best setting, quality also drops off with too many heads. In Table 3 rows (B), we observe that reducing the attention key size dk hurts model quality. This suggests that determining compatibility is not easy and that a more sophisticated compatibility function than dot product may be beneficial. We further observe in rows (C) and (D) that, as expected, bigger models are better, and dropout is very helpful in avoiding over-fitting. In row (E) we replace our sinusoidal positional encoding with learned positional embeddings [9], and observe nearly identical results to the base model. 6.3 English Constituency Parsing To evaluate if the Transformer can generalize to other tasks we performed experiments on English constituency parsing. This task presents specific challenges: the output is subject to strong structural constraints and is significantly longer than the input. Furthermore, RNN sequence-to-sequence models have not been able to attain state-of-the-art results in small-data regimes [37]. We trained a 4-layer transformer with dmodel = 1024on the Wall Street Journal (WSJ) portion of the Penn Treebank [25], about 40K training sentences. We also trained it in a semi-supervised setting, using the larger high-confidence and BerkleyParser corpora from with approximately 17M sentences [37]. We used a vocabulary of 16K tokens for the WSJ only setting and a vocabulary of 32K tokens for the semi-supervised setting. We performed only a small number of experiments to select the dropout, both attention and residual (section 5.4), learning rates and beam size on the Section 22 development set, all other parameters remained unchanged from the English-to-German base translation model. During inference, we 9 Table 4: The Transformer generalizes well to English constituency parsing (Results are on Section 23 of WSJ) Parser Training WSJ 23 F1 Vinyals & Kaiser el al. (2014) [37] WSJ only, discriminative 88.3 Petrov et al. (2006) [29] WSJ only, discriminative 90.4 Zhu et al. (2013) [40] WSJ only, discriminative 90.4 Dyer et al. (2016) [8] WSJ only, discriminative 91.7 Transformer (4 layers) WSJ only, discriminative 91.3 Zhu et al. (2013) [40] semi-supervised 91.3 Huang & Harper (2009) [14] semi-supervised 91.3 McClosky et al. (2006) [26] semi-supervised 92.1 Vinyals & Kaiser el al. (2014) [37] semi-supervised 92.1 Transformer (4 layers) semi-supervised 92.7 Luong et al. (2015) [23] multi-task 93.0 Dyer et al. (2016) [8] generative 93.3 increased the maximum output length to input length + 300. We used a beam size of 21 and α = 0.3 for both WSJ only and the semi-supervised setting. Our results in Table 4 show that despite the lack of task-specific tuning our model performs sur- prisingly well, yielding better results than all previously reported models with the exception of the Recurrent Neural Network Grammar [8]. In contrast to RNN sequence-to-sequence models [37], the Transformer outperforms the Berkeley- Parser [29] even when training only on the WSJ training set of 40K sentences. 7 Conclusion In this work, we presented the Transformer, the first sequence transduction model based entirely on attention, replacing the recurrent layers most commonly used in encoder-decoder architectures with multi-headed self-attention. For translation tasks, the Transformer can be trained significantly faster than architectures based on recurrent or convolutional layers. On both WMT 2014 English-to-German and WMT 2014 English-to-French translation tasks, we achieve a new state of the art. In the former task our best model outperforms even all previously reported ensembles. We are excited about the future of attention-based models and plan to apply them to other tasks. We plan to extend the Transformer to problems involving input and output modalities other than text and to investigate local, restricted attention mechanisms to efficiently handle large inputs and outputs such as images, audio and video. Making generation less sequential is another research goals of ours. The code we used to train and evaluate our models is available at https://github.com/ tensorflow/tensor2tensor. Acknowledgements We are grateful to Nal Kalchbrenner and Stephan Gouws for their fruitful comments, corrections and inspiration. References [1] Jimmy Lei Ba, Jamie Ryan Kiros, and Geoffrey E Hinton. Layer normalization. arXiv preprint arXiv:1607.06450, 2016. [2] Dzmitry Bahdanau, Kyunghyun Cho, and Yoshua Bengio. Neural machine translation by jointly learning to align and translate. CoRR, abs/1409.0473, 2014. [3] Denny Britz, Anna Goldie, Minh-Thang Luong, and Quoc V . Le. Massive exploration of neural machine translation architectures. CoRR, abs/1703.03906, 2017. [4] Jianpeng Cheng, Li Dong, and Mirella Lapata. Long short-term memory-networks for machine reading. arXiv preprint arXiv:1601.06733, 2016. 10 [5] Kyunghyun Cho, Bart van Merrienboer, Caglar Gulcehre, Fethi Bougares, Holger Schwenk, and Yoshua Bengio. Learning phrase representations using rnn encoder-decoder for statistical machine translation. CoRR, abs/1406.1078, 2014. [6] Francois Chollet. Xception: Deep learning with depthwise separable convolutions. arXiv preprint arXiv:1610.02357, 2016. [7] Junyoung Chung, Çaglar Gülçehre, Kyunghyun Cho, and Yoshua Bengio. Empirical evaluation of gated recurrent neural networks on sequence modeling. CoRR, abs/1412.3555, 2014. [8] Chris Dyer, Adhiguna Kuncoro, Miguel Ballesteros, and Noah A. Smith. Recurrent neural network grammars. In Proc. of NAACL, 2016. [9] Jonas Gehring, Michael Auli, David Grangier, Denis Yarats, and Yann N. Dauphin. Convolu- tional sequence to sequence learning. arXiv preprint arXiv:1705.03122v2, 2017. [10] Alex Graves. Generating sequences with recurrent neural networks. arXiv preprint arXiv:1308.0850, 2013. [11] Kaiming He, Xiangyu Zhang, Shaoqing Ren, and Jian Sun. Deep residual learning for im- age recognition. In Proceedings of the IEEE Conference on Computer Vision and Pattern Recognition, pages 770–778, 2016. [12] Sepp Hochreiter, Yoshua Bengio, Paolo Frasconi, and Jürgen Schmidhuber. Gradient flow in recurrent nets: the difficulty of learning long-term dependencies, 2001. [13] Sepp Hochreiter and Jürgen Schmidhuber. Long short-term memory. Neural computation, 9(8):1735–1780, 1997. [14] Zhongqiang Huang and Mary Harper. Self-training PCFG grammars with latent annotations across languages. In Proceedings of the 2009 Conference on Empirical Methods in Natural Language Processing, pages 832–841. ACL, August 2009. [15] Rafal Jozefowicz, Oriol Vinyals, Mike Schuster, Noam Shazeer, and Yonghui Wu. Exploring the limits of language modeling. arXiv preprint arXiv:1602.02410, 2016. [16] Łukasz Kaiser and Samy Bengio. Can active memory replace attention? In Advances in Neural Information Processing Systems, (NIPS), 2016. [17] Łukasz Kaiser and Ilya Sutskever. Neural GPUs learn algorithms. In International Conference on Learning Representations (ICLR), 2016. [18] Nal Kalchbrenner, Lasse Espeholt, Karen Simonyan, Aaron van den Oord, Alex Graves, and Ko- ray Kavukcuoglu. Neural machine translation in linear time.arXiv preprint arXiv:1610.10099v2, 2017. [19] Yoon Kim, Carl Denton, Luong Hoang, and Alexander M. Rush. Structured attention networks. In International Conference on Learning Representations, 2017. [20] Diederik Kingma and Jimmy Ba. Adam: A method for stochastic optimization. In ICLR, 2015. [21] Oleksii Kuchaiev and Boris Ginsburg. Factorization tricks for LSTM networks. arXiv preprint arXiv:1703.10722, 2017. [22] Zhouhan Lin, Minwei Feng, Cicero Nogueira dos Santos, Mo Yu, Bing Xiang, Bowen Zhou, and Yoshua Bengio. A structured self-attentive sentence embedding. arXiv preprint arXiv:1703.03130, 2017. [23] Minh-Thang Luong, Quoc V . Le, Ilya Sutskever, Oriol Vinyals, and Lukasz Kaiser. Multi-task sequence to sequence learning. arXiv preprint arXiv:1511.06114, 2015. [24] Minh-Thang Luong, Hieu Pham, and Christopher D Manning. Effective approaches to attention- based neural machine translation. arXiv preprint arXiv:1508.04025, 2015. 11 [25] Mitchell P Marcus, Mary Ann Marcinkiewicz, and Beatrice Santorini. Building a large annotated corpus of english: The penn treebank. Computational linguistics, 19(2):313–330, 1993. [26] David McClosky, Eugene Charniak, and Mark Johnson. Effective self-training for parsing. In Proceedings of the Human Language Technology Conference of the NAACL, Main Conference, pages 152–159. ACL, June 2006. [27] Ankur Parikh, Oscar Täckström, Dipanjan Das, and Jakob Uszkoreit. A decomposable attention model. In Empirical Methods in Natural Language Processing, 2016. [28] Romain Paulus, Caiming Xiong, and Richard Socher. A deep reinforced model for abstractive summarization. arXiv preprint arXiv:1705.04304, 2017. [29] Slav Petrov, Leon Barrett, Romain Thibaux, and Dan Klein. Learning accurate, compact, and interpretable tree annotation. In Proceedings of the 21st International Conference on Computational Linguistics and 44th Annual Meeting of the ACL, pages 433–440. ACL, July 2006. [30] Ofir Press and Lior Wolf. Using the output embedding to improve language models. arXiv preprint arXiv:1608.05859, 2016. [31] Rico Sennrich, Barry Haddow, and Alexandra Birch. Neural machine translation of rare words with subword units. arXiv preprint arXiv:1508.07909, 2015. [32] Noam Shazeer, Azalia Mirhoseini, Krzysztof Maziarz, Andy Davis, Quoc Le, Geoffrey Hinton, and Jeff Dean. Outrageously large neural networks: The sparsely-gated mixture-of-experts layer. arXiv preprint arXiv:1701.06538, 2017. [33] Nitish Srivastava, Geoffrey E Hinton, Alex Krizhevsky, Ilya Sutskever, and Ruslan Salakhutdi- nov. Dropout: a simple way to prevent neural networks from overfitting. Journal of Machine Learning Research, 15(1):1929–1958, 2014. [34] Sainbayar Sukhbaatar, Arthur Szlam, Jason Weston, and Rob Fergus. End-to-end memory networks. In C. Cortes, N. D. Lawrence, D. D. Lee, M. Sugiyama, and R. Garnett, editors, Advances in Neural Information Processing Systems 28, pages 2440–2448. Curran Associates, Inc., 2015. [35] Ilya Sutskever, Oriol Vinyals, and Quoc VV Le. Sequence to sequence learning with neural networks. In Advances in Neural Information Processing Systems, pages 3104–3112, 2014. [36] Christian Szegedy, Vincent Vanhoucke, Sergey Ioffe, Jonathon Shlens, and Zbigniew Wojna. Rethinking the inception architecture for computer vision. CoRR, abs/1512.00567, 2015. [37] Vinyals & Kaiser, Koo, Petrov, Sutskever, and Hinton. Grammar as a foreign language. In Advances in Neural Information Processing Systems, 2015. [38] Yonghui Wu, Mike Schuster, Zhifeng Chen, Quoc V Le, Mohammad Norouzi, Wolfgang Macherey, Maxim Krikun, Yuan Cao, Qin Gao, Klaus Macherey, et al. Google’s neural machine translation system: Bridging the gap between human and machine translation. arXiv preprint arXiv:1609.08144, 2016. [39] Jie Zhou, Ying Cao, Xuguang Wang, Peng Li, and Wei Xu. Deep recurrent models with fast-forward connections for neural machine translation. CoRR, abs/1606.04199, 2016. [40] Muhua Zhu, Yue Zhang, Wenliang Chen, Min Zhang, and Jingbo Zhu. Fast and accurate shift-reduce constituent parsing. In Proceedings of the 51st Annual Meeting of the ACL (Volume 1: Long Papers), pages 434–443. ACL, August 2013. 12 Attention Visualizations Input-Input Layer5 It is in this spirit that a majority of American governments have passed new laws since 2009 making the registration or voting process more difficult . <EOS> <pad> <pad> <pad> <pad> <pad> <pad> It is in this spirit that a majority of American governments have passed new laws since 2009 making the registration or voting process more difficult . <EOS> <pad> <pad> <pad> <pad> <pad> <pad> Figure 3: An example of the attention mechanism following long-distance dependencies in the encoder self-attention in layer 5 of 6. Many of the attention heads attend to a distant dependency of the verb ‘making’, completing the phrase ‘making...more difficult’. Attentions here shown only for the word ‘making’. Different colors represent different heads. Best viewed in color. 13 Input-Input Layer5 The Law will never be perfect , but its application should be just - this is what we are missing , in my opinion . <EOS> <pad> The Law will never be perfect , but its application should be just - this is what we are missing , in my opinion . <EOS> <pad> Input-Input Layer5 The Law will never be perfect , but its application should be just - this is what we are missing , in my opinion . <EOS> <pad> The Law will never be perfect , but its application should be just - this is what we are missing , in my opinion . <EOS> <pad> Figure 4: Two attention heads, also in layer 5 of 6, apparently involved in anaphora resolution. Top: Full attentions for head 5. Bottom: Isolated attentions from just the word ‘its’ for attention heads 5 and 6. Note that the attentions are very sharp for this word. 14 Input-Input Layer5 The Law will never be perfect , but its application should be just - this is what we are missing , in my opinion . <EOS> <pad> The Law will never be perfect , but its application should be just - this is what we are missing , in my opinion . <EOS> <pad> Input-Input Layer5 The Law will never be perfect , but its application should be just - this is what we are missing , in my opinion . <EOS> <pad> The Law will never be perfect , but its application should be just - this is what we are missing , in my opinion . <EOS> <pad> Figure 5: Many of the attention heads exhibit behaviour that seems related to the structure of the sentence. We give two such examples above, from two different heads from the encoder self-attention at layer 5 of 6. The heads clearly learned to perform different tasks. 15'"
      ]
     },
     "execution_count": 150,
     "metadata": {},
     "output_type": "execute_result"
    }
   ],
   "source": [
    "papers[articles[0]]"
   ]
  },
  {
   "cell_type": "markdown",
   "id": "52ea3e6d-38f5-49ee-8544-3d86461ce15d",
   "metadata": {},
   "source": [
    "## 2. QA: Ask questions about the papers"
   ]
  },
  {
   "cell_type": "markdown",
   "id": "cd6060b5-9d97-4b74-a2cb-9197e7232a33",
   "metadata": {},
   "source": [
    "<b>2.1 Roberta-base-sqaud2-distilled model</b>"
   ]
  },
  {
   "cell_type": "code",
   "execution_count": 153,
   "id": "d7c1ea97-4f7f-4a06-a074-e964be5f9afd",
   "metadata": {},
   "outputs": [],
   "source": [
    "from transformers import AutoModelForQuestionAnswering, AutoTokenizer, pipeline\n",
    "import torch"
   ]
  },
  {
   "cell_type": "code",
   "execution_count": 154,
   "id": "5d0e93c3-c3d5-4eec-9773-90fdd155d303",
   "metadata": {},
   "outputs": [],
   "source": [
    "dfs = {}"
   ]
  },
  {
   "cell_type": "code",
   "execution_count": 155,
   "id": "1489042f-95f5-4c91-8661-771912e01101",
   "metadata": {},
   "outputs": [],
   "source": [
    "model_name = \"deepset/roberta-base-squad2-distilled\"\n",
    "\n",
    "# a) Get predictions\n",
    "device = torch.device('cuda' if torch.cuda.is_available() else 'cpu')\n",
    "nlp = pipeline('question-answering', \n",
    "               model=model_name, \n",
    "               tokenizer=model_name,\n",
    "               device = device\n",
    "              )\n"
   ]
  },
  {
   "cell_type": "code",
   "execution_count": 156,
   "id": "9e24d267-2de0-45fb-b35f-55529428da0f",
   "metadata": {},
   "outputs": [
    {
     "name": "stderr",
     "output_type": "stream",
     "text": [
      "C:\\Users\\18623\\anaconda3\\envs\\transformers\\lib\\site-packages\\transformers\\pipelines\\question_answering.py:391: FutureWarning: Passing a list of SQuAD examples to the pipeline is deprecated and will be removed in v5. Inputs should be passed using the `question` and `context` keyword arguments instead.\n",
      "  warnings.warn(\n"
     ]
    },
    {
     "data": {
      "text/html": [
       "<div>\n",
       "<style scoped>\n",
       "    .dataframe tbody tr th:only-of-type {\n",
       "        vertical-align: middle;\n",
       "    }\n",
       "\n",
       "    .dataframe tbody tr th {\n",
       "        vertical-align: top;\n",
       "    }\n",
       "\n",
       "    .dataframe thead th {\n",
       "        text-align: right;\n",
       "    }\n",
       "</style>\n",
       "<table border=\"1\" class=\"dataframe\">\n",
       "  <thead>\n",
       "    <tr style=\"text-align: right;\">\n",
       "      <th></th>\n",
       "      <th>question</th>\n",
       "      <th>model name</th>\n",
       "      <th>paper</th>\n",
       "      <th>answer</th>\n",
       "      <th>score</th>\n",
       "    </tr>\n",
       "  </thead>\n",
       "  <tbody>\n",
       "    <tr>\n",
       "      <th>0</th>\n",
       "      <td>what is attention?</td>\n",
       "      <td>deepset/roberta-base-squad2-distilled</td>\n",
       "      <td>attention is all you need 1706.03762v7.pdf</td>\n",
       "      <td>mapping a query and a set of key-value pairs to an output</td>\n",
       "      <td>0.356291</td>\n",
       "    </tr>\n",
       "    <tr>\n",
       "      <th>1</th>\n",
       "      <td>what is attention?</td>\n",
       "      <td>deepset/roberta-base-squad2-distilled</td>\n",
       "      <td>BERT pre_training of deep bidirectional transformers for language understanding 1810.04805v2.pdf</td>\n",
       "      <td>all you need</td>\n",
       "      <td>0.802495</td>\n",
       "    </tr>\n",
       "  </tbody>\n",
       "</table>\n",
       "</div>"
      ],
      "text/plain": [
       "             question                             model name  \\\n",
       "0  what is attention?  deepset/roberta-base-squad2-distilled   \n",
       "1  what is attention?  deepset/roberta-base-squad2-distilled   \n",
       "\n",
       "                                                                                              paper  \\\n",
       "0                                                        attention is all you need 1706.03762v7.pdf   \n",
       "1  BERT pre_training of deep bidirectional transformers for language understanding 1810.04805v2.pdf   \n",
       "\n",
       "                                                      answer     score  \n",
       "0  mapping a query and a set of key-value pairs to an output  0.356291  \n",
       "1                                               all you need  0.802495  "
      ]
     },
     "execution_count": 156,
     "metadata": {},
     "output_type": "execute_result"
    }
   ],
   "source": [
    "answer_list = []\n",
    "score_list = []\n",
    "for paper in articles:\n",
    "    question = 'what is attention?'\n",
    "    QA_input = {\n",
    "        'question': question,\n",
    "        'context': papers[paper]\n",
    "    }\n",
    "    res = nlp(QA_input)\n",
    "    #print(f'from paper {paper} \\n we learn that answer to {question} is \\n {res} \\n')\n",
    "    answer_list.append(res['answer'])\n",
    "    score_list.append(res['score'])\n",
    "\n",
    "dfs[question + model_name] = pd.DataFrame({'question':len(articles)*[question],\n",
    "                                           'model name':len(articles)*[model_name],\n",
    "                                           'paper':articles,\n",
    "                                           'answer': answer_list,\n",
    "                                           'score':score_list\n",
    "                             })\n",
    "dfs[question + model_name]"
   ]
  },
  {
   "cell_type": "code",
   "execution_count": 151,
   "id": "fc51a280-dfc0-47cb-a549-db721ce43304",
   "metadata": {},
   "outputs": [],
   "source": [
    "pd.set_option('display.max_colwidth', 500)"
   ]
  },
  {
   "cell_type": "code",
   "execution_count": 157,
   "id": "fcee0bdb-542d-4b05-8286-29a6cac9cd4f",
   "metadata": {},
   "outputs": [
    {
     "data": {
      "text/html": [
       "<div>\n",
       "<style scoped>\n",
       "    .dataframe tbody tr th:only-of-type {\n",
       "        vertical-align: middle;\n",
       "    }\n",
       "\n",
       "    .dataframe tbody tr th {\n",
       "        vertical-align: top;\n",
       "    }\n",
       "\n",
       "    .dataframe thead th {\n",
       "        text-align: right;\n",
       "    }\n",
       "</style>\n",
       "<table border=\"1\" class=\"dataframe\">\n",
       "  <thead>\n",
       "    <tr style=\"text-align: right;\">\n",
       "      <th></th>\n",
       "      <th>question</th>\n",
       "      <th>model name</th>\n",
       "      <th>paper</th>\n",
       "      <th>answer</th>\n",
       "      <th>score</th>\n",
       "    </tr>\n",
       "  </thead>\n",
       "  <tbody>\n",
       "    <tr>\n",
       "      <th>0</th>\n",
       "      <td>what is attention?</td>\n",
       "      <td>deepset/roberta-base-squad2-distilled</td>\n",
       "      <td>attention is all you need 1706.03762v7.pdf</td>\n",
       "      <td>mapping a query and a set of key-value pairs to an output</td>\n",
       "      <td>0.356291</td>\n",
       "    </tr>\n",
       "    <tr>\n",
       "      <th>1</th>\n",
       "      <td>what is attention?</td>\n",
       "      <td>deepset/roberta-base-squad2-distilled</td>\n",
       "      <td>BERT pre_training of deep bidirectional transformers for language understanding 1810.04805v2.pdf</td>\n",
       "      <td>all you need</td>\n",
       "      <td>0.802495</td>\n",
       "    </tr>\n",
       "  </tbody>\n",
       "</table>\n",
       "</div>"
      ],
      "text/plain": [
       "             question                             model name  \\\n",
       "0  what is attention?  deepset/roberta-base-squad2-distilled   \n",
       "1  what is attention?  deepset/roberta-base-squad2-distilled   \n",
       "\n",
       "                                                                                              paper  \\\n",
       "0                                                        attention is all you need 1706.03762v7.pdf   \n",
       "1  BERT pre_training of deep bidirectional transformers for language understanding 1810.04805v2.pdf   \n",
       "\n",
       "                                                      answer     score  \n",
       "0  mapping a query and a set of key-value pairs to an output  0.356291  \n",
       "1                                               all you need  0.802495  "
      ]
     },
     "execution_count": 157,
     "metadata": {},
     "output_type": "execute_result"
    }
   ],
   "source": [
    "dfs[question + model_name]"
   ]
  },
  {
   "cell_type": "code",
   "execution_count": 158,
   "id": "519796ab-d401-4869-95c0-7b9307cff398",
   "metadata": {},
   "outputs": [
    {
     "name": "stderr",
     "output_type": "stream",
     "text": [
      "C:\\Users\\18623\\anaconda3\\envs\\transformers\\lib\\site-packages\\transformers\\pipelines\\question_answering.py:391: FutureWarning: Passing a list of SQuAD examples to the pipeline is deprecated and will be removed in v5. Inputs should be passed using the `question` and `context` keyword arguments instead.\n",
      "  warnings.warn(\n"
     ]
    },
    {
     "data": {
      "text/html": [
       "<div>\n",
       "<style scoped>\n",
       "    .dataframe tbody tr th:only-of-type {\n",
       "        vertical-align: middle;\n",
       "    }\n",
       "\n",
       "    .dataframe tbody tr th {\n",
       "        vertical-align: top;\n",
       "    }\n",
       "\n",
       "    .dataframe thead th {\n",
       "        text-align: right;\n",
       "    }\n",
       "</style>\n",
       "<table border=\"1\" class=\"dataframe\">\n",
       "  <thead>\n",
       "    <tr style=\"text-align: right;\">\n",
       "      <th></th>\n",
       "      <th>question</th>\n",
       "      <th>model name</th>\n",
       "      <th>paper</th>\n",
       "      <th>answer</th>\n",
       "      <th>score</th>\n",
       "    </tr>\n",
       "  </thead>\n",
       "  <tbody>\n",
       "    <tr>\n",
       "      <th>0</th>\n",
       "      <td>what types of attention are defined?</td>\n",
       "      <td>deepset/roberta-base-squad2-distilled</td>\n",
       "      <td>attention is all you need 1706.03762v7.pdf</td>\n",
       "      <td>Structured attention networks</td>\n",
       "      <td>0.679690</td>\n",
       "    </tr>\n",
       "    <tr>\n",
       "      <th>1</th>\n",
       "      <td>what types of attention are defined?</td>\n",
       "      <td>deepset/roberta-base-squad2-distilled</td>\n",
       "      <td>BERT pre_training of deep bidirectional transformers for language understanding 1810.04805v2.pdf</td>\n",
       "      <td>bidirectional self-attention</td>\n",
       "      <td>0.005291</td>\n",
       "    </tr>\n",
       "  </tbody>\n",
       "</table>\n",
       "</div>"
      ],
      "text/plain": [
       "                               question  \\\n",
       "0  what types of attention are defined?   \n",
       "1  what types of attention are defined?   \n",
       "\n",
       "                              model name  \\\n",
       "0  deepset/roberta-base-squad2-distilled   \n",
       "1  deepset/roberta-base-squad2-distilled   \n",
       "\n",
       "                                                                                              paper  \\\n",
       "0                                                        attention is all you need 1706.03762v7.pdf   \n",
       "1  BERT pre_training of deep bidirectional transformers for language understanding 1810.04805v2.pdf   \n",
       "\n",
       "                          answer     score  \n",
       "0  Structured attention networks  0.679690  \n",
       "1   bidirectional self-attention  0.005291  "
      ]
     },
     "execution_count": 158,
     "metadata": {},
     "output_type": "execute_result"
    }
   ],
   "source": [
    "answer_list = []\n",
    "score_list = []\n",
    "for paper in articles:\n",
    "    question = 'what types of attention are defined?'\n",
    "    QA_input = {\n",
    "        'question': question,\n",
    "        'context': papers[paper]\n",
    "    }\n",
    "    res = nlp(QA_input)\n",
    "    #print(f'from paper {paper} \\n we learn that answer to {question} is \\n {res} \\n')\n",
    "    answer_list.append(res['answer'])\n",
    "    score_list.append(res['score'])\n",
    "\n",
    "dfs[question + model_name] = pd.DataFrame({'question':len(articles)*[question],\n",
    "                              'model name':len(articles)*[model_name],\n",
    "                              'paper':articles,\n",
    "                              'answer': answer_list,\n",
    "                              'score':score_list\n",
    "                             })\n",
    "dfs[question + model_name]"
   ]
  },
  {
   "cell_type": "code",
   "execution_count": 159,
   "id": "55a5c48f-782a-4ced-8d01-2bac57bff342",
   "metadata": {},
   "outputs": [
    {
     "name": "stderr",
     "output_type": "stream",
     "text": [
      "C:\\Users\\18623\\anaconda3\\envs\\transformers\\lib\\site-packages\\transformers\\pipelines\\question_answering.py:391: FutureWarning: Passing a list of SQuAD examples to the pipeline is deprecated and will be removed in v5. Inputs should be passed using the `question` and `context` keyword arguments instead.\n",
      "  warnings.warn(\n"
     ]
    },
    {
     "data": {
      "text/html": [
       "<div>\n",
       "<style scoped>\n",
       "    .dataframe tbody tr th:only-of-type {\n",
       "        vertical-align: middle;\n",
       "    }\n",
       "\n",
       "    .dataframe tbody tr th {\n",
       "        vertical-align: top;\n",
       "    }\n",
       "\n",
       "    .dataframe thead th {\n",
       "        text-align: right;\n",
       "    }\n",
       "</style>\n",
       "<table border=\"1\" class=\"dataframe\">\n",
       "  <thead>\n",
       "    <tr style=\"text-align: right;\">\n",
       "      <th></th>\n",
       "      <th>question</th>\n",
       "      <th>model name</th>\n",
       "      <th>paper</th>\n",
       "      <th>answer</th>\n",
       "      <th>score</th>\n",
       "    </tr>\n",
       "  </thead>\n",
       "  <tbody>\n",
       "    <tr>\n",
       "      <th>0</th>\n",
       "      <td>what is multi-head attention?</td>\n",
       "      <td>deepset/roberta-base-squad2-distilled</td>\n",
       "      <td>attention is all you need 1706.03762v7.pdf</td>\n",
       "      <td>self-attention</td>\n",
       "      <td>0.623303</td>\n",
       "    </tr>\n",
       "    <tr>\n",
       "      <th>1</th>\n",
       "      <td>what is multi-head attention?</td>\n",
       "      <td>deepset/roberta-base-squad2-distilled</td>\n",
       "      <td>BERT pre_training of deep bidirectional transformers for language understanding 1810.04805v2.pdf</td>\n",
       "      <td>multi-layered context</td>\n",
       "      <td>0.000016</td>\n",
       "    </tr>\n",
       "  </tbody>\n",
       "</table>\n",
       "</div>"
      ],
      "text/plain": [
       "                        question                             model name  \\\n",
       "0  what is multi-head attention?  deepset/roberta-base-squad2-distilled   \n",
       "1  what is multi-head attention?  deepset/roberta-base-squad2-distilled   \n",
       "\n",
       "                                                                                              paper  \\\n",
       "0                                                        attention is all you need 1706.03762v7.pdf   \n",
       "1  BERT pre_training of deep bidirectional transformers for language understanding 1810.04805v2.pdf   \n",
       "\n",
       "                  answer     score  \n",
       "0         self-attention  0.623303  \n",
       "1  multi-layered context  0.000016  "
      ]
     },
     "execution_count": 159,
     "metadata": {},
     "output_type": "execute_result"
    }
   ],
   "source": [
    "answer_list = []\n",
    "score_list = []\n",
    "for paper in articles:\n",
    "    question = 'what is multi-head attention?'\n",
    "    QA_input = {\n",
    "        'question': question,\n",
    "        'context': papers[paper]\n",
    "    }\n",
    "    res = nlp(QA_input)\n",
    "    #print(f'from paper {paper} \\n we learn that answer to {question} is \\n {res} \\n')\n",
    "    answer_list.append(res['answer'])\n",
    "    score_list.append(res['score'])\n",
    "\n",
    "dfs[question + model_name] = pd.DataFrame({'question':len(articles)*[question],\n",
    "                              'model name':len(articles)*[model_name],\n",
    "                              'paper':articles,\n",
    "                              'answer': answer_list,\n",
    "                              'score':score_list\n",
    "                             })\n",
    "dfs[question + model_name]"
   ]
  },
  {
   "cell_type": "markdown",
   "id": "77f24ad9-b99b-47ed-97e6-a2d4c2efdd66",
   "metadata": {},
   "source": [
    "<b>2.2 HuggingFace examplar pipeline</b>"
   ]
  },
  {
   "cell_type": "code",
   "execution_count": 160,
   "id": "a6eb06fc-59bd-4e7c-91b4-c16fec3c215d",
   "metadata": {},
   "outputs": [
    {
     "name": "stderr",
     "output_type": "stream",
     "text": [
      "No model was supplied, defaulted to distilbert/distilbert-base-cased-distilled-squad and revision 564e9b5 (https://huggingface.co/distilbert/distilbert-base-cased-distilled-squad).\n",
      "Using a pipeline without specifying a model name and revision in production is not recommended.\n"
     ]
    }
   ],
   "source": [
    "qa_model = pipeline(\"question-answering\", \n",
    "                    device=device)"
   ]
  },
  {
   "cell_type": "code",
   "execution_count": 161,
   "id": "d994b336-ee03-48b7-90ce-7f62e667a4b2",
   "metadata": {},
   "outputs": [
    {
     "data": {
      "text/html": [
       "<div>\n",
       "<style scoped>\n",
       "    .dataframe tbody tr th:only-of-type {\n",
       "        vertical-align: middle;\n",
       "    }\n",
       "\n",
       "    .dataframe tbody tr th {\n",
       "        vertical-align: top;\n",
       "    }\n",
       "\n",
       "    .dataframe thead th {\n",
       "        text-align: right;\n",
       "    }\n",
       "</style>\n",
       "<table border=\"1\" class=\"dataframe\">\n",
       "  <thead>\n",
       "    <tr style=\"text-align: right;\">\n",
       "      <th></th>\n",
       "      <th>question</th>\n",
       "      <th>model name</th>\n",
       "      <th>paper</th>\n",
       "      <th>answer</th>\n",
       "      <th>score</th>\n",
       "    </tr>\n",
       "  </thead>\n",
       "  <tbody>\n",
       "    <tr>\n",
       "      <th>0</th>\n",
       "      <td>what is attention?</td>\n",
       "      <td>default</td>\n",
       "      <td>attention is all you need 1706.03762v7.pdf</td>\n",
       "      <td>multi-head</td>\n",
       "      <td>0.716957</td>\n",
       "    </tr>\n",
       "    <tr>\n",
       "      <th>1</th>\n",
       "      <td>what is attention?</td>\n",
       "      <td>default</td>\n",
       "      <td>BERT pre_training of deep bidirectional transformers for language understanding 1810.04805v2.pdf</td>\n",
       "      <td>few parameters need to be learned from scratch</td>\n",
       "      <td>0.765959</td>\n",
       "    </tr>\n",
       "  </tbody>\n",
       "</table>\n",
       "</div>"
      ],
      "text/plain": [
       "             question model name  \\\n",
       "0  what is attention?    default   \n",
       "1  what is attention?    default   \n",
       "\n",
       "                                                                                              paper  \\\n",
       "0                                                        attention is all you need 1706.03762v7.pdf   \n",
       "1  BERT pre_training of deep bidirectional transformers for language understanding 1810.04805v2.pdf   \n",
       "\n",
       "                                           answer     score  \n",
       "0                                      multi-head  0.716957  \n",
       "1  few parameters need to be learned from scratch  0.765959  "
      ]
     },
     "execution_count": 161,
     "metadata": {},
     "output_type": "execute_result"
    }
   ],
   "source": [
    "answer_list = []\n",
    "score_list = []\n",
    "for paper in articles:\n",
    "    question = 'what is attention?'\n",
    "    res = qa_model(question = question, context = papers[paper])\n",
    "    #print(f'from paper {paper} \\n we learn that answer to {question} is \\n {res} \\n')\n",
    "    answer_list.append(res['answer'])\n",
    "    score_list.append(res['score'])\n",
    "\n",
    "dfs[question+'_nomodel'] = pd.DataFrame({'question':len(articles)*[question],\n",
    "                                         'model name': len(articles)*['default'],\n",
    "                                         'paper':articles,\n",
    "                                         'answer': answer_list,\n",
    "                                         'score':score_list\n",
    "                                        })\n",
    "dfs[question+'_nomodel']"
   ]
  },
  {
   "cell_type": "code",
   "execution_count": 162,
   "id": "42d94006-22f5-4efb-b245-0c39ee9b9ce3",
   "metadata": {},
   "outputs": [
    {
     "data": {
      "text/html": [
       "<div>\n",
       "<style scoped>\n",
       "    .dataframe tbody tr th:only-of-type {\n",
       "        vertical-align: middle;\n",
       "    }\n",
       "\n",
       "    .dataframe tbody tr th {\n",
       "        vertical-align: top;\n",
       "    }\n",
       "\n",
       "    .dataframe thead th {\n",
       "        text-align: right;\n",
       "    }\n",
       "</style>\n",
       "<table border=\"1\" class=\"dataframe\">\n",
       "  <thead>\n",
       "    <tr style=\"text-align: right;\">\n",
       "      <th></th>\n",
       "      <th>question</th>\n",
       "      <th>model name</th>\n",
       "      <th>paper</th>\n",
       "      <th>answer</th>\n",
       "      <th>score</th>\n",
       "    </tr>\n",
       "  </thead>\n",
       "  <tbody>\n",
       "    <tr>\n",
       "      <th>0</th>\n",
       "      <td>what types of attention are defined?</td>\n",
       "      <td>default</td>\n",
       "      <td>attention is all you need 1706.03762v7.pdf</td>\n",
       "      <td>active memory</td>\n",
       "      <td>0.715720</td>\n",
       "    </tr>\n",
       "    <tr>\n",
       "      <th>1</th>\n",
       "      <td>what types of attention are defined?</td>\n",
       "      <td>default</td>\n",
       "      <td>BERT pre_training of deep bidirectional transformers for language understanding 1810.04805v2.pdf</td>\n",
       "      <td>deeper self-attention</td>\n",
       "      <td>0.486192</td>\n",
       "    </tr>\n",
       "  </tbody>\n",
       "</table>\n",
       "</div>"
      ],
      "text/plain": [
       "                               question model name  \\\n",
       "0  what types of attention are defined?    default   \n",
       "1  what types of attention are defined?    default   \n",
       "\n",
       "                                                                                              paper  \\\n",
       "0                                                        attention is all you need 1706.03762v7.pdf   \n",
       "1  BERT pre_training of deep bidirectional transformers for language understanding 1810.04805v2.pdf   \n",
       "\n",
       "                  answer     score  \n",
       "0          active memory  0.715720  \n",
       "1  deeper self-attention  0.486192  "
      ]
     },
     "execution_count": 162,
     "metadata": {},
     "output_type": "execute_result"
    }
   ],
   "source": [
    "answer_list = []\n",
    "score_list = []\n",
    "for paper in articles:\n",
    "    question = 'what types of attention are defined?'\n",
    "    res = qa_model(question = question, context = papers[paper])\n",
    "    #print(f'from paper {paper} \\n we learn that answer to {question} is \\n {res} \\n')\n",
    "    answer_list.append(res['answer'])\n",
    "    score_list.append(res['score'])\n",
    "\n",
    "dfs[question+'_nomodel'] = pd.DataFrame({'question':len(articles)*[question],\n",
    "                                         'model name': len(articles)*['default'],\n",
    "                                         'paper':articles,\n",
    "                                         'answer': answer_list,\n",
    "                                         'score':score_list\n",
    "                                        })\n",
    "dfs[question+'_nomodel']"
   ]
  },
  {
   "cell_type": "code",
   "execution_count": 163,
   "id": "5d7cd3bf-907b-4e04-8708-c0278ca42eb1",
   "metadata": {},
   "outputs": [
    {
     "data": {
      "text/html": [
       "<div>\n",
       "<style scoped>\n",
       "    .dataframe tbody tr th:only-of-type {\n",
       "        vertical-align: middle;\n",
       "    }\n",
       "\n",
       "    .dataframe tbody tr th {\n",
       "        vertical-align: top;\n",
       "    }\n",
       "\n",
       "    .dataframe thead th {\n",
       "        text-align: right;\n",
       "    }\n",
       "</style>\n",
       "<table border=\"1\" class=\"dataframe\">\n",
       "  <thead>\n",
       "    <tr style=\"text-align: right;\">\n",
       "      <th></th>\n",
       "      <th>question</th>\n",
       "      <th>model name</th>\n",
       "      <th>paper</th>\n",
       "      <th>answer</th>\n",
       "      <th>score</th>\n",
       "    </tr>\n",
       "  </thead>\n",
       "  <tbody>\n",
       "    <tr>\n",
       "      <th>0</th>\n",
       "      <td>what is multi-head attention?</td>\n",
       "      <td>default</td>\n",
       "      <td>attention is all you need 1706.03762v7.pdf</td>\n",
       "      <td>scaled dot-product attention</td>\n",
       "      <td>0.80240</td>\n",
       "    </tr>\n",
       "    <tr>\n",
       "      <th>1</th>\n",
       "      <td>what is multi-head attention?</td>\n",
       "      <td>default</td>\n",
       "      <td>BERT pre_training of deep bidirectional transformers for language understanding 1810.04805v2.pdf</td>\n",
       "      <td>natural language understanding</td>\n",
       "      <td>0.47042</td>\n",
       "    </tr>\n",
       "  </tbody>\n",
       "</table>\n",
       "</div>"
      ],
      "text/plain": [
       "                        question model name  \\\n",
       "0  what is multi-head attention?    default   \n",
       "1  what is multi-head attention?    default   \n",
       "\n",
       "                                                                                              paper  \\\n",
       "0                                                        attention is all you need 1706.03762v7.pdf   \n",
       "1  BERT pre_training of deep bidirectional transformers for language understanding 1810.04805v2.pdf   \n",
       "\n",
       "                           answer    score  \n",
       "0    scaled dot-product attention  0.80240  \n",
       "1  natural language understanding  0.47042  "
      ]
     },
     "execution_count": 163,
     "metadata": {},
     "output_type": "execute_result"
    }
   ],
   "source": [
    "answer_list = []\n",
    "score_list = []\n",
    "for paper in articles:\n",
    "    question = 'what is multi-head attention?'\n",
    "    res = qa_model(question = question, context = papers[paper])\n",
    "    #print(f'from paper {paper} \\n we learn that answer to {question} is \\n {res} \\n')\n",
    "    answer_list.append(res['answer'])\n",
    "    score_list.append(res['score'])\n",
    "\n",
    "dfs[question+'_nomodel'] = pd.DataFrame({'question':len(articles)*[question],\n",
    "                                         'model name': len(articles)*['default'],\n",
    "                                         'paper':articles,\n",
    "                                         'answer': answer_list,\n",
    "                                         'score':score_list\n",
    "                                        })\n",
    "dfs[question+'_nomodel']"
   ]
  },
  {
   "cell_type": "markdown",
   "id": "fda20157-4d5d-4520-bfd9-0376b449031e",
   "metadata": {},
   "source": [
    "<b>2.3 Summarize QA results in one DataFrame</b>"
   ]
  },
  {
   "cell_type": "code",
   "execution_count": 164,
   "id": "af28b227-e490-4a2a-b900-094aca62ba66",
   "metadata": {},
   "outputs": [],
   "source": [
    "qa_keys = list(dfs.keys())\n",
    "\n",
    "merged_df = pd.concat([dfs[key] for key in qa_keys])"
   ]
  },
  {
   "cell_type": "code",
   "execution_count": 165,
   "id": "132b54f6-8491-4401-8562-2bca226c2cad",
   "metadata": {},
   "outputs": [
    {
     "data": {
      "text/html": [
       "<div>\n",
       "<style scoped>\n",
       "    .dataframe tbody tr th:only-of-type {\n",
       "        vertical-align: middle;\n",
       "    }\n",
       "\n",
       "    .dataframe tbody tr th {\n",
       "        vertical-align: top;\n",
       "    }\n",
       "\n",
       "    .dataframe thead th {\n",
       "        text-align: right;\n",
       "    }\n",
       "</style>\n",
       "<table border=\"1\" class=\"dataframe\">\n",
       "  <thead>\n",
       "    <tr style=\"text-align: right;\">\n",
       "      <th></th>\n",
       "      <th>question</th>\n",
       "      <th>model name</th>\n",
       "      <th>paper</th>\n",
       "      <th>answer</th>\n",
       "      <th>score</th>\n",
       "    </tr>\n",
       "  </thead>\n",
       "  <tbody>\n",
       "    <tr>\n",
       "      <th>0</th>\n",
       "      <td>what is attention?</td>\n",
       "      <td>deepset/roberta-base-squad2-distilled</td>\n",
       "      <td>attention is all you need 1706.03762v7.pdf</td>\n",
       "      <td>mapping a query and a set of key-value pairs to an output</td>\n",
       "      <td>0.356291</td>\n",
       "    </tr>\n",
       "    <tr>\n",
       "      <th>1</th>\n",
       "      <td>what is attention?</td>\n",
       "      <td>deepset/roberta-base-squad2-distilled</td>\n",
       "      <td>BERT pre_training of deep bidirectional transformers for language understanding 1810.04805v2.pdf</td>\n",
       "      <td>all you need</td>\n",
       "      <td>0.802495</td>\n",
       "    </tr>\n",
       "    <tr>\n",
       "      <th>0</th>\n",
       "      <td>what types of attention are defined?</td>\n",
       "      <td>deepset/roberta-base-squad2-distilled</td>\n",
       "      <td>attention is all you need 1706.03762v7.pdf</td>\n",
       "      <td>Structured attention networks</td>\n",
       "      <td>0.679690</td>\n",
       "    </tr>\n",
       "    <tr>\n",
       "      <th>1</th>\n",
       "      <td>what types of attention are defined?</td>\n",
       "      <td>deepset/roberta-base-squad2-distilled</td>\n",
       "      <td>BERT pre_training of deep bidirectional transformers for language understanding 1810.04805v2.pdf</td>\n",
       "      <td>bidirectional self-attention</td>\n",
       "      <td>0.005291</td>\n",
       "    </tr>\n",
       "    <tr>\n",
       "      <th>0</th>\n",
       "      <td>what is multi-head attention?</td>\n",
       "      <td>deepset/roberta-base-squad2-distilled</td>\n",
       "      <td>attention is all you need 1706.03762v7.pdf</td>\n",
       "      <td>self-attention</td>\n",
       "      <td>0.623303</td>\n",
       "    </tr>\n",
       "    <tr>\n",
       "      <th>1</th>\n",
       "      <td>what is multi-head attention?</td>\n",
       "      <td>deepset/roberta-base-squad2-distilled</td>\n",
       "      <td>BERT pre_training of deep bidirectional transformers for language understanding 1810.04805v2.pdf</td>\n",
       "      <td>multi-layered context</td>\n",
       "      <td>0.000016</td>\n",
       "    </tr>\n",
       "    <tr>\n",
       "      <th>0</th>\n",
       "      <td>what is attention?</td>\n",
       "      <td>default</td>\n",
       "      <td>attention is all you need 1706.03762v7.pdf</td>\n",
       "      <td>multi-head</td>\n",
       "      <td>0.716957</td>\n",
       "    </tr>\n",
       "    <tr>\n",
       "      <th>1</th>\n",
       "      <td>what is attention?</td>\n",
       "      <td>default</td>\n",
       "      <td>BERT pre_training of deep bidirectional transformers for language understanding 1810.04805v2.pdf</td>\n",
       "      <td>few parameters need to be learned from scratch</td>\n",
       "      <td>0.765959</td>\n",
       "    </tr>\n",
       "    <tr>\n",
       "      <th>0</th>\n",
       "      <td>what types of attention are defined?</td>\n",
       "      <td>default</td>\n",
       "      <td>attention is all you need 1706.03762v7.pdf</td>\n",
       "      <td>active memory</td>\n",
       "      <td>0.715720</td>\n",
       "    </tr>\n",
       "    <tr>\n",
       "      <th>1</th>\n",
       "      <td>what types of attention are defined?</td>\n",
       "      <td>default</td>\n",
       "      <td>BERT pre_training of deep bidirectional transformers for language understanding 1810.04805v2.pdf</td>\n",
       "      <td>deeper self-attention</td>\n",
       "      <td>0.486192</td>\n",
       "    </tr>\n",
       "    <tr>\n",
       "      <th>0</th>\n",
       "      <td>what is multi-head attention?</td>\n",
       "      <td>default</td>\n",
       "      <td>attention is all you need 1706.03762v7.pdf</td>\n",
       "      <td>scaled dot-product attention</td>\n",
       "      <td>0.802400</td>\n",
       "    </tr>\n",
       "    <tr>\n",
       "      <th>1</th>\n",
       "      <td>what is multi-head attention?</td>\n",
       "      <td>default</td>\n",
       "      <td>BERT pre_training of deep bidirectional transformers for language understanding 1810.04805v2.pdf</td>\n",
       "      <td>natural language understanding</td>\n",
       "      <td>0.470420</td>\n",
       "    </tr>\n",
       "  </tbody>\n",
       "</table>\n",
       "</div>"
      ],
      "text/plain": [
       "                               question  \\\n",
       "0                    what is attention?   \n",
       "1                    what is attention?   \n",
       "0  what types of attention are defined?   \n",
       "1  what types of attention are defined?   \n",
       "0         what is multi-head attention?   \n",
       "1         what is multi-head attention?   \n",
       "0                    what is attention?   \n",
       "1                    what is attention?   \n",
       "0  what types of attention are defined?   \n",
       "1  what types of attention are defined?   \n",
       "0         what is multi-head attention?   \n",
       "1         what is multi-head attention?   \n",
       "\n",
       "                              model name  \\\n",
       "0  deepset/roberta-base-squad2-distilled   \n",
       "1  deepset/roberta-base-squad2-distilled   \n",
       "0  deepset/roberta-base-squad2-distilled   \n",
       "1  deepset/roberta-base-squad2-distilled   \n",
       "0  deepset/roberta-base-squad2-distilled   \n",
       "1  deepset/roberta-base-squad2-distilled   \n",
       "0                                default   \n",
       "1                                default   \n",
       "0                                default   \n",
       "1                                default   \n",
       "0                                default   \n",
       "1                                default   \n",
       "\n",
       "                                                                                              paper  \\\n",
       "0                                                        attention is all you need 1706.03762v7.pdf   \n",
       "1  BERT pre_training of deep bidirectional transformers for language understanding 1810.04805v2.pdf   \n",
       "0                                                        attention is all you need 1706.03762v7.pdf   \n",
       "1  BERT pre_training of deep bidirectional transformers for language understanding 1810.04805v2.pdf   \n",
       "0                                                        attention is all you need 1706.03762v7.pdf   \n",
       "1  BERT pre_training of deep bidirectional transformers for language understanding 1810.04805v2.pdf   \n",
       "0                                                        attention is all you need 1706.03762v7.pdf   \n",
       "1  BERT pre_training of deep bidirectional transformers for language understanding 1810.04805v2.pdf   \n",
       "0                                                        attention is all you need 1706.03762v7.pdf   \n",
       "1  BERT pre_training of deep bidirectional transformers for language understanding 1810.04805v2.pdf   \n",
       "0                                                        attention is all you need 1706.03762v7.pdf   \n",
       "1  BERT pre_training of deep bidirectional transformers for language understanding 1810.04805v2.pdf   \n",
       "\n",
       "                                                      answer     score  \n",
       "0  mapping a query and a set of key-value pairs to an output  0.356291  \n",
       "1                                               all you need  0.802495  \n",
       "0                              Structured attention networks  0.679690  \n",
       "1                               bidirectional self-attention  0.005291  \n",
       "0                                             self-attention  0.623303  \n",
       "1                                      multi-layered context  0.000016  \n",
       "0                                                 multi-head  0.716957  \n",
       "1             few parameters need to be learned from scratch  0.765959  \n",
       "0                                              active memory  0.715720  \n",
       "1                                      deeper self-attention  0.486192  \n",
       "0                               scaled dot-product attention  0.802400  \n",
       "1                             natural language understanding  0.470420  "
      ]
     },
     "execution_count": 165,
     "metadata": {},
     "output_type": "execute_result"
    }
   ],
   "source": [
    "merged_df"
   ]
  },
  {
   "cell_type": "code",
   "execution_count": 166,
   "id": "35f41f47-f34b-477b-aeff-b9e6f63bd78a",
   "metadata": {},
   "outputs": [
    {
     "name": "stdout",
     "output_type": "stream",
     "text": [
      "['paper', 'answer', 'score']\n"
     ]
    }
   ],
   "source": [
    "merged_df = merged_df.reset_index()\n",
    "cols = ['paper', 'answer', 'score']\n",
    "print(cols)\n",
    "#cols.remove('index')\n",
    "merged_df = merged_df.groupby(['question','model name'])[cols].apply(lambda x: x)"
   ]
  },
  {
   "cell_type": "code",
   "execution_count": 102,
   "id": "b57d17ab-01eb-454e-b8a4-a197521297b2",
   "metadata": {},
   "outputs": [
    {
     "data": {
      "text/html": [
       "<div>\n",
       "<style scoped>\n",
       "    .dataframe tbody tr th:only-of-type {\n",
       "        vertical-align: middle;\n",
       "    }\n",
       "\n",
       "    .dataframe tbody tr th {\n",
       "        vertical-align: top;\n",
       "    }\n",
       "\n",
       "    .dataframe thead th {\n",
       "        text-align: right;\n",
       "    }\n",
       "</style>\n",
       "<table border=\"1\" class=\"dataframe\">\n",
       "  <thead>\n",
       "    <tr style=\"text-align: right;\">\n",
       "      <th></th>\n",
       "      <th></th>\n",
       "      <th></th>\n",
       "      <th>paper</th>\n",
       "      <th>answer</th>\n",
       "      <th>score</th>\n",
       "    </tr>\n",
       "    <tr>\n",
       "      <th>question</th>\n",
       "      <th>model name</th>\n",
       "      <th></th>\n",
       "      <th></th>\n",
       "      <th></th>\n",
       "      <th></th>\n",
       "    </tr>\n",
       "  </thead>\n",
       "  <tbody>\n",
       "    <tr>\n",
       "      <th rowspan=\"4\" valign=\"top\">what is attention?</th>\n",
       "      <th rowspan=\"2\" valign=\"top\">deepset/roberta-base-squad2-distilled</th>\n",
       "      <th>0</th>\n",
       "      <td>attention is all you need 1706.03762v7.pdf</td>\n",
       "      <td>mapping a query and a set of key-value pairs to an output</td>\n",
       "      <td>0.356291</td>\n",
       "    </tr>\n",
       "    <tr>\n",
       "      <th>1</th>\n",
       "      <td>BERT pre_training of deep bidirectional transformers for language understanding 1810.04805v2.pdf</td>\n",
       "      <td>all you need</td>\n",
       "      <td>0.802495</td>\n",
       "    </tr>\n",
       "    <tr>\n",
       "      <th rowspan=\"2\" valign=\"top\">default</th>\n",
       "      <th>6</th>\n",
       "      <td>attention is all you need 1706.03762v7.pdf</td>\n",
       "      <td>multi-head</td>\n",
       "      <td>0.716957</td>\n",
       "    </tr>\n",
       "    <tr>\n",
       "      <th>7</th>\n",
       "      <td>BERT pre_training of deep bidirectional transformers for language understanding 1810.04805v2.pdf</td>\n",
       "      <td>few parameters need to be learned from scratch</td>\n",
       "      <td>0.765959</td>\n",
       "    </tr>\n",
       "    <tr>\n",
       "      <th rowspan=\"4\" valign=\"top\">what is multi-head attention?</th>\n",
       "      <th rowspan=\"2\" valign=\"top\">deepset/roberta-base-squad2-distilled</th>\n",
       "      <th>4</th>\n",
       "      <td>attention is all you need 1706.03762v7.pdf</td>\n",
       "      <td>self-attention</td>\n",
       "      <td>0.623303</td>\n",
       "    </tr>\n",
       "    <tr>\n",
       "      <th>5</th>\n",
       "      <td>BERT pre_training of deep bidirectional transformers for language understanding 1810.04805v2.pdf</td>\n",
       "      <td>multi-layered context</td>\n",
       "      <td>0.000016</td>\n",
       "    </tr>\n",
       "    <tr>\n",
       "      <th rowspan=\"2\" valign=\"top\">default</th>\n",
       "      <th>10</th>\n",
       "      <td>attention is all you need 1706.03762v7.pdf</td>\n",
       "      <td>scaled dot-product attention</td>\n",
       "      <td>0.802400</td>\n",
       "    </tr>\n",
       "    <tr>\n",
       "      <th>11</th>\n",
       "      <td>BERT pre_training of deep bidirectional transformers for language understanding 1810.04805v2.pdf</td>\n",
       "      <td>natural language understanding</td>\n",
       "      <td>0.470420</td>\n",
       "    </tr>\n",
       "    <tr>\n",
       "      <th rowspan=\"4\" valign=\"top\">what types of attention are defined?</th>\n",
       "      <th rowspan=\"2\" valign=\"top\">deepset/roberta-base-squad2-distilled</th>\n",
       "      <th>2</th>\n",
       "      <td>attention is all you need 1706.03762v7.pdf</td>\n",
       "      <td>Structured attention networks</td>\n",
       "      <td>0.679690</td>\n",
       "    </tr>\n",
       "    <tr>\n",
       "      <th>3</th>\n",
       "      <td>BERT pre_training of deep bidirectional transformers for language understanding 1810.04805v2.pdf</td>\n",
       "      <td>bidirectional self-attention</td>\n",
       "      <td>0.005291</td>\n",
       "    </tr>\n",
       "    <tr>\n",
       "      <th rowspan=\"2\" valign=\"top\">default</th>\n",
       "      <th>8</th>\n",
       "      <td>attention is all you need 1706.03762v7.pdf</td>\n",
       "      <td>active memory</td>\n",
       "      <td>0.715720</td>\n",
       "    </tr>\n",
       "    <tr>\n",
       "      <th>9</th>\n",
       "      <td>BERT pre_training of deep bidirectional transformers for language understanding 1810.04805v2.pdf</td>\n",
       "      <td>deeper self-attention</td>\n",
       "      <td>0.486192</td>\n",
       "    </tr>\n",
       "  </tbody>\n",
       "</table>\n",
       "</div>"
      ],
      "text/plain": [
       "                                                                                                                                                                          paper  \\\n",
       "question                             model name                                                                                                                                   \n",
       "what is attention?                   deepset/roberta-base-squad2-distilled 0                                                         attention is all you need 1706.03762v7.pdf   \n",
       "                                                                           1   BERT pre_training of deep bidirectional transformers for language understanding 1810.04805v2.pdf   \n",
       "                                     default                               6                                                         attention is all you need 1706.03762v7.pdf   \n",
       "                                                                           7   BERT pre_training of deep bidirectional transformers for language understanding 1810.04805v2.pdf   \n",
       "what is multi-head attention?        deepset/roberta-base-squad2-distilled 4                                                         attention is all you need 1706.03762v7.pdf   \n",
       "                                                                           5   BERT pre_training of deep bidirectional transformers for language understanding 1810.04805v2.pdf   \n",
       "                                     default                               10                                                        attention is all you need 1706.03762v7.pdf   \n",
       "                                                                           11  BERT pre_training of deep bidirectional transformers for language understanding 1810.04805v2.pdf   \n",
       "what types of attention are defined? deepset/roberta-base-squad2-distilled 2                                                         attention is all you need 1706.03762v7.pdf   \n",
       "                                                                           3   BERT pre_training of deep bidirectional transformers for language understanding 1810.04805v2.pdf   \n",
       "                                     default                               8                                                         attention is all you need 1706.03762v7.pdf   \n",
       "                                                                           9   BERT pre_training of deep bidirectional transformers for language understanding 1810.04805v2.pdf   \n",
       "\n",
       "                                                                                                                                  answer  \\\n",
       "question                             model name                                                                                            \n",
       "what is attention?                   deepset/roberta-base-squad2-distilled 0   mapping a query and a set of key-value pairs to an output   \n",
       "                                                                           1                                                all you need   \n",
       "                                     default                               6                                                  multi-head   \n",
       "                                                                           7              few parameters need to be learned from scratch   \n",
       "what is multi-head attention?        deepset/roberta-base-squad2-distilled 4                                              self-attention   \n",
       "                                                                           5                                       multi-layered context   \n",
       "                                     default                               10                               scaled dot-product attention   \n",
       "                                                                           11                             natural language understanding   \n",
       "what types of attention are defined? deepset/roberta-base-squad2-distilled 2                               Structured attention networks   \n",
       "                                                                           3                                bidirectional self-attention   \n",
       "                                     default                               8                                               active memory   \n",
       "                                                                           9                                       deeper self-attention   \n",
       "\n",
       "                                                                                  score  \n",
       "question                             model name                                          \n",
       "what is attention?                   deepset/roberta-base-squad2-distilled 0   0.356291  \n",
       "                                                                           1   0.802495  \n",
       "                                     default                               6   0.716957  \n",
       "                                                                           7   0.765959  \n",
       "what is multi-head attention?        deepset/roberta-base-squad2-distilled 4   0.623303  \n",
       "                                                                           5   0.000016  \n",
       "                                     default                               10  0.802400  \n",
       "                                                                           11  0.470420  \n",
       "what types of attention are defined? deepset/roberta-base-squad2-distilled 2   0.679690  \n",
       "                                                                           3   0.005291  \n",
       "                                     default                               8   0.715720  \n",
       "                                                                           9   0.486192  "
      ]
     },
     "execution_count": 102,
     "metadata": {},
     "output_type": "execute_result"
    }
   ],
   "source": [
    "merged_df"
   ]
  },
  {
   "cell_type": "markdown",
   "id": "c64f8ce2-30dc-4e97-a724-b2325e3655a9",
   "metadata": {},
   "source": [
    "## 3. Sematic Vector Search: Hands-On "
   ]
  },
  {
   "cell_type": "code",
   "execution_count": 39,
   "id": "1f486ce6-6467-4cd6-a5ac-01d4ca7226a8",
   "metadata": {},
   "outputs": [],
   "source": [
    "from sentence_transformers import SentenceTransformer"
   ]
  },
  {
   "cell_type": "code",
   "execution_count": 167,
   "id": "e4632c2d-657a-4aff-8f57-4291833fc99d",
   "metadata": {},
   "outputs": [],
   "source": [
    "model_name = 'all-mpnet-base-v2'\n",
    "model = SentenceTransformer(model_name)"
   ]
  },
  {
   "cell_type": "markdown",
   "id": "0fc47426-f755-4af4-9869-b5e5e725dd12",
   "metadata": {},
   "source": [
    "<b>3.1 Semantic Search Accross Text Chunks</b>"
   ]
  },
  {
   "cell_type": "code",
   "execution_count": 42,
   "id": "5797c17e-fa1e-4a51-81ff-529bdbbc6107",
   "metadata": {},
   "outputs": [],
   "source": [
    "queries = ['what is attention?', 'what is multi-head attention?']\n",
    "documents = [] \n",
    "for rec in all_docs:\n",
    "    text_chunk = rec.text.replace('.\\n','. ')\n",
    "    text_chunk = text_chunk.replace('\\n',' ')\n",
    "    documents.append(text_chunk)"
   ]
  },
  {
   "cell_type": "code",
   "execution_count": 44,
   "id": "bde66917-acef-4938-ad6e-3b0b52a25c7d",
   "metadata": {},
   "outputs": [],
   "source": [
    "query_embeddings = model.encode(queries) \n",
    "document_embeddings = model.encode(documents)"
   ]
  },
  {
   "cell_type": "code",
   "execution_count": 168,
   "id": "6bf95a78-060b-4ab7-930c-2c1eb3d24540",
   "metadata": {},
   "outputs": [
    {
     "data": {
      "text/plain": [
       "(2, 768)"
      ]
     },
     "execution_count": 168,
     "metadata": {},
     "output_type": "execute_result"
    }
   ],
   "source": [
    "query_embeddings.shape"
   ]
  },
  {
   "cell_type": "code",
   "execution_count": 169,
   "id": "27d84b9e-95c4-41a4-a6de-d6de139332c7",
   "metadata": {},
   "outputs": [
    {
     "data": {
      "text/plain": [
       "(31, 768)"
      ]
     },
     "execution_count": 169,
     "metadata": {},
     "output_type": "execute_result"
    }
   ],
   "source": [
    "document_embeddings.shape"
   ]
  },
  {
   "cell_type": "code",
   "execution_count": 45,
   "id": "372c57d4-dd9e-4ed4-8506-92fafa2072f5",
   "metadata": {},
   "outputs": [],
   "source": [
    "scores = model.similarity(query_embeddings, document_embeddings)"
   ]
  },
  {
   "cell_type": "code",
   "execution_count": 174,
   "id": "1581f92f-de10-4d3c-98ef-5b2d140cb725",
   "metadata": {},
   "outputs": [
    {
     "data": {
      "text/plain": [
       "array([[0.27904153, 0.2639539 , 0.33054262, 0.34323582, 0.36463457,\n",
       "        0.2585139 , 0.2755901 , 0.12498504, 0.32768473, 0.1439856 ,\n",
       "        0.16710263, 0.2609303 , 0.4622292 , 0.40838757, 0.31974906,\n",
       "        0.20027614, 0.16921651, 0.17691593, 0.18058467, 0.22321635,\n",
       "        0.15124284, 0.11138519, 0.17050765, 0.19434658, 0.1487274 ,\n",
       "        0.14039241, 0.2860044 , 0.20682164, 0.19277057, 0.1614857 ,\n",
       "        0.10827111],\n",
       "       [0.33957446, 0.24378414, 0.4095444 , 0.37700048, 0.45007756,\n",
       "        0.23550165, 0.28207815, 0.2192395 , 0.37530297, 0.18709067,\n",
       "        0.18889803, 0.2374867 , 0.5049366 , 0.43961325, 0.44466537,\n",
       "        0.20438865, 0.19514653, 0.2123058 , 0.16955382, 0.20691344,\n",
       "        0.22477685, 0.21884929, 0.25725156, 0.18618935, 0.18130736,\n",
       "        0.17228976, 0.35454687, 0.28306875, 0.18855003, 0.17762521,\n",
       "        0.1183356 ]], dtype=float32)"
      ]
     },
     "execution_count": 174,
     "metadata": {},
     "output_type": "execute_result"
    }
   ],
   "source": [
    "scores.numpy()"
   ]
  },
  {
   "cell_type": "code",
   "execution_count": 47,
   "id": "d53a28ba-f5af-48f7-a6ce-12a3d56dc733",
   "metadata": {},
   "outputs": [
    {
     "name": "stdout",
     "output_type": "stream",
     "text": [
      "Query: what is attention?\n",
      "0.4622292 Attention Visualizations Input-Input Layer5 It is in this spirit that a majority of American governm\n",
      "0.40838757 Input-Input Layer5 The Law will never be perfect , but its application should be just - this is what\n",
      "0.36463457 output values. These are concatenated and once again projected, resulting in the final values, as de\n",
      "0.34323582 Scaled Dot-Product Attention  Multi-Head Attention Figure 2: (left) Scaled Dot-Product Attention. (r\n",
      "0.33054262 Figure 1: The Transformer - model architecture. The Transformer follows this overall architecture us\n",
      "0.32768473 Table 3: Variations on the Transformer architecture. Unlisted values are identical to those of the b\n",
      "0.31974906 Input-Input Layer5 The Law will never be perfect , but its application should be just - this is what\n",
      "0.2860044 for natural language understanding. In Proceedings of the 2018 EMNLP Workshop BlackboxNLP: An- alyzi\n",
      "0.27904153 Provided proper attribution is provided, Google hereby grants permission to reproduce the tables and\n",
      "0.2755901 length n is smaller than the representation dimensionality d, which is most often the case with sent\n",
      "0.2639539 1 Introduction Recurrent neural networks, long short-term memory [13] and gated recurrent [7] neural\n",
      "0.2609303 [25] Mitchell P Marcus, Mary Ann Marcinkiewicz, and Beatrice Santorini. Building a large annotated c\n",
      "0.2585139 Table 1: Maximum path lengths, per-layer complexity and minimum number of sequential operations for \n",
      "Query: what is multi-head attention?\n",
      "0.5049366 Attention Visualizations Input-Input Layer5 It is in this spirit that a majority of American governm\n",
      "0.45007756 output values. These are concatenated and once again projected, resulting in the final values, as de\n",
      "0.44466537 Input-Input Layer5 The Law will never be perfect , but its application should be just - this is what\n",
      "0.43961325 Input-Input Layer5 The Law will never be perfect , but its application should be just - this is what\n",
      "0.4095444 Figure 1: The Transformer - model architecture. The Transformer follows this overall architecture us\n",
      "0.37700048 Scaled Dot-Product Attention  Multi-Head Attention Figure 2: (left) Scaled Dot-Product Attention. (r\n",
      "0.37530297 Table 3: Variations on the Transformer architecture. Unlisted values are identical to those of the b\n",
      "0.35454687 for natural language understanding. In Proceedings of the 2018 EMNLP Workshop BlackboxNLP: An- alyzi\n",
      "0.33957446 Provided proper attribution is provided, Google hereby grants permission to reproduce the tables and\n",
      "0.28306875 BERT (Ours) Trm Trm Trm Trm Trm Trm ... ... Trm Trm Trm Trm Trm Trm ... ... OpenAI GPT Lstm ELMo Lst\n",
      "0.28207815 length n is smaller than the representation dimensionality d, which is most often the case with sent\n",
      "0.25725156 Dev Set Tasks MNLI-m QNLI MRPC SST-2 SQuAD (Acc) (Acc) (Acc) (Acc) (F1) BERTBASE 84.4 88.4 86.7 92.7\n"
     ]
    }
   ],
   "source": [
    "# Output the results\n",
    "thres = 0.25\n",
    "\n",
    "query_score_list = []\n",
    "\n",
    "for query, query_scores in zip(queries, scores):\n",
    "    doc_score_pairs = list(zip(documents, query_scores))\n",
    "    doc_score_pairs = sorted(doc_score_pairs, key=lambda x: x[1], reverse=True)\n",
    "    print(\"Query:\", query)\n",
    "    k=-1\n",
    "    for document, score in doc_score_pairs:\n",
    "        k += 1\n",
    "        score_val = score.numpy()\n",
    "        if score_val >= 0.25:\n",
    "            print(score_val, document[:100])\n",
    "            query_score_list.append({'query':query, \n",
    "                                     'doc':document,\n",
    "                                     'llama_index_doc': all_docs[k],\n",
    "                                     'score': score_val\n",
    "                                    })        "
   ]
  },
  {
   "cell_type": "markdown",
   "id": "72c38f4c-b6de-4af5-b9ed-b6eef6f87020",
   "metadata": {},
   "source": [
    "<b>3.2 Semantic Search Inside Text Chunks</b>"
   ]
  },
  {
   "cell_type": "code",
   "execution_count": 61,
   "id": "90646135-9446-4fcb-9069-de97c3dfc240",
   "metadata": {},
   "outputs": [],
   "source": [
    "ind = 2\n",
    "doc = query_score_list[ind]['doc']\n",
    "q = query_score_list[ind]['query']\n",
    "\n",
    "doc_sentence = doc.split('. ')"
   ]
  },
  {
   "cell_type": "code",
   "execution_count": 62,
   "id": "cc193017-d1d3-42f4-a843-fd2cdb3266ed",
   "metadata": {},
   "outputs": [
    {
     "data": {
      "text/plain": [
       "'what is attention?'"
      ]
     },
     "execution_count": 62,
     "metadata": {},
     "output_type": "execute_result"
    }
   ],
   "source": [
    "q"
   ]
  },
  {
   "cell_type": "code",
   "execution_count": 63,
   "id": "3ed1a270-7bcc-458c-9979-b67e3f0da71b",
   "metadata": {},
   "outputs": [
    {
     "data": {
      "text/plain": [
       "['output values',\n",
       " 'These are concatenated and once again projected, resulting in the final values, as depicted in Figure 2',\n",
       " 'Multi-head attention allows the model to jointly attend to information from different representation subspaces at different positions',\n",
       " 'With a single attention head, averaging inhibits this',\n",
       " 'MultiHead(Q, K, V) = Concat(head1, ...,headh)WO where headi = Attention(QWQ i , KWK i , V WV i ) Where the projections are parameter matricesWQ i ∈ Rdmodel×dk , WK i ∈ Rdmodel×dk , WV i ∈ Rdmodel×dv and WO ∈ Rhdv×dmodel ',\n",
       " 'In this work we employ h = 8 parallel attention layers, or heads',\n",
       " 'For each of these we use dk = dv = dmodel/h = 64',\n",
       " 'Due to the reduced dimension of each head, the total computational cost is similar to that of single-head attention with full dimensionality',\n",
       " '3.2.3 Applications of Attention in our Model The Transformer uses multi-head attention in three different ways: • In \"encoder-decoder attention\" layers, the queries come from the previous decoder layer, and the memory keys and values come from the output of the encoder',\n",
       " 'This allows every position in the decoder to attend over all positions in the input sequence',\n",
       " 'This mimics the typical encoder-decoder attention mechanisms in sequence-to-sequence models such as [38, 2, 9]',\n",
       " '• The encoder contains self-attention layers',\n",
       " 'In a self-attention layer all of the keys, values and queries come from the same place, in this case, the output of the previous layer in the encoder',\n",
       " 'Each position in the encoder can attend to all positions in the previous layer of the encoder',\n",
       " '• Similarly, self-attention layers in the decoder allow each position in the decoder to attend to all positions in the decoder up to and including that position',\n",
       " 'We need to prevent leftward information flow in the decoder to preserve the auto-regressive property',\n",
       " 'We implement this inside of scaled dot-product attention by masking out (setting to −∞) all values in the input of the softmax which correspond to illegal connections',\n",
       " 'See Figure 2',\n",
       " '3.3 Position-wise Feed-Forward Networks In addition to attention sub-layers, each of the layers in our encoder and decoder contains a fully connected feed-forward network, which is applied to each position separately and identically',\n",
       " 'This consists of two linear transformations with a ReLU activation in between',\n",
       " 'FFN(x) = max(0, xW1 + b1)W2 + b2 (2) While the linear transformations are the same across different positions, they use different parameters from layer to layer',\n",
       " 'Another way of describing this is as two convolutions with kernel size 1',\n",
       " 'The dimensionality of input and output is dmodel = 512, and the inner-layer has dimensionality dff = 2048',\n",
       " '3.4 Embeddings and Softmax Similarly to other sequence transduction models, we use learned embeddings to convert the input tokens and output tokens to vectors of dimension dmodel',\n",
       " 'We also use the usual learned linear transfor- mation and softmax function to convert the decoder output to predicted next-token probabilities',\n",
       " 'In our model, we share the same weight matrix between the two embedding layers and the pre-softmax linear transformation, similar to [30]',\n",
       " 'In the embedding layers, we multiply those weights by √dmodel',\n",
       " '5']"
      ]
     },
     "execution_count": 63,
     "metadata": {},
     "output_type": "execute_result"
    }
   ],
   "source": [
    "doc_sentence"
   ]
  },
  {
   "cell_type": "code",
   "execution_count": 64,
   "id": "6d76fc92-58cc-4306-8a84-7803f11cd11b",
   "metadata": {},
   "outputs": [],
   "source": [
    "doc_query_embeddings = model.encode(q) \n",
    "doc_sentence_embeddings = model.encode(doc_sentence)"
   ]
  },
  {
   "cell_type": "code",
   "execution_count": 65,
   "id": "94c29d14-16a0-41dc-b757-42f18d7aacf6",
   "metadata": {},
   "outputs": [],
   "source": [
    "sentence_scores = model.similarity(doc_query_embeddings, \n",
    "                                   doc_sentence_embeddings)"
   ]
  },
  {
   "cell_type": "code",
   "execution_count": 66,
   "id": "2ad12f58-2a08-4c09-a9db-5c801da0e493",
   "metadata": {},
   "outputs": [
    {
     "data": {
      "text/plain": [
       "tensor([[ 0.0960,  0.0322,  0.4273,  0.4587,  0.2416,  0.4568,  0.0357,  0.4336,\n",
       "          0.4957,  0.2036,  0.3647,  0.3706,  0.3717,  0.1514,  0.3282,  0.0843,\n",
       "          0.2573,  0.1392,  0.3269,  0.1512, -0.0143,  0.1179,  0.1034,  0.1406,\n",
       "          0.1311,  0.0234,  0.0249,  0.1270]])"
      ]
     },
     "execution_count": 66,
     "metadata": {},
     "output_type": "execute_result"
    }
   ],
   "source": [
    "sentence_scores"
   ]
  },
  {
   "cell_type": "code",
   "execution_count": 67,
   "id": "448d1205-c7f3-403f-885f-d5477486c1f2",
   "metadata": {},
   "outputs": [],
   "source": [
    "import matplotlib.cm as cm\n",
    "import matplotlib as matplotlib\n",
    "from IPython.display import display, Markdown\n",
    "\n",
    "def color_map_color(value, \n",
    "                    cmap_name='PuBu',\n",
    "                    #cmap_name='Wistia', \n",
    "                    vmin=0, \n",
    "                    vmax=1):\n",
    "    # norm = plt.Normalize(vmin, vmax)\n",
    "    norm = matplotlib.colors.Normalize(vmin=vmin, vmax=vmax)\n",
    "    cmap = cm.get_cmap(cmap_name)  # PiYG\n",
    "    rgb = cmap(norm(abs(value)))[:3]  # will return rgba, we take only first 3 so we get rgb\n",
    "    color = matplotlib.colors.rgb2hex(rgb)\n",
    "    return color"
   ]
  },
  {
   "cell_type": "code",
   "execution_count": 68,
   "id": "170654e9-32be-46da-8e03-53bf6d15695a",
   "metadata": {},
   "outputs": [
    {
     "name": "stderr",
     "output_type": "stream",
     "text": [
      "C:\\Users\\18623\\AppData\\Local\\Temp\\ipykernel_34180\\4137129256.py:12: MatplotlibDeprecationWarning: The get_cmap function was deprecated in Matplotlib 3.7 and will be removed two minor releases later. Use ``matplotlib.colormaps[name]`` or ``matplotlib.colormaps.get_cmap(obj)`` instead.\n",
      "  cmap = cm.get_cmap(cmap_name)  # PiYG\n"
     ]
    },
    {
     "data": {
      "text/plain": [
       "\"<span style='background-color:#6fa7ce'>text</span>\""
      ]
     },
     "execution_count": 68,
     "metadata": {},
     "output_type": "execute_result"
    }
   ],
   "source": [
    "html_template = \"<span style='background-color:{}'>{}</span>\"\n",
    "html_template.format(color_map_color(0.51),'text')"
   ]
  },
  {
   "cell_type": "code",
   "execution_count": 69,
   "id": "614db170-8459-4459-b0aa-fcd5bf5f1fb1",
   "metadata": {},
   "outputs": [
    {
     "name": "stderr",
     "output_type": "stream",
     "text": [
      "C:\\Users\\18623\\AppData\\Local\\Temp\\ipykernel_34180\\4137129256.py:12: MatplotlibDeprecationWarning: The get_cmap function was deprecated in Matplotlib 3.7 and will be removed two minor releases later. Use ``matplotlib.colormaps[name]`` or ``matplotlib.colormaps.get_cmap(obj)`` instead.\n",
      "  cmap = cm.get_cmap(cmap_name)  # PiYG\n"
     ]
    },
    {
     "data": {
      "text/markdown": [
       "<span style='background-color:#6fa7ce'>text</span>"
      ],
      "text/plain": [
       "<IPython.core.display.Markdown object>"
      ]
     },
     "metadata": {},
     "output_type": "display_data"
    }
   ],
   "source": [
    "display(Markdown(html_template.format(color_map_color(0.51),'text')))"
   ]
  },
  {
   "cell_type": "code",
   "execution_count": 70,
   "id": "f3035211-c33d-4735-b95b-7fde23b54f58",
   "metadata": {},
   "outputs": [
    {
     "name": "stderr",
     "output_type": "stream",
     "text": [
      "C:\\Users\\18623\\AppData\\Local\\Temp\\ipykernel_34180\\4137129256.py:12: MatplotlibDeprecationWarning: The get_cmap function was deprecated in Matplotlib 3.7 and will be removed two minor releases later. Use ``matplotlib.colormaps[name]`` or ``matplotlib.colormaps.get_cmap(obj)`` instead.\n",
      "  cmap = cm.get_cmap(cmap_name)  # PiYG\n"
     ]
    }
   ],
   "source": [
    "html_template = \"<span style='background-color:{};opacity:0.8;'>{}</span><sup style='font-size:10px;font-weight:bold;color:red;'>Score:{:.2f}</sup>\"\n",
    "html_output = []\n",
    "for query, query_scores in zip(q, sentence_scores):\n",
    "    doc_score_pairs = list(zip(doc_sentence, query_scores))\n",
    "    doc_score_pairs = sorted(doc_score_pairs, key=lambda x: x[1], reverse=True)\n",
    "    #print(\"Query:\", q)\n",
    "    for document, score in doc_score_pairs:\n",
    "        score_val = score.numpy()\n",
    "        html_output.append(html_template.format(color_map_color(1-score_val),document,score_val))"
   ]
  },
  {
   "cell_type": "code",
   "execution_count": 175,
   "id": "3c42aeac-4f85-4d88-8752-27f3401b6f77",
   "metadata": {},
   "outputs": [
    {
     "data": {
      "text/markdown": [
       "<span style='background-color:#71a8ce;opacity:0.8;'>3.2.3 Applications of Attention in our Model The Transformer uses multi-head attention in three different ways: • In \"encoder-decoder attention\" layers, the queries come from the previous decoder layer, and the memory keys and values come from the output of the encoder</span><sup style='font-size:10px;font-weight:bold;color:red;'>Score:0.50</sup> <span style='background-color:#60a1ca;opacity:0.8;'>With a single attention head, averaging inhibits this</span><sup style='font-size:10px;font-weight:bold;color:red;'>Score:0.46</sup> <span style='background-color:#5ea0ca;opacity:0.8;'>In this work we employ h = 8 parallel attention layers, or heads</span><sup style='font-size:10px;font-weight:bold;color:red;'>Score:0.46</sup> <span style='background-color:#529bc7;opacity:0.8;'>Due to the reduced dimension of each head, the total computational cost is similar to that of single-head attention with full dimensionality</span><sup style='font-size:10px;font-weight:bold;color:red;'>Score:0.43</sup> <span style='background-color:#509ac6;opacity:0.8;'>Multi-head attention allows the model to jointly attend to information from different representation subspaces at different positions</span><sup style='font-size:10px;font-weight:bold;color:red;'>Score:0.43</sup> <span style='background-color:#358fc0;opacity:0.8;'>In a self-attention layer all of the keys, values and queries come from the same place, in this case, the output of the previous layer in the encoder</span><sup style='font-size:10px;font-weight:bold;color:red;'>Score:0.37</sup> <span style='background-color:#348ebf;opacity:0.8;'>• The encoder contains self-attention layers</span><sup style='font-size:10px;font-weight:bold;color:red;'>Score:0.37</sup> <span style='background-color:#328dbf;opacity:0.8;'>This mimics the typical encoder-decoder attention mechanisms in sequence-to-sequence models such as [38, 2, 9]</span><sup style='font-size:10px;font-weight:bold;color:red;'>Score:0.36</sup> <span style='background-color:#2484ba;opacity:0.8;'>• Similarly, self-attention layers in the decoder allow each position in the decoder to attend to all positions in the decoder up to and including that position</span><sup style='font-size:10px;font-weight:bold;color:red;'>Score:0.33</sup> <span style='background-color:#2383ba;opacity:0.8;'>3.3 Position-wise Feed-Forward Networks In addition to attention sub-layers, each of the layers in our encoder and decoder contains a fully connected feed-forward network, which is applied to each position separately and identically</span><sup style='font-size:10px;font-weight:bold;color:red;'>Score:0.33</sup> <span style='background-color:#0771b1;opacity:0.8;'>We implement this inside of scaled dot-product attention by masking out (setting to −∞) all values in the input of the softmax which correspond to illegal connections</span><sup style='font-size:10px;font-weight:bold;color:red;'>Score:0.26</sup> <span style='background-color:#056ead;opacity:0.8;'>MultiHead(Q, K, V) = Concat(head1, ...,headh)WO where headi = Attention(QWQ i , KWK i , V WV i ) Where the projections are parameter matricesWQ i ∈ Rdmodel×dk , WK i ∈ Rdmodel×dk , WV i ∈ Rdmodel×dv and WO ∈ Rhdv×dmodel </span><sup style='font-size:10px;font-weight:bold;color:red;'>Score:0.24</sup> <span style='background-color:#0568a3;opacity:0.8;'>This allows every position in the decoder to attend over all positions in the input sequence</span><sup style='font-size:10px;font-weight:bold;color:red;'>Score:0.20</sup> <span style='background-color:#045e94;opacity:0.8;'>Each position in the encoder can attend to all positions in the previous layer of the encoder</span><sup style='font-size:10px;font-weight:bold;color:red;'>Score:0.15</sup> <span style='background-color:#045e94;opacity:0.8;'>This consists of two linear transformations with a ReLU activation in between</span><sup style='font-size:10px;font-weight:bold;color:red;'>Score:0.15</sup> <span style='background-color:#045c90;opacity:0.8;'>3.4 Embeddings and Softmax Similarly to other sequence transduction models, we use learned embeddings to convert the input tokens and output tokens to vectors of dimension dmodel</span><sup style='font-size:10px;font-weight:bold;color:red;'>Score:0.14</sup> <span style='background-color:#045c90;opacity:0.8;'>See Figure 2</span><sup style='font-size:10px;font-weight:bold;color:red;'>Score:0.14</sup> <span style='background-color:#045b8e;opacity:0.8;'>We also use the usual learned linear transfor- mation and softmax function to convert the decoder output to predicted next-token probabilities</span><sup style='font-size:10px;font-weight:bold;color:red;'>Score:0.13</sup> <span style='background-color:#045a8d;opacity:0.8;'>5</span><sup style='font-size:10px;font-weight:bold;color:red;'>Score:0.13</sup> <span style='background-color:#04588a;opacity:0.8;'>Another way of describing this is as two convolutions with kernel size 1</span><sup style='font-size:10px;font-weight:bold;color:red;'>Score:0.12</sup> <span style='background-color:#045483;opacity:0.8;'>The dimensionality of input and output is dmodel = 512, and the inner-layer has dimensionality dff = 2048</span><sup style='font-size:10px;font-weight:bold;color:red;'>Score:0.10</sup> <span style='background-color:#045280;opacity:0.8;'>output values</span><sup style='font-size:10px;font-weight:bold;color:red;'>Score:0.10</sup> <span style='background-color:#034e7b;opacity:0.8;'>We need to prevent leftward information flow in the decoder to preserve the auto-regressive property</span><sup style='font-size:10px;font-weight:bold;color:red;'>Score:0.08</sup> <span style='background-color:#034267;opacity:0.8;'>For each of these we use dk = dv = dmodel/h = 64</span><sup style='font-size:10px;font-weight:bold;color:red;'>Score:0.04</sup> <span style='background-color:#034165;opacity:0.8;'>These are concatenated and once again projected, resulting in the final values, as depicted in Figure 2</span><sup style='font-size:10px;font-weight:bold;color:red;'>Score:0.03</sup> <span style='background-color:#023e62;opacity:0.8;'>In the embedding layers, we multiply those weights by √dmodel</span><sup style='font-size:10px;font-weight:bold;color:red;'>Score:0.02</sup> <span style='background-color:#023d60;opacity:0.8;'>In our model, we share the same weight matrix between the two embedding layers and the pre-softmax linear transformation, similar to [30]</span><sup style='font-size:10px;font-weight:bold;color:red;'>Score:0.02</sup> <span style='background-color:#023858;opacity:0.8;'>FFN(x) = max(0, xW1 + b1)W2 + b2 (2) While the linear transformations are the same across different positions, they use different parameters from layer to layer</span><sup style='font-size:10px;font-weight:bold;color:red;'>Score:-0.01</sup>"
      ],
      "text/plain": [
       "<IPython.core.display.Markdown object>"
      ]
     },
     "metadata": {},
     "output_type": "display_data"
    }
   ],
   "source": [
    "display(Markdown(' '.join(html_output)))"
   ]
  },
  {
   "cell_type": "markdown",
   "id": "758c55fc-356d-4f6a-b183-e4d52233052b",
   "metadata": {},
   "source": [
    "## 4. Semantic Vector Search: Vector DB"
   ]
  },
  {
   "cell_type": "code",
   "execution_count": 118,
   "id": "58bf1575-0e70-4e69-87cf-90f9aec2997e",
   "metadata": {},
   "outputs": [],
   "source": [
    "output_df = {}"
   ]
  },
  {
   "cell_type": "code",
   "execution_count": 119,
   "id": "98ddb757-ef90-4b48-b292-6f8864b79471",
   "metadata": {},
   "outputs": [],
   "source": [
    "pd.set_option('display.max_colwidth', 500)"
   ]
  },
  {
   "cell_type": "code",
   "execution_count": 120,
   "id": "624445b2-348a-4d59-ba8f-746465c16550",
   "metadata": {},
   "outputs": [],
   "source": [
    "# store docs into vector DB\n",
    "index = VectorStoreIndex.from_documents(all_docs)"
   ]
  },
  {
   "cell_type": "code",
   "execution_count": 121,
   "id": "35f22dec-7949-42ef-9b09-ca5c5274918f",
   "metadata": {},
   "outputs": [],
   "source": [
    "# set number of docs to retreive\n",
    "top_k = 7\n",
    "\n",
    "# configure retriever\n",
    "retriever = VectorIndexRetriever(\n",
    "    index=index,\n",
    "    similarity_top_k=top_k,\n",
    ")\n",
    "     \n",
    "\n",
    "# assemble query engine\n",
    "query_engine = RetrieverQueryEngine(\n",
    "    retriever=retriever,\n",
    "    node_postprocessors=[SimilarityPostprocessor(similarity_cutoff=0.3)],\n",
    ")"
   ]
  },
  {
   "cell_type": "markdown",
   "id": "f76b6c14-fc5c-4268-86ed-20d486edcfc7",
   "metadata": {},
   "source": [
    "<b>4.1 To BERT or not to BERT? this is the questions</b>"
   ]
  },
  {
   "cell_type": "code",
   "execution_count": 183,
   "id": "91e045ed-8627-47e5-886b-3d812f05c895",
   "metadata": {},
   "outputs": [],
   "source": [
    "# query documents\n",
    "query = \"What is BERT?\"\n",
    "response = query_engine.query(query)"
   ]
  },
  {
   "cell_type": "code",
   "execution_count": 184,
   "id": "7c4c489a-81c7-4903-8b73-3a47f50cc171",
   "metadata": {},
   "outputs": [
    {
     "data": {
      "text/plain": [
       "dict_keys(['response', 'source_nodes', 'metadata'])"
      ]
     },
     "execution_count": 184,
     "metadata": {},
     "output_type": "execute_result"
    }
   ],
   "source": [
    "response.__dict__.keys()"
   ]
  },
  {
   "cell_type": "code",
   "execution_count": 185,
   "id": "25cd522b-6362-45d7-bafe-3520aab862a9",
   "metadata": {},
   "outputs": [
    {
     "data": {
      "text/plain": [
       "'BERT pre_training of deep bidirectional transformers for language understanding 1810.04805v2.pdf'"
      ]
     },
     "execution_count": 185,
     "metadata": {},
     "output_type": "execute_result"
    }
   ],
   "source": [
    "response.__dict__['source_nodes'][0].node.__dict__['metadata']['file_name']"
   ]
  },
  {
   "cell_type": "code",
   "execution_count": 186,
   "id": "0d3e2543-eb6a-4de2-b112-a4e6b5dcb847",
   "metadata": {},
   "outputs": [],
   "source": [
    "# reformat response\n",
    "cols = ['question','scores','paper','text']\n",
    "df_dict = {col:[] for col in cols}\n",
    "\n",
    "for i in range(top_k):\n",
    "    #context += f'>>> chunk {i+1} ' + str(response.source_nodes[i].score) + '\\n\\n' + response.source_nodes[i].text + \"\\n\\n\"\n",
    "    #context += 'From: '+response.__dict__['source_nodes'][i].node.__dict__['metadata']['file_name'] + '\\n\\n'\n",
    "    df_dict['scores'].append(response.source_nodes[i].score)\n",
    "    df_dict['paper'].append(response.__dict__['source_nodes'][i].node.__dict__['metadata']['file_name'])\n",
    "    df_dict['text'].append(response.source_nodes[i].text)\n",
    "\n",
    "df_dict['question'] = [query]*len(df_dict['scores'])\n",
    "output_df[query] = pd.DataFrame(df_dict)"
   ]
  },
  {
   "cell_type": "code",
   "execution_count": 187,
   "id": "9a88cfaa-2206-4ddc-b661-03e12416a13a",
   "metadata": {
    "scrolled": true
   },
   "outputs": [
    {
     "data": {
      "text/html": [
       "<div>\n",
       "<style scoped>\n",
       "    .dataframe tbody tr th:only-of-type {\n",
       "        vertical-align: middle;\n",
       "    }\n",
       "\n",
       "    .dataframe tbody tr th {\n",
       "        vertical-align: top;\n",
       "    }\n",
       "\n",
       "    .dataframe thead th {\n",
       "        text-align: right;\n",
       "    }\n",
       "</style>\n",
       "<table border=\"1\" class=\"dataframe\">\n",
       "  <thead>\n",
       "    <tr style=\"text-align: right;\">\n",
       "      <th></th>\n",
       "      <th>question</th>\n",
       "      <th>scores</th>\n",
       "      <th>paper</th>\n",
       "      <th>text</th>\n",
       "    </tr>\n",
       "  </thead>\n",
       "  <tbody>\n",
       "    <tr>\n",
       "      <th>0</th>\n",
       "      <td>What is BERT?</td>\n",
       "      <td>0.811123</td>\n",
       "      <td>BERT pre_training of deep bidirectional transformers for language understanding 1810.04805v2.pdf</td>\n",
       "      <td>BERT is the ﬁrst ﬁne-\\ntuning based representation model that achieves\\nstate-of-the-art performance on a large suite\\nof sentence-level and token-level tasks, outper-\\nforming many task-speciﬁc architectures.\\n• BERT advances the state of the art for eleven\\nNLP tasks.</td>\n",
       "    </tr>\n",
       "    <tr>\n",
       "      <th>1</th>\n",
       "      <td>What is BERT?</td>\n",
       "      <td>0.751915</td>\n",
       "      <td>BERT pre_training of deep bidirectional transformers for language understanding 1810.04805v2.pdf</td>\n",
       "      <td>BERT is conceptually simple and empirically\\npowerful. It obtains new state-of-the-art re-\\nsults on eleven natural language processing\\ntasks, including pushing the GLUE score to\\n80.5% (7.7% point absolute improvement),\\nMultiNLI accuracy to 86.7% (4.6% absolute\\nimprovement), SQuAD v1.</td>\n",
       "    </tr>\n",
       "    <tr>\n",
       "      <th>2</th>\n",
       "      <td>What is BERT?</td>\n",
       "      <td>0.751781</td>\n",
       "      <td>BERT pre_training of deep bidirectional transformers for language understanding 1810.04805v2.pdf</td>\n",
       "      <td>BERT BERT\\nE[CLS] E1  E[SEP]. EN E1’ . EM’\\nC\\n T1\\n T[SEP].\\n TN\\n T1’ .\\n TM’\\n[CLS] Tok 1  [SEP]. Tok N Tok 1 . TokM\\nQuestion Paragraph\\nStart/End Span\\nBERT\\nE[CLS] E1  E[SEP].</td>\n",
       "    </tr>\n",
       "    <tr>\n",
       "      <th>3</th>\n",
       "      <td>What is BERT?</td>\n",
       "      <td>0.740903</td>\n",
       "      <td>BERT pre_training of deep bidirectional transformers for language understanding 1810.04805v2.pdf</td>\n",
       "      <td>TokM\\nQuestion Paragraph\\nStart/End Span\\nBERT\\nE[CLS] E1  E[SEP]. EN E1’ . EM’\\nC\\n T1\\n T[SEP].\\n TN\\n T1’ .\\n TM’\\n[CLS] Tok 1  [SEP]. Tok N Tok 1 .</td>\n",
       "    </tr>\n",
       "    <tr>\n",
       "      <th>4</th>\n",
       "      <td>What is BERT?</td>\n",
       "      <td>0.738021</td>\n",
       "      <td>BERT pre_training of deep bidirectional transformers for language understanding 1810.04805v2.pdf</td>\n",
       "      <td>Input/Output Representations To make BERT\\nhandle a variety of down-stream tasks, our input\\nrepresentation is able to unambiguously represent\\nboth a single sentence and a pair of sentences\\n(e.g., ⟨Question, Answer ⟩) in one token sequence.</td>\n",
       "    </tr>\n",
       "    <tr>\n",
       "      <th>5</th>\n",
       "      <td>What is BERT?</td>\n",
       "      <td>0.733836</td>\n",
       "      <td>BERT pre_training of deep bidirectional transformers for language understanding 1810.04805v2.pdf</td>\n",
       "      <td>Each downstream task has sep-\\narate ﬁne-tuned models, even though they are ini-\\ntialized with the same pre-trained parameters. The\\nquestion-answering example in Figure 1 will serve\\nas a running example for this section.\\nA distinctive feature of BERT is its uniﬁed ar-\\nchitecture across different tasks.</td>\n",
       "    </tr>\n",
       "    <tr>\n",
       "      <th>6</th>\n",
       "      <td>What is BERT?</td>\n",
       "      <td>0.731738</td>\n",
       "      <td>BERT pre_training of deep bidirectional transformers for language understanding 1810.04805v2.pdf</td>\n",
       "      <td>BERT\\nE[CLS] E1  E[SEP]. EN E1’ . EM’\\nC\\n T1\\n T[SEP].\\n TN\\n T1’ .\\n TM’\\n[CLS] Tok \\n1\\n [SEP]. Tok \\nN\\nTok \\n1 .</td>\n",
       "    </tr>\n",
       "  </tbody>\n",
       "</table>\n",
       "</div>"
      ],
      "text/plain": [
       "        question    scores  \\\n",
       "0  What is BERT?  0.811123   \n",
       "1  What is BERT?  0.751915   \n",
       "2  What is BERT?  0.751781   \n",
       "3  What is BERT?  0.740903   \n",
       "4  What is BERT?  0.738021   \n",
       "5  What is BERT?  0.733836   \n",
       "6  What is BERT?  0.731738   \n",
       "\n",
       "                                                                                              paper  \\\n",
       "0  BERT pre_training of deep bidirectional transformers for language understanding 1810.04805v2.pdf   \n",
       "1  BERT pre_training of deep bidirectional transformers for language understanding 1810.04805v2.pdf   \n",
       "2  BERT pre_training of deep bidirectional transformers for language understanding 1810.04805v2.pdf   \n",
       "3  BERT pre_training of deep bidirectional transformers for language understanding 1810.04805v2.pdf   \n",
       "4  BERT pre_training of deep bidirectional transformers for language understanding 1810.04805v2.pdf   \n",
       "5  BERT pre_training of deep bidirectional transformers for language understanding 1810.04805v2.pdf   \n",
       "6  BERT pre_training of deep bidirectional transformers for language understanding 1810.04805v2.pdf   \n",
       "\n",
       "                                                                                                                                                                                                                                                                                                                   text  \n",
       "0                                        BERT is the ﬁrst ﬁne-\\ntuning based representation model that achieves\\nstate-of-the-art performance on a large suite\\nof sentence-level and token-level tasks, outper-\\nforming many task-speciﬁc architectures.\\n• BERT advances the state of the art for eleven\\nNLP tasks.  \n",
       "1                     BERT is conceptually simple and empirically\\npowerful. It obtains new state-of-the-art re-\\nsults on eleven natural language processing\\ntasks, including pushing the GLUE score to\\n80.5% (7.7% point absolute improvement),\\nMultiNLI accuracy to 86.7% (4.6% absolute\\nimprovement), SQuAD v1.  \n",
       "2                                                                                                                                 BERT BERT\\nE[CLS] E1  E[SEP]. EN E1’ . EM’\\nC\\n T1\\n T[SEP].\\n TN\\n T1’ .\\n TM’\\n[CLS] Tok 1  [SEP]. Tok N Tok 1 . TokM\\nQuestion Paragraph\\nStart/End Span\\nBERT\\nE[CLS] E1  E[SEP].  \n",
       "3                                                                                                                                                               TokM\\nQuestion Paragraph\\nStart/End Span\\nBERT\\nE[CLS] E1  E[SEP]. EN E1’ . EM’\\nC\\n T1\\n T[SEP].\\n TN\\n T1’ .\\n TM’\\n[CLS] Tok 1  [SEP]. Tok N Tok 1 .  \n",
       "4                                                                    Input/Output Representations To make BERT\\nhandle a variety of down-stream tasks, our input\\nrepresentation is able to unambiguously represent\\nboth a single sentence and a pair of sentences\\n(e.g., ⟨Question, Answer ⟩) in one token sequence.  \n",
       "5  Each downstream task has sep-\\narate ﬁne-tuned models, even though they are ini-\\ntialized with the same pre-trained parameters. The\\nquestion-answering example in Figure 1 will serve\\nas a running example for this section.\\nA distinctive feature of BERT is its uniﬁed ar-\\nchitecture across different tasks.  \n",
       "6                                                                                                                                                                                                 BERT\\nE[CLS] E1  E[SEP]. EN E1’ . EM’\\nC\\n T1\\n T[SEP].\\n TN\\n T1’ .\\n TM’\\n[CLS] Tok \\n1\\n [SEP]. Tok \\nN\\nTok \\n1 .  "
      ]
     },
     "execution_count": 187,
     "metadata": {},
     "output_type": "execute_result"
    }
   ],
   "source": [
    "output_df[query]"
   ]
  },
  {
   "cell_type": "markdown",
   "id": "1566ddbb-1628-45cc-ba2a-1b3befd843f5",
   "metadata": {},
   "source": [
    "<b>4.2 Pay Attention</b>"
   ]
  },
  {
   "cell_type": "code",
   "execution_count": 180,
   "id": "329672a0-323a-4aa9-a804-e0bb8c7b8474",
   "metadata": {},
   "outputs": [],
   "source": [
    "# query documents\n",
    "query = \"What is multi-head attention?\"\n",
    "response = query_engine.query(query)"
   ]
  },
  {
   "cell_type": "code",
   "execution_count": 181,
   "id": "cf687120-e8e8-4939-9e0c-ae076cfba69f",
   "metadata": {},
   "outputs": [],
   "source": [
    "# reformat response\n",
    "cols = ['question','scores','paper','text']\n",
    "df_dict = {col:[] for col in cols}\n",
    "\n",
    "for i in range(top_k):\n",
    "    #context += f'>>> chunk {i+1} ' + str(response.source_nodes[i].score) + '\\n\\n' + response.source_nodes[i].text + \"\\n\\n\"\n",
    "    #context += 'From: '+response.__dict__['source_nodes'][i].node.__dict__['metadata']['file_name'] + '\\n\\n'\n",
    "    df_dict['scores'].append(response.source_nodes[i].score)\n",
    "    df_dict['paper'].append(response.__dict__['source_nodes'][i].node.__dict__['metadata']['file_name'])\n",
    "    df_dict['text'].append(response.source_nodes[i].text)\n",
    "\n",
    "df_dict['question'] = [query]*len(df_dict['scores'])\n",
    "output_df[query] = pd.DataFrame(df_dict)"
   ]
  },
  {
   "cell_type": "code",
   "execution_count": 182,
   "id": "531498e4-f0b4-43d5-afb5-a54bc1f1bc2a",
   "metadata": {},
   "outputs": [
    {
     "data": {
      "text/html": [
       "<div>\n",
       "<style scoped>\n",
       "    .dataframe tbody tr th:only-of-type {\n",
       "        vertical-align: middle;\n",
       "    }\n",
       "\n",
       "    .dataframe tbody tr th {\n",
       "        vertical-align: top;\n",
       "    }\n",
       "\n",
       "    .dataframe thead th {\n",
       "        text-align: right;\n",
       "    }\n",
       "</style>\n",
       "<table border=\"1\" class=\"dataframe\">\n",
       "  <thead>\n",
       "    <tr style=\"text-align: right;\">\n",
       "      <th></th>\n",
       "      <th>question</th>\n",
       "      <th>scores</th>\n",
       "      <th>paper</th>\n",
       "      <th>text</th>\n",
       "    </tr>\n",
       "  </thead>\n",
       "  <tbody>\n",
       "    <tr>\n",
       "      <th>0</th>\n",
       "      <td>What is multi-head attention?</td>\n",
       "      <td>0.800710</td>\n",
       "      <td>attention is all you need 1706.03762v7.pdf</td>\n",
       "      <td>Scaled Dot-Product Attention\\n Multi-Head Attention\\nFigure 2: (left) Scaled Dot-Product Attention. (right) Multi-Head Attention consists of several\\nattention layers running in parallel.\\nof the values, where the weight assigned to each value is computed by a compatibility function of the\\nquery with the corresponding key.</td>\n",
       "    </tr>\n",
       "    <tr>\n",
       "      <th>1</th>\n",
       "      <td>What is multi-head attention?</td>\n",
       "      <td>0.784158</td>\n",
       "      <td>attention is all you need 1706.03762v7.pdf</td>\n",
       "      <td>3.2.3 Applications of Attention in our Model\\nThe Transformer uses multi-head attention in three different ways:\\n• In \"encoder-decoder attention\" layers, the queries come from the previous decoder layer,\\nand the memory keys and values come from the output of the encoder. This allows every\\nposition in the decoder to attend over all positions in the input sequence.</td>\n",
       "    </tr>\n",
       "    <tr>\n",
       "      <th>2</th>\n",
       "      <td>What is multi-head attention?</td>\n",
       "      <td>0.772050</td>\n",
       "      <td>attention is all you need 1706.03762v7.pdf</td>\n",
       "      <td>output values. These are concatenated and once again projected, resulting in the final values, as\\ndepicted in Figure 2.\\nMulti-head attention allows the model to jointly attend to information from different representation\\nsubspaces at different positions. With a single attention head, averaging inhibits this.</td>\n",
       "    </tr>\n",
       "    <tr>\n",
       "      <th>3</th>\n",
       "      <td>What is multi-head attention?</td>\n",
       "      <td>0.758912</td>\n",
       "      <td>attention is all you need 1706.03762v7.pdf</td>\n",
       "      <td>With a single attention head, averaging inhibits this.\\nMultiHead(Q, K, V) = Concat(head1, ...,headh)WO\\nwhere headi = Attention(QWQ\\ni , KWK\\ni , V WV\\ni )\\nWhere the projections are parameter matricesWQ\\ni ∈ Rdmodel×dk , WK\\ni ∈ Rdmodel×dk , WV\\ni ∈ Rdmodel×dv\\nand WO ∈ Rhdv×dmodel .</td>\n",
       "    </tr>\n",
       "    <tr>\n",
       "      <th>4</th>\n",
       "      <td>What is multi-head attention?</td>\n",
       "      <td>0.740496</td>\n",
       "      <td>attention is all you need 1706.03762v7.pdf</td>\n",
       "      <td>Each layer has two\\nsub-layers. The first is a multi-head self-attention mechanism, and the second is a simple, position-\\nwise fully connected feed-forward network. We employ a residual connection [11] around each of\\nthe two sub-layers, followed by layer normalization [ 1].</td>\n",
       "    </tr>\n",
       "    <tr>\n",
       "      <th>5</th>\n",
       "      <td>What is multi-head attention?</td>\n",
       "      <td>0.738943</td>\n",
       "      <td>attention is all you need 1706.03762v7.pdf</td>\n",
       "      <td>To counteract this effect, we scale the dot products by 1√dk\\n.\\n3.2.2 Multi-Head Attention\\nInstead of performing a single attention function with dmodel-dimensional keys, values and queries,\\nwe found it beneficial to linearly project the queries, keys and values h times with different, learned\\nlinear projections to dk, dk and dv dimensions, respectively.</td>\n",
       "    </tr>\n",
       "    <tr>\n",
       "      <th>6</th>\n",
       "      <td>What is multi-head attention?</td>\n",
       "      <td>0.738749</td>\n",
       "      <td>attention is all you need 1706.03762v7.pdf</td>\n",
       "      <td>In this work we employ h = 8 parallel attention layers, or heads. For each of these we use\\ndk = dv = dmodel/h = 64. Due to the reduced dimension of each head, the total computational cost\\nis similar to that of single-head attention with full dimensionality.</td>\n",
       "    </tr>\n",
       "  </tbody>\n",
       "</table>\n",
       "</div>"
      ],
      "text/plain": [
       "                        question    scores  \\\n",
       "0  What is multi-head attention?  0.800710   \n",
       "1  What is multi-head attention?  0.784158   \n",
       "2  What is multi-head attention?  0.772050   \n",
       "3  What is multi-head attention?  0.758912   \n",
       "4  What is multi-head attention?  0.740496   \n",
       "5  What is multi-head attention?  0.738943   \n",
       "6  What is multi-head attention?  0.738749   \n",
       "\n",
       "                                        paper  \\\n",
       "0  attention is all you need 1706.03762v7.pdf   \n",
       "1  attention is all you need 1706.03762v7.pdf   \n",
       "2  attention is all you need 1706.03762v7.pdf   \n",
       "3  attention is all you need 1706.03762v7.pdf   \n",
       "4  attention is all you need 1706.03762v7.pdf   \n",
       "5  attention is all you need 1706.03762v7.pdf   \n",
       "6  attention is all you need 1706.03762v7.pdf   \n",
       "\n",
       "                                                                                                                                                                                                                                                                                                                                                                               text  \n",
       "0                                             Scaled Dot-Product Attention\\n Multi-Head Attention\\nFigure 2: (left) Scaled Dot-Product Attention. (right) Multi-Head Attention consists of several\\nattention layers running in parallel.\\nof the values, where the weight assigned to each value is computed by a compatibility function of the\\nquery with the corresponding key.  \n",
       "1  3.2.3 Applications of Attention in our Model\\nThe Transformer uses multi-head attention in three different ways:\\n• In \"encoder-decoder attention\" layers, the queries come from the previous decoder layer,\\nand the memory keys and values come from the output of the encoder. This allows every\\nposition in the decoder to attend over all positions in the input sequence.  \n",
       "2                                                          output values. These are concatenated and once again projected, resulting in the final values, as\\ndepicted in Figure 2.\\nMulti-head attention allows the model to jointly attend to information from different representation\\nsubspaces at different positions. With a single attention head, averaging inhibits this.  \n",
       "3                                                                                    With a single attention head, averaging inhibits this.\\nMultiHead(Q, K, V) = Concat(head1, ...,headh)WO\\nwhere headi = Attention(QWQ\\ni , KWK\\ni , V WV\\ni )\\nWhere the projections are parameter matricesWQ\\ni ∈ Rdmodel×dk , WK\\ni ∈ Rdmodel×dk , WV\\ni ∈ Rdmodel×dv\\nand WO ∈ Rhdv×dmodel .  \n",
       "4                                                                                              Each layer has two\\nsub-layers. The first is a multi-head self-attention mechanism, and the second is a simple, position-\\nwise fully connected feed-forward network. We employ a residual connection [11] around each of\\nthe two sub-layers, followed by layer normalization [ 1].  \n",
       "5          To counteract this effect, we scale the dot products by 1√dk\\n.\\n3.2.2 Multi-Head Attention\\nInstead of performing a single attention function with dmodel-dimensional keys, values and queries,\\nwe found it beneficial to linearly project the queries, keys and values h times with different, learned\\nlinear projections to dk, dk and dv dimensions, respectively.  \n",
       "6                                                                                                               In this work we employ h = 8 parallel attention layers, or heads. For each of these we use\\ndk = dv = dmodel/h = 64. Due to the reduced dimension of each head, the total computational cost\\nis similar to that of single-head attention with full dimensionality.  "
      ]
     },
     "execution_count": 182,
     "metadata": {},
     "output_type": "execute_result"
    }
   ],
   "source": [
    "output_df[query]"
   ]
  },
  {
   "cell_type": "markdown",
   "id": "e9bce1b1-2a1a-4f39-89fe-cbf6d3156da0",
   "metadata": {},
   "source": [
    "<b>4.3 Who let Transformer out?</b>"
   ]
  },
  {
   "cell_type": "code",
   "execution_count": 188,
   "id": "2263b187-6cda-417f-ad26-49a7fa71fa5a",
   "metadata": {},
   "outputs": [],
   "source": [
    "# query documents\n",
    "query = \"What is Transformer?\"\n",
    "response = query_engine.query(query)"
   ]
  },
  {
   "cell_type": "code",
   "execution_count": 189,
   "id": "45782111-c557-4941-8a31-fd2a4590d5f4",
   "metadata": {},
   "outputs": [],
   "source": [
    "# reformat response\n",
    "cols = ['question','scores','paper','text']\n",
    "df_dict = {col:[] for col in cols}\n",
    "\n",
    "for i in range(top_k):\n",
    "    #context += f'>>> chunk {i+1} ' + str(response.source_nodes[i].score) + '\\n\\n' + response.source_nodes[i].text + \"\\n\\n\"\n",
    "    #context += 'From: '+response.__dict__['source_nodes'][i].node.__dict__['metadata']['file_name'] + '\\n\\n'\n",
    "    df_dict['scores'].append(response.source_nodes[i].score)\n",
    "    df_dict['paper'].append(response.__dict__['source_nodes'][i].node.__dict__['metadata']['file_name'])\n",
    "    df_dict['text'].append(response.source_nodes[i].text)\n",
    "\n",
    "df_dict['question'] = [query]*len(df_dict['scores'])\n",
    "output_df[query] = pd.DataFrame(df_dict)"
   ]
  },
  {
   "cell_type": "code",
   "execution_count": 190,
   "id": "7783af40-4677-4123-9f18-d7026e9fe697",
   "metadata": {},
   "outputs": [
    {
     "data": {
      "text/html": [
       "<div>\n",
       "<style scoped>\n",
       "    .dataframe tbody tr th:only-of-type {\n",
       "        vertical-align: middle;\n",
       "    }\n",
       "\n",
       "    .dataframe tbody tr th {\n",
       "        vertical-align: top;\n",
       "    }\n",
       "\n",
       "    .dataframe thead th {\n",
       "        text-align: right;\n",
       "    }\n",
       "</style>\n",
       "<table border=\"1\" class=\"dataframe\">\n",
       "  <thead>\n",
       "    <tr style=\"text-align: right;\">\n",
       "      <th></th>\n",
       "      <th>question</th>\n",
       "      <th>scores</th>\n",
       "      <th>paper</th>\n",
       "      <th>text</th>\n",
       "    </tr>\n",
       "  </thead>\n",
       "  <tbody>\n",
       "    <tr>\n",
       "      <th>0</th>\n",
       "      <td>What is Transformer?</td>\n",
       "      <td>0.696613</td>\n",
       "      <td>attention is all you need 1706.03762v7.pdf</td>\n",
       "      <td>6.2 Model Variations\\nTo evaluate the importance of different components of the Transformer, we varied our base model\\nin different ways, measuring the change in performance on English-to-German translation on the\\n5We used values of 2.8, 3.7, 6.0 and 9.5 TFLOPS for K80, K40, M40 and P100, respectively.\\n8</td>\n",
       "    </tr>\n",
       "    <tr>\n",
       "      <th>1</th>\n",
       "      <td>What is Transformer?</td>\n",
       "      <td>0.695771</td>\n",
       "      <td>attention is all you need 1706.03762v7.pdf</td>\n",
       "      <td>The Transformer allows for significantly more parallelization and can reach a new state of the art in\\ntranslation quality after being trained for as little as twelve hours on eight P100 GPUs.</td>\n",
       "    </tr>\n",
       "    <tr>\n",
       "      <th>2</th>\n",
       "      <td>What is Transformer?</td>\n",
       "      <td>0.679655</td>\n",
       "      <td>attention is all you need 1706.03762v7.pdf</td>\n",
       "      <td>Figure 1: The Transformer - model architecture.\\nThe Transformer follows this overall architecture using stacked self-attention and point-wise, fully\\nconnected layers for both the encoder and decoder, shown in the left and right halves of Figure 1,\\nrespectively.\\n3.1 Encoder and Decoder Stacks\\nEncoder: The encoder is composed of a stack of N = 6 identical layers. Each layer has two\\nsub-layers.</td>\n",
       "    </tr>\n",
       "    <tr>\n",
       "      <th>3</th>\n",
       "      <td>What is Transformer?</td>\n",
       "      <td>0.674317</td>\n",
       "      <td>attention is all you need 1706.03762v7.pdf</td>\n",
       "      <td>End-to-end memory networks are based on a recurrent attention mechanism instead of sequence-\\naligned recurrence and have been shown to perform well on simple-language question answering and\\nlanguage modeling tasks [34].\\nTo the best of our knowledge, however, the Transformer is the first transduction model relying\\nentirely on self-attention to compute representations of its input and output without using sequence-\\naligned RNNs or convolution.</td>\n",
       "    </tr>\n",
       "    <tr>\n",
       "      <th>4</th>\n",
       "      <td>What is Transformer?</td>\n",
       "      <td>0.668299</td>\n",
       "      <td>BERT pre_training of deep bidirectional transformers for language understanding 1810.04805v2.pdf</td>\n",
       "      <td>For example, the largest Transformer explored in\\nVaswani et al. (2017) is (L=6, H=1024, A=16)\\nwith 100M parameters for the encoder, and the\\nlargest Transformer we have found in the literature\\nis (L=64, H=512, A=2) with 235M parameters\\n(Al-Rfou et al., 2018).</td>\n",
       "    </tr>\n",
       "    <tr>\n",
       "      <th>5</th>\n",
       "      <td>What is Transformer?</td>\n",
       "      <td>0.662332</td>\n",
       "      <td>attention is all you need 1706.03762v7.pdf</td>\n",
       "      <td>7 Conclusion\\nIn this work, we presented the Transformer, the first sequence transduction model based entirely on\\nattention, replacing the recurrent layers most commonly used in encoder-decoder architectures with\\nmulti-headed self-attention.\\nFor translation tasks, the Transformer can be trained significantly faster than architectures based\\non recurrent or convolutional layers.</td>\n",
       "    </tr>\n",
       "    <tr>\n",
       "      <th>6</th>\n",
       "      <td>What is Transformer?</td>\n",
       "      <td>0.657973</td>\n",
       "      <td>BERT pre_training of deep bidirectional transformers for language understanding 1810.04805v2.pdf</td>\n",
       "      <td>former is often referred to as a “Transformer encoder” while\\nthe left-context-only version is referred to as a “Transformer\\ndecoder” since it can be used for text generation.\\nIn order to train a deep bidirectional representa-\\ntion, we simply mask some percentage of the input\\ntokens at random, and then predict those masked\\ntokens.</td>\n",
       "    </tr>\n",
       "  </tbody>\n",
       "</table>\n",
       "</div>"
      ],
      "text/plain": [
       "               question    scores  \\\n",
       "0  What is Transformer?  0.696613   \n",
       "1  What is Transformer?  0.695771   \n",
       "2  What is Transformer?  0.679655   \n",
       "3  What is Transformer?  0.674317   \n",
       "4  What is Transformer?  0.668299   \n",
       "5  What is Transformer?  0.662332   \n",
       "6  What is Transformer?  0.657973   \n",
       "\n",
       "                                                                                              paper  \\\n",
       "0                                                        attention is all you need 1706.03762v7.pdf   \n",
       "1                                                        attention is all you need 1706.03762v7.pdf   \n",
       "2                                                        attention is all you need 1706.03762v7.pdf   \n",
       "3                                                        attention is all you need 1706.03762v7.pdf   \n",
       "4  BERT pre_training of deep bidirectional transformers for language understanding 1810.04805v2.pdf   \n",
       "5                                                        attention is all you need 1706.03762v7.pdf   \n",
       "6  BERT pre_training of deep bidirectional transformers for language understanding 1810.04805v2.pdf   \n",
       "\n",
       "                                                                                                                                                                                                                                                                                                                                                                                                                                                                 text  \n",
       "0                                                                                                                                                 6.2 Model Variations\\nTo evaluate the importance of different components of the Transformer, we varied our base model\\nin different ways, measuring the change in performance on English-to-German translation on the\\n5We used values of 2.8, 3.7, 6.0 and 9.5 TFLOPS for K80, K40, M40 and P100, respectively.\\n8  \n",
       "1                                                                                                                                                                                                                                                                    The Transformer allows for significantly more parallelization and can reach a new state of the art in\\ntranslation quality after being trained for as little as twelve hours on eight P100 GPUs.  \n",
       "2                                                    Figure 1: The Transformer - model architecture.\\nThe Transformer follows this overall architecture using stacked self-attention and point-wise, fully\\nconnected layers for both the encoder and decoder, shown in the left and right halves of Figure 1,\\nrespectively.\\n3.1 Encoder and Decoder Stacks\\nEncoder: The encoder is composed of a stack of N = 6 identical layers. Each layer has two\\nsub-layers.  \n",
       "3  End-to-end memory networks are based on a recurrent attention mechanism instead of sequence-\\naligned recurrence and have been shown to perform well on simple-language question answering and\\nlanguage modeling tasks [34].\\nTo the best of our knowledge, however, the Transformer is the first transduction model relying\\nentirely on self-attention to compute representations of its input and output without using sequence-\\naligned RNNs or convolution.  \n",
       "4                                                                                                                                                                                             For example, the largest Transformer explored in\\nVaswani et al. (2017) is (L=6, H=1024, A=16)\\nwith 100M parameters for the encoder, and the\\nlargest Transformer we have found in the literature\\nis (L=64, H=512, A=2) with 235M parameters\\n(Al-Rfou et al., 2018).  \n",
       "5                                                                     7 Conclusion\\nIn this work, we presented the Transformer, the first sequence transduction model based entirely on\\nattention, replacing the recurrent layers most commonly used in encoder-decoder architectures with\\nmulti-headed self-attention.\\nFor translation tasks, the Transformer can be trained significantly faster than architectures based\\non recurrent or convolutional layers.  \n",
       "6                                                                                                                   former is often referred to as a “Transformer encoder” while\\nthe left-context-only version is referred to as a “Transformer\\ndecoder” since it can be used for text generation.\\nIn order to train a deep bidirectional representa-\\ntion, we simply mask some percentage of the input\\ntokens at random, and then predict those masked\\ntokens.  "
      ]
     },
     "execution_count": 190,
     "metadata": {},
     "output_type": "execute_result"
    }
   ],
   "source": [
    "output_df[query]"
   ]
  },
  {
   "cell_type": "code",
   "execution_count": 191,
   "id": "dda91111-0a42-47a6-afcb-966564fa81aa",
   "metadata": {},
   "outputs": [
    {
     "data": {
      "text/html": [
       "<div>\n",
       "<style scoped>\n",
       "    .dataframe tbody tr th:only-of-type {\n",
       "        vertical-align: middle;\n",
       "    }\n",
       "\n",
       "    .dataframe tbody tr th {\n",
       "        vertical-align: top;\n",
       "    }\n",
       "\n",
       "    .dataframe thead th {\n",
       "        text-align: right;\n",
       "    }\n",
       "</style>\n",
       "<table border=\"1\" class=\"dataframe\">\n",
       "  <thead>\n",
       "    <tr style=\"text-align: right;\">\n",
       "      <th></th>\n",
       "      <th>question</th>\n",
       "      <th>scores</th>\n",
       "      <th>paper</th>\n",
       "      <th>text</th>\n",
       "    </tr>\n",
       "  </thead>\n",
       "  <tbody>\n",
       "    <tr>\n",
       "      <th>0</th>\n",
       "      <td>What is BERT?</td>\n",
       "      <td>0.811123</td>\n",
       "      <td>BERT pre_training of deep bidirectional transformers for language understanding 1810.04805v2.pdf</td>\n",
       "      <td>BERT is the ﬁrst ﬁne-\\ntuning based representation model that achieves\\nstate-of-the-art performance on a large suite\\nof sentence-level and token-level tasks, outper-\\nforming many task-speciﬁc architectures.\\n• BERT advances the state of the art for eleven\\nNLP tasks.</td>\n",
       "    </tr>\n",
       "    <tr>\n",
       "      <th>1</th>\n",
       "      <td>What is BERT?</td>\n",
       "      <td>0.751915</td>\n",
       "      <td>BERT pre_training of deep bidirectional transformers for language understanding 1810.04805v2.pdf</td>\n",
       "      <td>BERT is conceptually simple and empirically\\npowerful. It obtains new state-of-the-art re-\\nsults on eleven natural language processing\\ntasks, including pushing the GLUE score to\\n80.5% (7.7% point absolute improvement),\\nMultiNLI accuracy to 86.7% (4.6% absolute\\nimprovement), SQuAD v1.</td>\n",
       "    </tr>\n",
       "    <tr>\n",
       "      <th>2</th>\n",
       "      <td>What is BERT?</td>\n",
       "      <td>0.751781</td>\n",
       "      <td>BERT pre_training of deep bidirectional transformers for language understanding 1810.04805v2.pdf</td>\n",
       "      <td>BERT BERT\\nE[CLS] E1  E[SEP]. EN E1’ . EM’\\nC\\n T1\\n T[SEP].\\n TN\\n T1’ .\\n TM’\\n[CLS] Tok 1  [SEP]. Tok N Tok 1 . TokM\\nQuestion Paragraph\\nStart/End Span\\nBERT\\nE[CLS] E1  E[SEP].</td>\n",
       "    </tr>\n",
       "    <tr>\n",
       "      <th>3</th>\n",
       "      <td>What is BERT?</td>\n",
       "      <td>0.740903</td>\n",
       "      <td>BERT pre_training of deep bidirectional transformers for language understanding 1810.04805v2.pdf</td>\n",
       "      <td>TokM\\nQuestion Paragraph\\nStart/End Span\\nBERT\\nE[CLS] E1  E[SEP]. EN E1’ . EM’\\nC\\n T1\\n T[SEP].\\n TN\\n T1’ .\\n TM’\\n[CLS] Tok 1  [SEP]. Tok N Tok 1 .</td>\n",
       "    </tr>\n",
       "    <tr>\n",
       "      <th>4</th>\n",
       "      <td>What is BERT?</td>\n",
       "      <td>0.738021</td>\n",
       "      <td>BERT pre_training of deep bidirectional transformers for language understanding 1810.04805v2.pdf</td>\n",
       "      <td>Input/Output Representations To make BERT\\nhandle a variety of down-stream tasks, our input\\nrepresentation is able to unambiguously represent\\nboth a single sentence and a pair of sentences\\n(e.g., ⟨Question, Answer ⟩) in one token sequence.</td>\n",
       "    </tr>\n",
       "    <tr>\n",
       "      <th>5</th>\n",
       "      <td>What is BERT?</td>\n",
       "      <td>0.733836</td>\n",
       "      <td>BERT pre_training of deep bidirectional transformers for language understanding 1810.04805v2.pdf</td>\n",
       "      <td>Each downstream task has sep-\\narate ﬁne-tuned models, even though they are ini-\\ntialized with the same pre-trained parameters. The\\nquestion-answering example in Figure 1 will serve\\nas a running example for this section.\\nA distinctive feature of BERT is its uniﬁed ar-\\nchitecture across different tasks.</td>\n",
       "    </tr>\n",
       "    <tr>\n",
       "      <th>6</th>\n",
       "      <td>What is BERT?</td>\n",
       "      <td>0.731738</td>\n",
       "      <td>BERT pre_training of deep bidirectional transformers for language understanding 1810.04805v2.pdf</td>\n",
       "      <td>BERT\\nE[CLS] E1  E[SEP]. EN E1’ . EM’\\nC\\n T1\\n T[SEP].\\n TN\\n T1’ .\\n TM’\\n[CLS] Tok \\n1\\n [SEP]. Tok \\nN\\nTok \\n1 .</td>\n",
       "    </tr>\n",
       "    <tr>\n",
       "      <th>0</th>\n",
       "      <td>What is multi-head attention?</td>\n",
       "      <td>0.800710</td>\n",
       "      <td>attention is all you need 1706.03762v7.pdf</td>\n",
       "      <td>Scaled Dot-Product Attention\\n Multi-Head Attention\\nFigure 2: (left) Scaled Dot-Product Attention. (right) Multi-Head Attention consists of several\\nattention layers running in parallel.\\nof the values, where the weight assigned to each value is computed by a compatibility function of the\\nquery with the corresponding key.</td>\n",
       "    </tr>\n",
       "    <tr>\n",
       "      <th>1</th>\n",
       "      <td>What is multi-head attention?</td>\n",
       "      <td>0.784158</td>\n",
       "      <td>attention is all you need 1706.03762v7.pdf</td>\n",
       "      <td>3.2.3 Applications of Attention in our Model\\nThe Transformer uses multi-head attention in three different ways:\\n• In \"encoder-decoder attention\" layers, the queries come from the previous decoder layer,\\nand the memory keys and values come from the output of the encoder. This allows every\\nposition in the decoder to attend over all positions in the input sequence.</td>\n",
       "    </tr>\n",
       "    <tr>\n",
       "      <th>2</th>\n",
       "      <td>What is multi-head attention?</td>\n",
       "      <td>0.772050</td>\n",
       "      <td>attention is all you need 1706.03762v7.pdf</td>\n",
       "      <td>output values. These are concatenated and once again projected, resulting in the final values, as\\ndepicted in Figure 2.\\nMulti-head attention allows the model to jointly attend to information from different representation\\nsubspaces at different positions. With a single attention head, averaging inhibits this.</td>\n",
       "    </tr>\n",
       "    <tr>\n",
       "      <th>3</th>\n",
       "      <td>What is multi-head attention?</td>\n",
       "      <td>0.758912</td>\n",
       "      <td>attention is all you need 1706.03762v7.pdf</td>\n",
       "      <td>With a single attention head, averaging inhibits this.\\nMultiHead(Q, K, V) = Concat(head1, ...,headh)WO\\nwhere headi = Attention(QWQ\\ni , KWK\\ni , V WV\\ni )\\nWhere the projections are parameter matricesWQ\\ni ∈ Rdmodel×dk , WK\\ni ∈ Rdmodel×dk , WV\\ni ∈ Rdmodel×dv\\nand WO ∈ Rhdv×dmodel .</td>\n",
       "    </tr>\n",
       "    <tr>\n",
       "      <th>4</th>\n",
       "      <td>What is multi-head attention?</td>\n",
       "      <td>0.740496</td>\n",
       "      <td>attention is all you need 1706.03762v7.pdf</td>\n",
       "      <td>Each layer has two\\nsub-layers. The first is a multi-head self-attention mechanism, and the second is a simple, position-\\nwise fully connected feed-forward network. We employ a residual connection [11] around each of\\nthe two sub-layers, followed by layer normalization [ 1].</td>\n",
       "    </tr>\n",
       "    <tr>\n",
       "      <th>5</th>\n",
       "      <td>What is multi-head attention?</td>\n",
       "      <td>0.738943</td>\n",
       "      <td>attention is all you need 1706.03762v7.pdf</td>\n",
       "      <td>To counteract this effect, we scale the dot products by 1√dk\\n.\\n3.2.2 Multi-Head Attention\\nInstead of performing a single attention function with dmodel-dimensional keys, values and queries,\\nwe found it beneficial to linearly project the queries, keys and values h times with different, learned\\nlinear projections to dk, dk and dv dimensions, respectively.</td>\n",
       "    </tr>\n",
       "    <tr>\n",
       "      <th>6</th>\n",
       "      <td>What is multi-head attention?</td>\n",
       "      <td>0.738749</td>\n",
       "      <td>attention is all you need 1706.03762v7.pdf</td>\n",
       "      <td>In this work we employ h = 8 parallel attention layers, or heads. For each of these we use\\ndk = dv = dmodel/h = 64. Due to the reduced dimension of each head, the total computational cost\\nis similar to that of single-head attention with full dimensionality.</td>\n",
       "    </tr>\n",
       "    <tr>\n",
       "      <th>0</th>\n",
       "      <td>What is Transformer?</td>\n",
       "      <td>0.696613</td>\n",
       "      <td>attention is all you need 1706.03762v7.pdf</td>\n",
       "      <td>6.2 Model Variations\\nTo evaluate the importance of different components of the Transformer, we varied our base model\\nin different ways, measuring the change in performance on English-to-German translation on the\\n5We used values of 2.8, 3.7, 6.0 and 9.5 TFLOPS for K80, K40, M40 and P100, respectively.\\n8</td>\n",
       "    </tr>\n",
       "    <tr>\n",
       "      <th>1</th>\n",
       "      <td>What is Transformer?</td>\n",
       "      <td>0.695771</td>\n",
       "      <td>attention is all you need 1706.03762v7.pdf</td>\n",
       "      <td>The Transformer allows for significantly more parallelization and can reach a new state of the art in\\ntranslation quality after being trained for as little as twelve hours on eight P100 GPUs.</td>\n",
       "    </tr>\n",
       "    <tr>\n",
       "      <th>2</th>\n",
       "      <td>What is Transformer?</td>\n",
       "      <td>0.679655</td>\n",
       "      <td>attention is all you need 1706.03762v7.pdf</td>\n",
       "      <td>Figure 1: The Transformer - model architecture.\\nThe Transformer follows this overall architecture using stacked self-attention and point-wise, fully\\nconnected layers for both the encoder and decoder, shown in the left and right halves of Figure 1,\\nrespectively.\\n3.1 Encoder and Decoder Stacks\\nEncoder: The encoder is composed of a stack of N = 6 identical layers. Each layer has two\\nsub-layers.</td>\n",
       "    </tr>\n",
       "    <tr>\n",
       "      <th>3</th>\n",
       "      <td>What is Transformer?</td>\n",
       "      <td>0.674317</td>\n",
       "      <td>attention is all you need 1706.03762v7.pdf</td>\n",
       "      <td>End-to-end memory networks are based on a recurrent attention mechanism instead of sequence-\\naligned recurrence and have been shown to perform well on simple-language question answering and\\nlanguage modeling tasks [34].\\nTo the best of our knowledge, however, the Transformer is the first transduction model relying\\nentirely on self-attention to compute representations of its input and output without using sequence-\\naligned RNNs or convolution.</td>\n",
       "    </tr>\n",
       "    <tr>\n",
       "      <th>4</th>\n",
       "      <td>What is Transformer?</td>\n",
       "      <td>0.668299</td>\n",
       "      <td>BERT pre_training of deep bidirectional transformers for language understanding 1810.04805v2.pdf</td>\n",
       "      <td>For example, the largest Transformer explored in\\nVaswani et al. (2017) is (L=6, H=1024, A=16)\\nwith 100M parameters for the encoder, and the\\nlargest Transformer we have found in the literature\\nis (L=64, H=512, A=2) with 235M parameters\\n(Al-Rfou et al., 2018).</td>\n",
       "    </tr>\n",
       "    <tr>\n",
       "      <th>5</th>\n",
       "      <td>What is Transformer?</td>\n",
       "      <td>0.662332</td>\n",
       "      <td>attention is all you need 1706.03762v7.pdf</td>\n",
       "      <td>7 Conclusion\\nIn this work, we presented the Transformer, the first sequence transduction model based entirely on\\nattention, replacing the recurrent layers most commonly used in encoder-decoder architectures with\\nmulti-headed self-attention.\\nFor translation tasks, the Transformer can be trained significantly faster than architectures based\\non recurrent or convolutional layers.</td>\n",
       "    </tr>\n",
       "    <tr>\n",
       "      <th>6</th>\n",
       "      <td>What is Transformer?</td>\n",
       "      <td>0.657973</td>\n",
       "      <td>BERT pre_training of deep bidirectional transformers for language understanding 1810.04805v2.pdf</td>\n",
       "      <td>former is often referred to as a “Transformer encoder” while\\nthe left-context-only version is referred to as a “Transformer\\ndecoder” since it can be used for text generation.\\nIn order to train a deep bidirectional representa-\\ntion, we simply mask some percentage of the input\\ntokens at random, and then predict those masked\\ntokens.</td>\n",
       "    </tr>\n",
       "  </tbody>\n",
       "</table>\n",
       "</div>"
      ],
      "text/plain": [
       "                        question    scores  \\\n",
       "0                  What is BERT?  0.811123   \n",
       "1                  What is BERT?  0.751915   \n",
       "2                  What is BERT?  0.751781   \n",
       "3                  What is BERT?  0.740903   \n",
       "4                  What is BERT?  0.738021   \n",
       "5                  What is BERT?  0.733836   \n",
       "6                  What is BERT?  0.731738   \n",
       "0  What is multi-head attention?  0.800710   \n",
       "1  What is multi-head attention?  0.784158   \n",
       "2  What is multi-head attention?  0.772050   \n",
       "3  What is multi-head attention?  0.758912   \n",
       "4  What is multi-head attention?  0.740496   \n",
       "5  What is multi-head attention?  0.738943   \n",
       "6  What is multi-head attention?  0.738749   \n",
       "0           What is Transformer?  0.696613   \n",
       "1           What is Transformer?  0.695771   \n",
       "2           What is Transformer?  0.679655   \n",
       "3           What is Transformer?  0.674317   \n",
       "4           What is Transformer?  0.668299   \n",
       "5           What is Transformer?  0.662332   \n",
       "6           What is Transformer?  0.657973   \n",
       "\n",
       "                                                                                              paper  \\\n",
       "0  BERT pre_training of deep bidirectional transformers for language understanding 1810.04805v2.pdf   \n",
       "1  BERT pre_training of deep bidirectional transformers for language understanding 1810.04805v2.pdf   \n",
       "2  BERT pre_training of deep bidirectional transformers for language understanding 1810.04805v2.pdf   \n",
       "3  BERT pre_training of deep bidirectional transformers for language understanding 1810.04805v2.pdf   \n",
       "4  BERT pre_training of deep bidirectional transformers for language understanding 1810.04805v2.pdf   \n",
       "5  BERT pre_training of deep bidirectional transformers for language understanding 1810.04805v2.pdf   \n",
       "6  BERT pre_training of deep bidirectional transformers for language understanding 1810.04805v2.pdf   \n",
       "0                                                        attention is all you need 1706.03762v7.pdf   \n",
       "1                                                        attention is all you need 1706.03762v7.pdf   \n",
       "2                                                        attention is all you need 1706.03762v7.pdf   \n",
       "3                                                        attention is all you need 1706.03762v7.pdf   \n",
       "4                                                        attention is all you need 1706.03762v7.pdf   \n",
       "5                                                        attention is all you need 1706.03762v7.pdf   \n",
       "6                                                        attention is all you need 1706.03762v7.pdf   \n",
       "0                                                        attention is all you need 1706.03762v7.pdf   \n",
       "1                                                        attention is all you need 1706.03762v7.pdf   \n",
       "2                                                        attention is all you need 1706.03762v7.pdf   \n",
       "3                                                        attention is all you need 1706.03762v7.pdf   \n",
       "4  BERT pre_training of deep bidirectional transformers for language understanding 1810.04805v2.pdf   \n",
       "5                                                        attention is all you need 1706.03762v7.pdf   \n",
       "6  BERT pre_training of deep bidirectional transformers for language understanding 1810.04805v2.pdf   \n",
       "\n",
       "                                                                                                                                                                                                                                                                                                                                                                                                                                                                 text  \n",
       "0                                                                                                                                                                                      BERT is the ﬁrst ﬁne-\\ntuning based representation model that achieves\\nstate-of-the-art performance on a large suite\\nof sentence-level and token-level tasks, outper-\\nforming many task-speciﬁc architectures.\\n• BERT advances the state of the art for eleven\\nNLP tasks.  \n",
       "1                                                                                                                                                                   BERT is conceptually simple and empirically\\npowerful. It obtains new state-of-the-art re-\\nsults on eleven natural language processing\\ntasks, including pushing the GLUE score to\\n80.5% (7.7% point absolute improvement),\\nMultiNLI accuracy to 86.7% (4.6% absolute\\nimprovement), SQuAD v1.  \n",
       "2                                                                                                                                                                                                                                                                               BERT BERT\\nE[CLS] E1  E[SEP]. EN E1’ . EM’\\nC\\n T1\\n T[SEP].\\n TN\\n T1’ .\\n TM’\\n[CLS] Tok 1  [SEP]. Tok N Tok 1 . TokM\\nQuestion Paragraph\\nStart/End Span\\nBERT\\nE[CLS] E1  E[SEP].  \n",
       "3                                                                                                                                                                                                                                                                                                             TokM\\nQuestion Paragraph\\nStart/End Span\\nBERT\\nE[CLS] E1  E[SEP]. EN E1’ . EM’\\nC\\n T1\\n T[SEP].\\n TN\\n T1’ .\\n TM’\\n[CLS] Tok 1  [SEP]. Tok N Tok 1 .  \n",
       "4                                                                                                                                                                                                                  Input/Output Representations To make BERT\\nhandle a variety of down-stream tasks, our input\\nrepresentation is able to unambiguously represent\\nboth a single sentence and a pair of sentences\\n(e.g., ⟨Question, Answer ⟩) in one token sequence.  \n",
       "5                                                                                                                                                Each downstream task has sep-\\narate ﬁne-tuned models, even though they are ini-\\ntialized with the same pre-trained parameters. The\\nquestion-answering example in Figure 1 will serve\\nas a running example for this section.\\nA distinctive feature of BERT is its uniﬁed ar-\\nchitecture across different tasks.  \n",
       "6                                                                                                                                                                                                                                                                                                                                               BERT\\nE[CLS] E1  E[SEP]. EN E1’ . EM’\\nC\\n T1\\n T[SEP].\\n TN\\n T1’ .\\n TM’\\n[CLS] Tok \\n1\\n [SEP]. Tok \\nN\\nTok \\n1 .  \n",
       "0                                                                                                                               Scaled Dot-Product Attention\\n Multi-Head Attention\\nFigure 2: (left) Scaled Dot-Product Attention. (right) Multi-Head Attention consists of several\\nattention layers running in parallel.\\nof the values, where the weight assigned to each value is computed by a compatibility function of the\\nquery with the corresponding key.  \n",
       "1                                                                                    3.2.3 Applications of Attention in our Model\\nThe Transformer uses multi-head attention in three different ways:\\n• In \"encoder-decoder attention\" layers, the queries come from the previous decoder layer,\\nand the memory keys and values come from the output of the encoder. This allows every\\nposition in the decoder to attend over all positions in the input sequence.  \n",
       "2                                                                                                                                            output values. These are concatenated and once again projected, resulting in the final values, as\\ndepicted in Figure 2.\\nMulti-head attention allows the model to jointly attend to information from different representation\\nsubspaces at different positions. With a single attention head, averaging inhibits this.  \n",
       "3                                                                                                                                                                      With a single attention head, averaging inhibits this.\\nMultiHead(Q, K, V) = Concat(head1, ...,headh)WO\\nwhere headi = Attention(QWQ\\ni , KWK\\ni , V WV\\ni )\\nWhere the projections are parameter matricesWQ\\ni ∈ Rdmodel×dk , WK\\ni ∈ Rdmodel×dk , WV\\ni ∈ Rdmodel×dv\\nand WO ∈ Rhdv×dmodel .  \n",
       "4                                                                                                                                                                                Each layer has two\\nsub-layers. The first is a multi-head self-attention mechanism, and the second is a simple, position-\\nwise fully connected feed-forward network. We employ a residual connection [11] around each of\\nthe two sub-layers, followed by layer normalization [ 1].  \n",
       "5                                                                                            To counteract this effect, we scale the dot products by 1√dk\\n.\\n3.2.2 Multi-Head Attention\\nInstead of performing a single attention function with dmodel-dimensional keys, values and queries,\\nwe found it beneficial to linearly project the queries, keys and values h times with different, learned\\nlinear projections to dk, dk and dv dimensions, respectively.  \n",
       "6                                                                                                                                                                                                 In this work we employ h = 8 parallel attention layers, or heads. For each of these we use\\ndk = dv = dmodel/h = 64. Due to the reduced dimension of each head, the total computational cost\\nis similar to that of single-head attention with full dimensionality.  \n",
       "0                                                                                                                                                 6.2 Model Variations\\nTo evaluate the importance of different components of the Transformer, we varied our base model\\nin different ways, measuring the change in performance on English-to-German translation on the\\n5We used values of 2.8, 3.7, 6.0 and 9.5 TFLOPS for K80, K40, M40 and P100, respectively.\\n8  \n",
       "1                                                                                                                                                                                                                                                                    The Transformer allows for significantly more parallelization and can reach a new state of the art in\\ntranslation quality after being trained for as little as twelve hours on eight P100 GPUs.  \n",
       "2                                                    Figure 1: The Transformer - model architecture.\\nThe Transformer follows this overall architecture using stacked self-attention and point-wise, fully\\nconnected layers for both the encoder and decoder, shown in the left and right halves of Figure 1,\\nrespectively.\\n3.1 Encoder and Decoder Stacks\\nEncoder: The encoder is composed of a stack of N = 6 identical layers. Each layer has two\\nsub-layers.  \n",
       "3  End-to-end memory networks are based on a recurrent attention mechanism instead of sequence-\\naligned recurrence and have been shown to perform well on simple-language question answering and\\nlanguage modeling tasks [34].\\nTo the best of our knowledge, however, the Transformer is the first transduction model relying\\nentirely on self-attention to compute representations of its input and output without using sequence-\\naligned RNNs or convolution.  \n",
       "4                                                                                                                                                                                             For example, the largest Transformer explored in\\nVaswani et al. (2017) is (L=6, H=1024, A=16)\\nwith 100M parameters for the encoder, and the\\nlargest Transformer we have found in the literature\\nis (L=64, H=512, A=2) with 235M parameters\\n(Al-Rfou et al., 2018).  \n",
       "5                                                                     7 Conclusion\\nIn this work, we presented the Transformer, the first sequence transduction model based entirely on\\nattention, replacing the recurrent layers most commonly used in encoder-decoder architectures with\\nmulti-headed self-attention.\\nFor translation tasks, the Transformer can be trained significantly faster than architectures based\\non recurrent or convolutional layers.  \n",
       "6                                                                                                                   former is often referred to as a “Transformer encoder” while\\nthe left-context-only version is referred to as a “Transformer\\ndecoder” since it can be used for text generation.\\nIn order to train a deep bidirectional representa-\\ntion, we simply mask some percentage of the input\\ntokens at random, and then predict those masked\\ntokens.  "
      ]
     },
     "execution_count": 191,
     "metadata": {},
     "output_type": "execute_result"
    }
   ],
   "source": [
    "merged_dfs = pd.concat([output_df[key] for key in output_df])\n",
    "merged_dfs"
   ]
  },
  {
   "cell_type": "code",
   "execution_count": 192,
   "id": "4ee12b58-e26e-49dc-ba14-c6be147f5553",
   "metadata": {},
   "outputs": [
    {
     "name": "stdout",
     "output_type": "stream",
     "text": [
      "['scores', 'text']\n"
     ]
    }
   ],
   "source": [
    "merged_dfs = merged_dfs.reset_index()\n",
    "cols = ['scores','text']\n",
    "print(cols)\n",
    "#cols.remove('index')\n",
    "merged_dfs = merged_dfs.groupby(['question','paper'])[cols].apply(lambda x: x)"
   ]
  },
  {
   "cell_type": "code",
   "execution_count": 193,
   "id": "d71edef6-f216-4754-b313-7c328188e7f0",
   "metadata": {},
   "outputs": [
    {
     "data": {
      "text/html": [
       "<div>\n",
       "<style scoped>\n",
       "    .dataframe tbody tr th:only-of-type {\n",
       "        vertical-align: middle;\n",
       "    }\n",
       "\n",
       "    .dataframe tbody tr th {\n",
       "        vertical-align: top;\n",
       "    }\n",
       "\n",
       "    .dataframe thead th {\n",
       "        text-align: right;\n",
       "    }\n",
       "</style>\n",
       "<table border=\"1\" class=\"dataframe\">\n",
       "  <thead>\n",
       "    <tr style=\"text-align: right;\">\n",
       "      <th></th>\n",
       "      <th></th>\n",
       "      <th></th>\n",
       "      <th>scores</th>\n",
       "      <th>text</th>\n",
       "    </tr>\n",
       "    <tr>\n",
       "      <th>question</th>\n",
       "      <th>paper</th>\n",
       "      <th></th>\n",
       "      <th></th>\n",
       "      <th></th>\n",
       "    </tr>\n",
       "  </thead>\n",
       "  <tbody>\n",
       "    <tr>\n",
       "      <th rowspan=\"7\" valign=\"top\">What is BERT?</th>\n",
       "      <th rowspan=\"7\" valign=\"top\">BERT pre_training of deep bidirectional transformers for language understanding 1810.04805v2.pdf</th>\n",
       "      <th>0</th>\n",
       "      <td>0.811123</td>\n",
       "      <td>BERT is the ﬁrst ﬁne-\\ntuning based representation model that achieves\\nstate-of-the-art performance on a large suite\\nof sentence-level and token-level tasks, outper-\\nforming many task-speciﬁc architectures.\\n• BERT advances the state of the art for eleven\\nNLP tasks.</td>\n",
       "    </tr>\n",
       "    <tr>\n",
       "      <th>1</th>\n",
       "      <td>0.751915</td>\n",
       "      <td>BERT is conceptually simple and empirically\\npowerful. It obtains new state-of-the-art re-\\nsults on eleven natural language processing\\ntasks, including pushing the GLUE score to\\n80.5% (7.7% point absolute improvement),\\nMultiNLI accuracy to 86.7% (4.6% absolute\\nimprovement), SQuAD v1.</td>\n",
       "    </tr>\n",
       "    <tr>\n",
       "      <th>2</th>\n",
       "      <td>0.751781</td>\n",
       "      <td>BERT BERT\\nE[CLS] E1  E[SEP]. EN E1’ . EM’\\nC\\n T1\\n T[SEP].\\n TN\\n T1’ .\\n TM’\\n[CLS] Tok 1  [SEP]. Tok N Tok 1 . TokM\\nQuestion Paragraph\\nStart/End Span\\nBERT\\nE[CLS] E1  E[SEP].</td>\n",
       "    </tr>\n",
       "    <tr>\n",
       "      <th>3</th>\n",
       "      <td>0.740903</td>\n",
       "      <td>TokM\\nQuestion Paragraph\\nStart/End Span\\nBERT\\nE[CLS] E1  E[SEP]. EN E1’ . EM’\\nC\\n T1\\n T[SEP].\\n TN\\n T1’ .\\n TM’\\n[CLS] Tok 1  [SEP]. Tok N Tok 1 .</td>\n",
       "    </tr>\n",
       "    <tr>\n",
       "      <th>4</th>\n",
       "      <td>0.738021</td>\n",
       "      <td>Input/Output Representations To make BERT\\nhandle a variety of down-stream tasks, our input\\nrepresentation is able to unambiguously represent\\nboth a single sentence and a pair of sentences\\n(e.g., ⟨Question, Answer ⟩) in one token sequence.</td>\n",
       "    </tr>\n",
       "    <tr>\n",
       "      <th>5</th>\n",
       "      <td>0.733836</td>\n",
       "      <td>Each downstream task has sep-\\narate ﬁne-tuned models, even though they are ini-\\ntialized with the same pre-trained parameters. The\\nquestion-answering example in Figure 1 will serve\\nas a running example for this section.\\nA distinctive feature of BERT is its uniﬁed ar-\\nchitecture across different tasks.</td>\n",
       "    </tr>\n",
       "    <tr>\n",
       "      <th>6</th>\n",
       "      <td>0.731738</td>\n",
       "      <td>BERT\\nE[CLS] E1  E[SEP]. EN E1’ . EM’\\nC\\n T1\\n T[SEP].\\n TN\\n T1’ .\\n TM’\\n[CLS] Tok \\n1\\n [SEP]. Tok \\nN\\nTok \\n1 .</td>\n",
       "    </tr>\n",
       "    <tr>\n",
       "      <th rowspan=\"7\" valign=\"top\">What is Transformer?</th>\n",
       "      <th rowspan=\"2\" valign=\"top\">BERT pre_training of deep bidirectional transformers for language understanding 1810.04805v2.pdf</th>\n",
       "      <th>18</th>\n",
       "      <td>0.668299</td>\n",
       "      <td>For example, the largest Transformer explored in\\nVaswani et al. (2017) is (L=6, H=1024, A=16)\\nwith 100M parameters for the encoder, and the\\nlargest Transformer we have found in the literature\\nis (L=64, H=512, A=2) with 235M parameters\\n(Al-Rfou et al., 2018).</td>\n",
       "    </tr>\n",
       "    <tr>\n",
       "      <th>20</th>\n",
       "      <td>0.657973</td>\n",
       "      <td>former is often referred to as a “Transformer encoder” while\\nthe left-context-only version is referred to as a “Transformer\\ndecoder” since it can be used for text generation.\\nIn order to train a deep bidirectional representa-\\ntion, we simply mask some percentage of the input\\ntokens at random, and then predict those masked\\ntokens.</td>\n",
       "    </tr>\n",
       "    <tr>\n",
       "      <th rowspan=\"5\" valign=\"top\">attention is all you need 1706.03762v7.pdf</th>\n",
       "      <th>14</th>\n",
       "      <td>0.696613</td>\n",
       "      <td>6.2 Model Variations\\nTo evaluate the importance of different components of the Transformer, we varied our base model\\nin different ways, measuring the change in performance on English-to-German translation on the\\n5We used values of 2.8, 3.7, 6.0 and 9.5 TFLOPS for K80, K40, M40 and P100, respectively.\\n8</td>\n",
       "    </tr>\n",
       "    <tr>\n",
       "      <th>15</th>\n",
       "      <td>0.695771</td>\n",
       "      <td>The Transformer allows for significantly more parallelization and can reach a new state of the art in\\ntranslation quality after being trained for as little as twelve hours on eight P100 GPUs.</td>\n",
       "    </tr>\n",
       "    <tr>\n",
       "      <th>16</th>\n",
       "      <td>0.679655</td>\n",
       "      <td>Figure 1: The Transformer - model architecture.\\nThe Transformer follows this overall architecture using stacked self-attention and point-wise, fully\\nconnected layers for both the encoder and decoder, shown in the left and right halves of Figure 1,\\nrespectively.\\n3.1 Encoder and Decoder Stacks\\nEncoder: The encoder is composed of a stack of N = 6 identical layers. Each layer has two\\nsub-layers.</td>\n",
       "    </tr>\n",
       "    <tr>\n",
       "      <th>17</th>\n",
       "      <td>0.674317</td>\n",
       "      <td>End-to-end memory networks are based on a recurrent attention mechanism instead of sequence-\\naligned recurrence and have been shown to perform well on simple-language question answering and\\nlanguage modeling tasks [34].\\nTo the best of our knowledge, however, the Transformer is the first transduction model relying\\nentirely on self-attention to compute representations of its input and output without using sequence-\\naligned RNNs or convolution.</td>\n",
       "    </tr>\n",
       "    <tr>\n",
       "      <th>19</th>\n",
       "      <td>0.662332</td>\n",
       "      <td>7 Conclusion\\nIn this work, we presented the Transformer, the first sequence transduction model based entirely on\\nattention, replacing the recurrent layers most commonly used in encoder-decoder architectures with\\nmulti-headed self-attention.\\nFor translation tasks, the Transformer can be trained significantly faster than architectures based\\non recurrent or convolutional layers.</td>\n",
       "    </tr>\n",
       "    <tr>\n",
       "      <th rowspan=\"7\" valign=\"top\">What is multi-head attention?</th>\n",
       "      <th rowspan=\"7\" valign=\"top\">attention is all you need 1706.03762v7.pdf</th>\n",
       "      <th>7</th>\n",
       "      <td>0.800710</td>\n",
       "      <td>Scaled Dot-Product Attention\\n Multi-Head Attention\\nFigure 2: (left) Scaled Dot-Product Attention. (right) Multi-Head Attention consists of several\\nattention layers running in parallel.\\nof the values, where the weight assigned to each value is computed by a compatibility function of the\\nquery with the corresponding key.</td>\n",
       "    </tr>\n",
       "    <tr>\n",
       "      <th>8</th>\n",
       "      <td>0.784158</td>\n",
       "      <td>3.2.3 Applications of Attention in our Model\\nThe Transformer uses multi-head attention in three different ways:\\n• In \"encoder-decoder attention\" layers, the queries come from the previous decoder layer,\\nand the memory keys and values come from the output of the encoder. This allows every\\nposition in the decoder to attend over all positions in the input sequence.</td>\n",
       "    </tr>\n",
       "    <tr>\n",
       "      <th>9</th>\n",
       "      <td>0.772050</td>\n",
       "      <td>output values. These are concatenated and once again projected, resulting in the final values, as\\ndepicted in Figure 2.\\nMulti-head attention allows the model to jointly attend to information from different representation\\nsubspaces at different positions. With a single attention head, averaging inhibits this.</td>\n",
       "    </tr>\n",
       "    <tr>\n",
       "      <th>10</th>\n",
       "      <td>0.758912</td>\n",
       "      <td>With a single attention head, averaging inhibits this.\\nMultiHead(Q, K, V) = Concat(head1, ...,headh)WO\\nwhere headi = Attention(QWQ\\ni , KWK\\ni , V WV\\ni )\\nWhere the projections are parameter matricesWQ\\ni ∈ Rdmodel×dk , WK\\ni ∈ Rdmodel×dk , WV\\ni ∈ Rdmodel×dv\\nand WO ∈ Rhdv×dmodel .</td>\n",
       "    </tr>\n",
       "    <tr>\n",
       "      <th>11</th>\n",
       "      <td>0.740496</td>\n",
       "      <td>Each layer has two\\nsub-layers. The first is a multi-head self-attention mechanism, and the second is a simple, position-\\nwise fully connected feed-forward network. We employ a residual connection [11] around each of\\nthe two sub-layers, followed by layer normalization [ 1].</td>\n",
       "    </tr>\n",
       "    <tr>\n",
       "      <th>12</th>\n",
       "      <td>0.738943</td>\n",
       "      <td>To counteract this effect, we scale the dot products by 1√dk\\n.\\n3.2.2 Multi-Head Attention\\nInstead of performing a single attention function with dmodel-dimensional keys, values and queries,\\nwe found it beneficial to linearly project the queries, keys and values h times with different, learned\\nlinear projections to dk, dk and dv dimensions, respectively.</td>\n",
       "    </tr>\n",
       "    <tr>\n",
       "      <th>13</th>\n",
       "      <td>0.738749</td>\n",
       "      <td>In this work we employ h = 8 parallel attention layers, or heads. For each of these we use\\ndk = dv = dmodel/h = 64. Due to the reduced dimension of each head, the total computational cost\\nis similar to that of single-head attention with full dimensionality.</td>\n",
       "    </tr>\n",
       "  </tbody>\n",
       "</table>\n",
       "</div>"
      ],
      "text/plain": [
       "                                                                                                                                     scores  \\\n",
       "question                      paper                                                                                                           \n",
       "What is BERT?                 BERT pre_training of deep bidirectional transformers for language understanding 1810.04805v2.pdf 0   0.811123   \n",
       "                                                                                                                               1   0.751915   \n",
       "                                                                                                                               2   0.751781   \n",
       "                                                                                                                               3   0.740903   \n",
       "                                                                                                                               4   0.738021   \n",
       "                                                                                                                               5   0.733836   \n",
       "                                                                                                                               6   0.731738   \n",
       "What is Transformer?          BERT pre_training of deep bidirectional transformers for language understanding 1810.04805v2.pdf 18  0.668299   \n",
       "                                                                                                                               20  0.657973   \n",
       "                              attention is all you need 1706.03762v7.pdf                                                       14  0.696613   \n",
       "                                                                                                                               15  0.695771   \n",
       "                                                                                                                               16  0.679655   \n",
       "                                                                                                                               17  0.674317   \n",
       "                                                                                                                               19  0.662332   \n",
       "What is multi-head attention? attention is all you need 1706.03762v7.pdf                                                       7   0.800710   \n",
       "                                                                                                                               8   0.784158   \n",
       "                                                                                                                               9   0.772050   \n",
       "                                                                                                                               10  0.758912   \n",
       "                                                                                                                               11  0.740496   \n",
       "                                                                                                                               12  0.738943   \n",
       "                                                                                                                               13  0.738749   \n",
       "\n",
       "                                                                                                                                                                                                                                                                                                                                                                                                                                                                                                                                                                                                 text  \n",
       "question                      paper                                                                                                                                                                                                                                                                                                                                                                                                                                                                                                                                                                    \n",
       "What is BERT?                 BERT pre_training of deep bidirectional transformers for language understanding 1810.04805v2.pdf 0                                                                                                                                                                                       BERT is the ﬁrst ﬁne-\\ntuning based representation model that achieves\\nstate-of-the-art performance on a large suite\\nof sentence-level and token-level tasks, outper-\\nforming many task-speciﬁc architectures.\\n• BERT advances the state of the art for eleven\\nNLP tasks.  \n",
       "                                                                                                                               1                                                                                                                                                                    BERT is conceptually simple and empirically\\npowerful. It obtains new state-of-the-art re-\\nsults on eleven natural language processing\\ntasks, including pushing the GLUE score to\\n80.5% (7.7% point absolute improvement),\\nMultiNLI accuracy to 86.7% (4.6% absolute\\nimprovement), SQuAD v1.  \n",
       "                                                                                                                               2                                                                                                                                                                                                                                                                                BERT BERT\\nE[CLS] E1  E[SEP]. EN E1’ . EM’\\nC\\n T1\\n T[SEP].\\n TN\\n T1’ .\\n TM’\\n[CLS] Tok 1  [SEP]. Tok N Tok 1 . TokM\\nQuestion Paragraph\\nStart/End Span\\nBERT\\nE[CLS] E1  E[SEP].  \n",
       "                                                                                                                               3                                                                                                                                                                                                                                                                                                              TokM\\nQuestion Paragraph\\nStart/End Span\\nBERT\\nE[CLS] E1  E[SEP]. EN E1’ . EM’\\nC\\n T1\\n T[SEP].\\n TN\\n T1’ .\\n TM’\\n[CLS] Tok 1  [SEP]. Tok N Tok 1 .  \n",
       "                                                                                                                               4                                                                                                                                                                                                                   Input/Output Representations To make BERT\\nhandle a variety of down-stream tasks, our input\\nrepresentation is able to unambiguously represent\\nboth a single sentence and a pair of sentences\\n(e.g., ⟨Question, Answer ⟩) in one token sequence.  \n",
       "                                                                                                                               5                                                                                                                                                 Each downstream task has sep-\\narate ﬁne-tuned models, even though they are ini-\\ntialized with the same pre-trained parameters. The\\nquestion-answering example in Figure 1 will serve\\nas a running example for this section.\\nA distinctive feature of BERT is its uniﬁed ar-\\nchitecture across different tasks.  \n",
       "                                                                                                                               6                                                                                                                                                                                                                                                                                                                                                BERT\\nE[CLS] E1  E[SEP]. EN E1’ . EM’\\nC\\n T1\\n T[SEP].\\n TN\\n T1’ .\\n TM’\\n[CLS] Tok \\n1\\n [SEP]. Tok \\nN\\nTok \\n1 .  \n",
       "What is Transformer?          BERT pre_training of deep bidirectional transformers for language understanding 1810.04805v2.pdf 18                                                                                                                                                                                             For example, the largest Transformer explored in\\nVaswani et al. (2017) is (L=6, H=1024, A=16)\\nwith 100M parameters for the encoder, and the\\nlargest Transformer we have found in the literature\\nis (L=64, H=512, A=2) with 235M parameters\\n(Al-Rfou et al., 2018).  \n",
       "                                                                                                                               20                                                                                                                   former is often referred to as a “Transformer encoder” while\\nthe left-context-only version is referred to as a “Transformer\\ndecoder” since it can be used for text generation.\\nIn order to train a deep bidirectional representa-\\ntion, we simply mask some percentage of the input\\ntokens at random, and then predict those masked\\ntokens.  \n",
       "                              attention is all you need 1706.03762v7.pdf                                                       14                                                                                                                                                 6.2 Model Variations\\nTo evaluate the importance of different components of the Transformer, we varied our base model\\nin different ways, measuring the change in performance on English-to-German translation on the\\n5We used values of 2.8, 3.7, 6.0 and 9.5 TFLOPS for K80, K40, M40 and P100, respectively.\\n8  \n",
       "                                                                                                                               15                                                                                                                                                                                                                                                                    The Transformer allows for significantly more parallelization and can reach a new state of the art in\\ntranslation quality after being trained for as little as twelve hours on eight P100 GPUs.  \n",
       "                                                                                                                               16                                                    Figure 1: The Transformer - model architecture.\\nThe Transformer follows this overall architecture using stacked self-attention and point-wise, fully\\nconnected layers for both the encoder and decoder, shown in the left and right halves of Figure 1,\\nrespectively.\\n3.1 Encoder and Decoder Stacks\\nEncoder: The encoder is composed of a stack of N = 6 identical layers. Each layer has two\\nsub-layers.  \n",
       "                                                                                                                               17  End-to-end memory networks are based on a recurrent attention mechanism instead of sequence-\\naligned recurrence and have been shown to perform well on simple-language question answering and\\nlanguage modeling tasks [34].\\nTo the best of our knowledge, however, the Transformer is the first transduction model relying\\nentirely on self-attention to compute representations of its input and output without using sequence-\\naligned RNNs or convolution.  \n",
       "                                                                                                                               19                                                                     7 Conclusion\\nIn this work, we presented the Transformer, the first sequence transduction model based entirely on\\nattention, replacing the recurrent layers most commonly used in encoder-decoder architectures with\\nmulti-headed self-attention.\\nFor translation tasks, the Transformer can be trained significantly faster than architectures based\\non recurrent or convolutional layers.  \n",
       "What is multi-head attention? attention is all you need 1706.03762v7.pdf                                                       7                                                                                                                                Scaled Dot-Product Attention\\n Multi-Head Attention\\nFigure 2: (left) Scaled Dot-Product Attention. (right) Multi-Head Attention consists of several\\nattention layers running in parallel.\\nof the values, where the weight assigned to each value is computed by a compatibility function of the\\nquery with the corresponding key.  \n",
       "                                                                                                                               8                                                                                     3.2.3 Applications of Attention in our Model\\nThe Transformer uses multi-head attention in three different ways:\\n• In \"encoder-decoder attention\" layers, the queries come from the previous decoder layer,\\nand the memory keys and values come from the output of the encoder. This allows every\\nposition in the decoder to attend over all positions in the input sequence.  \n",
       "                                                                                                                               9                                                                                                                                             output values. These are concatenated and once again projected, resulting in the final values, as\\ndepicted in Figure 2.\\nMulti-head attention allows the model to jointly attend to information from different representation\\nsubspaces at different positions. With a single attention head, averaging inhibits this.  \n",
       "                                                                                                                               10                                                                                                                                                                      With a single attention head, averaging inhibits this.\\nMultiHead(Q, K, V) = Concat(head1, ...,headh)WO\\nwhere headi = Attention(QWQ\\ni , KWK\\ni , V WV\\ni )\\nWhere the projections are parameter matricesWQ\\ni ∈ Rdmodel×dk , WK\\ni ∈ Rdmodel×dk , WV\\ni ∈ Rdmodel×dv\\nand WO ∈ Rhdv×dmodel .  \n",
       "                                                                                                                               11                                                                                                                                                                                Each layer has two\\nsub-layers. The first is a multi-head self-attention mechanism, and the second is a simple, position-\\nwise fully connected feed-forward network. We employ a residual connection [11] around each of\\nthe two sub-layers, followed by layer normalization [ 1].  \n",
       "                                                                                                                               12                                                                                            To counteract this effect, we scale the dot products by 1√dk\\n.\\n3.2.2 Multi-Head Attention\\nInstead of performing a single attention function with dmodel-dimensional keys, values and queries,\\nwe found it beneficial to linearly project the queries, keys and values h times with different, learned\\nlinear projections to dk, dk and dv dimensions, respectively.  \n",
       "                                                                                                                               13                                                                                                                                                                                                 In this work we employ h = 8 parallel attention layers, or heads. For each of these we use\\ndk = dv = dmodel/h = 64. Due to the reduced dimension of each head, the total computational cost\\nis similar to that of single-head attention with full dimensionality.  "
      ]
     },
     "execution_count": 193,
     "metadata": {},
     "output_type": "execute_result"
    }
   ],
   "source": [
    "merged_dfs"
   ]
  },
  {
   "cell_type": "code",
   "execution_count": null,
   "id": "b8dc51b8-9d78-4588-a607-cb6a52a33d65",
   "metadata": {},
   "outputs": [],
   "source": []
  },
  {
   "cell_type": "code",
   "execution_count": null,
   "id": "2667ef7d-136a-4c57-93a6-9943e9b788c6",
   "metadata": {},
   "outputs": [],
   "source": []
  },
  {
   "cell_type": "code",
   "execution_count": null,
   "id": "99b31c68-c701-4f3f-b908-fe8c8b8d15a3",
   "metadata": {},
   "outputs": [],
   "source": []
  },
  {
   "cell_type": "code",
   "execution_count": null,
   "id": "5863df96-aa99-4506-b39f-96cf21f85fac",
   "metadata": {},
   "outputs": [],
   "source": []
  },
  {
   "cell_type": "code",
   "execution_count": null,
   "id": "a3059c3b-a7bb-4d23-8c52-fdd8dd74a2b2",
   "metadata": {},
   "outputs": [],
   "source": []
  },
  {
   "cell_type": "code",
   "execution_count": null,
   "id": "a6d3311d-25a6-4075-9f55-6f4d597f3fec",
   "metadata": {},
   "outputs": [],
   "source": []
  },
  {
   "cell_type": "code",
   "execution_count": null,
   "id": "df060f60-f574-45a8-8806-1badf01cb53c",
   "metadata": {},
   "outputs": [],
   "source": []
  }
 ],
 "metadata": {
  "kernelspec": {
   "display_name": "Python 3 (ipykernel)",
   "language": "python",
   "name": "python3"
  },
  "language_info": {
   "codemirror_mode": {
    "name": "ipython",
    "version": 3
   },
   "file_extension": ".py",
   "mimetype": "text/x-python",
   "name": "python",
   "nbconvert_exporter": "python",
   "pygments_lexer": "ipython3",
   "version": "3.8.19"
  }
 },
 "nbformat": 4,
 "nbformat_minor": 5
}
